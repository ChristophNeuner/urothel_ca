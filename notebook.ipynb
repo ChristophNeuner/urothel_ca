{
 "cells": [
  {
   "cell_type": "markdown",
   "metadata": {},
   "source": [
    "# Imports"
   ]
  },
  {
   "cell_type": "code",
   "execution_count": 2,
   "metadata": {},
   "outputs": [],
   "source": [
    "import os\n",
    "os.environ[\"CUDA_DEVICE_ORDER\"]=\"PCI_BUS_ID\"\n",
    "os.environ[\"CUDA_VISIBLE_DEVICES\"]=\"0\"\n",
    "\n",
    "%reload_ext autoreload\n",
    "%autoreload 2\n",
    "#%matplotlib notebook\n",
    "%matplotlib inline\n",
    "\n",
    "from typing import List, Tuple, Union, Sequence\n",
    "\n",
    "import sys\n",
    "import os\n",
    "\n",
    "#https://github.com/FAU-DLM/wsi_processing_pipeline\n",
    "sys.path.append(\"../\")\n",
    "sys.path.append(\"../wsi_processing_pipeline/\")\n",
    "sys.path.append(\"../wsi_processing_pipeline/tile_extraction\")\n",
    "sys.path.append(\"../wsi_processing_pipeline/shared\")\n",
    "import wsi_processing_pipeline\n",
    "import tile_extraction\n",
    "import preprocessing\n",
    "import postprocessing\n",
    "import shared\n",
    "from wsi_processing_pipeline.shared import roi\n",
    "from wsi_processing_pipeline.tile_extraction import tiles, util, slide, filter\n",
    "from wsi_processing_pipeline.preprocessing import *\n",
    "import wsi_processing_pipeline.preprocessing.files_getter\n",
    "import wsi_processing_pipeline.preprocessing.name_getter\n",
    "from wsi_processing_pipeline.preprocessing.name_getter import NameGetter\n",
    "from wsi_processing_pipeline.preprocessing.tile_image_block import TileImage, label_tl_image, tile_image, TileTransform\n",
    "from wsi_processing_pipeline.preprocessing.tile_image_block import show_batch, TileImageBlock\n",
    "from shared.patient_manager import PatientManager\n",
    "from shared.enums import DatasetType, EvaluationLevel\n",
    "\n",
    "sys.path.append('../models-pytorch/pretrained-models.pytorch')\n",
    "import pretrainedmodels\n",
    "from pretrainedmodels import *\n",
    "\n",
    "\n",
    "import fastai\n",
    "from fastai.vision.all import *\n",
    "from typing import Dict\n",
    "import pandas\n",
    "import pandas as pd\n",
    "import numpy as np\n",
    "import os\n",
    "import torch\n",
    "torch.backends.cudnn.benchmark=True\n",
    "import torchvision\n",
    "from torchvision.models import *\n",
    "from torchsummary import summary\n",
    "from functools import partial, update_wrapper\n",
    "from tqdm import tqdm_notebook as tqdm\n",
    "import matplotlib.image as mpimg\n",
    "import shutil\n",
    "\n",
    "# to fix python OSError: broken data stream when reading image file\n",
    "# https://stackoverflow.com/questions/42462431/oserror-broken-data-stream-when-reading-image-file\n",
    "from PIL import Image, ImageFile\n",
    "ImageFile.LOAD_TRUNCATED_IMAGES = True\n",
    "\n",
    "import sklearn\n",
    "from sklearn.metrics import roc_curve, auc, roc_auc_score\n",
    "from sklearn.model_selection import train_test_split\n",
    "from sklearn.model_selection import StratifiedKFold, KFold\n",
    "from tqdm.notebook import tqdm\n",
    "\n",
    "import pathlib\n",
    "from pathlib import Path\n",
    "Path.ls = lambda x: [p for p in list(x.iterdir()) if '.ipynb_checkpoints' not in p.name]\n",
    "\n",
    "\n",
    "from concurrent.futures import as_completed, ProcessPoolExecutor\n",
    "from tqdm import tqdm\n",
    "import json\n",
    "\n",
    "#against DecompressionBombWarning\n",
    "Image.MAX_IMAGE_PIXELS = 10000000000   \n",
    "\n",
    "PATH = Path('/home/Deep_Learner/private/datasets/urothel_ca')\n",
    "PATH_WSIS = PATH/'Neue_Scans_Urothelkarzinome'\n",
    "PATH_ROIS = PATH/'Rois'\n",
    "PATH_EXCEL_SHEET = PATH/'Data_Sheet_MIER_22112021.xlsx'\n",
    "\n",
    "\n",
    "seed = 42\n",
    "np.random.seed(seed)"
   ]
  },
  {
   "cell_type": "markdown",
   "metadata": {},
   "source": [
    "# Data"
   ]
  },
  {
   "cell_type": "code",
   "execution_count": 3,
   "metadata": {},
   "outputs": [
    {
     "data": {
      "text/plain": [
       "239"
      ]
     },
     "execution_count": 3,
     "metadata": {},
     "output_type": "execute_result"
    }
   ],
   "source": [
    "wsi_mrxs_paths = [p for p in PATH_WSIS.ls() if p.suffix == '.mrxs']\n",
    "len(wsi_mrxs_paths)"
   ]
  },
  {
   "cell_type": "code",
   "execution_count": 4,
   "metadata": {},
   "outputs": [
    {
     "data": {
      "text/plain": [
       "239"
      ]
     },
     "execution_count": 4,
     "metadata": {},
     "output_type": "execute_result"
    }
   ],
   "source": [
    "wsi_dir_paths = [p for p in PATH_WSIS.ls() if p.suffix == '']\n",
    "len(wsi_dir_paths)"
   ]
  },
  {
   "cell_type": "code",
   "execution_count": 5,
   "metadata": {},
   "outputs": [
    {
     "data": {
      "text/plain": [
       "233"
      ]
     },
     "execution_count": 5,
     "metadata": {},
     "output_type": "execute_result"
    }
   ],
   "source": [
    "json_paths = PATH_ROIS.ls()\n",
    "len(json_paths)"
   ]
  },
  {
   "cell_type": "markdown",
   "metadata": {
    "heading_collapsed": true
   },
   "source": [
    "## rename files and directories"
   ]
  },
  {
   "cell_type": "markdown",
   "metadata": {
    "hidden": true
   },
   "source": [
    "### json paths"
   ]
  },
  {
   "cell_type": "code",
   "execution_count": 6,
   "metadata": {
    "hidden": true
   },
   "outputs": [
    {
     "data": {
      "text/plain": [
       "Path('/home/Deep_Learner/private/datasets/urothel_ca/Rois/MIER_237_M4.json')"
      ]
     },
     "execution_count": 6,
     "metadata": {},
     "output_type": "execute_result"
    }
   ],
   "source": [
    "p = json_paths[0]; p"
   ]
  },
  {
   "cell_type": "code",
   "execution_count": 7,
   "metadata": {
    "hidden": true
   },
   "outputs": [
    {
     "data": {
      "text/plain": [
       "'MIER_237_M4.json'"
      ]
     },
     "execution_count": 7,
     "metadata": {},
     "output_type": "execute_result"
    }
   ],
   "source": [
    "new_name = p.name.replace('%20', '_');new_name"
   ]
  },
  {
   "cell_type": "code",
   "execution_count": 8,
   "metadata": {
    "hidden": true
   },
   "outputs": [
    {
     "data": {
      "text/plain": [
       "Path('/home/Deep_Learner/private/datasets/urothel_ca/Rois/MIER_237_M4.json')"
      ]
     },
     "execution_count": 8,
     "metadata": {},
     "output_type": "execute_result"
    }
   ],
   "source": [
    "new_p = p.parent/new_name; new_p"
   ]
  },
  {
   "cell_type": "code",
   "execution_count": 9,
   "metadata": {
    "hidden": true
   },
   "outputs": [],
   "source": [
    "p.replace(new_p)"
   ]
  },
  {
   "cell_type": "code",
   "execution_count": 10,
   "metadata": {
    "hidden": true
   },
   "outputs": [],
   "source": [
    "for p in json_paths:\n",
    "    new_name = p.name.replace('%20', '_')\n",
    "    new_p = p.parent/new_name\n",
    "    p.replace(new_p)"
   ]
  },
  {
   "cell_type": "markdown",
   "metadata": {
    "hidden": true
   },
   "source": [
    "### mrxs files"
   ]
  },
  {
   "cell_type": "code",
   "execution_count": 11,
   "metadata": {
    "hidden": true
   },
   "outputs": [],
   "source": [
    "for p in wsi_mrxs_paths:\n",
    "    new_name = p.name.replace(' ', '_')\n",
    "    new_p = p.parent/new_name\n",
    "    p.replace(new_p)"
   ]
  },
  {
   "cell_type": "markdown",
   "metadata": {
    "hidden": true
   },
   "source": [
    "### corresponding mrxs dirs"
   ]
  },
  {
   "cell_type": "code",
   "execution_count": 44,
   "metadata": {
    "hidden": true
   },
   "outputs": [],
   "source": [
    "for p in wsi_dir_paths:\n",
    "    new_name = p.name.replace(' ', '_')\n",
    "    new_p = p.parent/new_name\n",
    "    p.replace(new_p)"
   ]
  },
  {
   "cell_type": "markdown",
   "metadata": {},
   "source": [
    "## wsi path to json file mapping"
   ]
  },
  {
   "cell_type": "code",
   "execution_count": 12,
   "metadata": {},
   "outputs": [
    {
     "data": {
      "text/plain": [
       "'MIER_140_M17'"
      ]
     },
     "execution_count": 12,
     "metadata": {},
     "output_type": "execute_result"
    }
   ],
   "source": [
    "wsi_mrxs_paths[0].stem"
   ]
  },
  {
   "cell_type": "code",
   "execution_count": 13,
   "metadata": {},
   "outputs": [],
   "source": [
    "def find_json_path(mrxs_path:pathlib.Path)->pathlib.Path:\n",
    "    stem = mrxs_path.stem\n",
    "    for jp in json_paths:\n",
    "        if(jp.stem == stem):\n",
    "            return jp\n",
    "    return None"
   ]
  },
  {
   "cell_type": "code",
   "execution_count": 14,
   "metadata": {},
   "outputs": [],
   "source": [
    "wsi_mrxs_to_json_path = {}\n",
    "wsi_mrxs_paths_without_corresponding_json_file = []\n",
    "for mrxs_p in wsi_mrxs_paths:\n",
    "    jp = find_json_path(mrxs_path=mrxs_p)\n",
    "    if(jp is not None):\n",
    "        wsi_mrxs_to_json_path[mrxs_p] = jp\n",
    "    else:\n",
    "        wsi_mrxs_paths_without_corresponding_json_file.append(mrxs_p)"
   ]
  },
  {
   "cell_type": "code",
   "execution_count": 15,
   "metadata": {},
   "outputs": [
    {
     "data": {
      "text/plain": [
       "233"
      ]
     },
     "execution_count": 15,
     "metadata": {},
     "output_type": "execute_result"
    }
   ],
   "source": [
    "len(wsi_mrxs_to_json_path)"
   ]
  },
  {
   "cell_type": "code",
   "execution_count": 16,
   "metadata": {},
   "outputs": [
    {
     "data": {
      "text/plain": [
       "6"
      ]
     },
     "execution_count": 16,
     "metadata": {},
     "output_type": "execute_result"
    }
   ],
   "source": [
    "len(wsi_mrxs_paths_without_corresponding_json_file)"
   ]
  },
  {
   "cell_type": "code",
   "execution_count": 17,
   "metadata": {},
   "outputs": [
    {
     "data": {
      "text/plain": [
       "[Path('/home/Deep_Learner/private/datasets/urothel_ca/Neue_Scans_Urothelkarzinome/MIER_122_TUR1.mrxs'),\n",
       " Path('/home/Deep_Learner/private/datasets/urothel_ca/Neue_Scans_Urothelkarzinome/MIER_153_TUR1.mrxs'),\n",
       " Path('/home/Deep_Learner/private/datasets/urothel_ca/Neue_Scans_Urothelkarzinome/MIER_205_A.mrxs'),\n",
       " Path('/home/Deep_Learner/private/datasets/urothel_ca/Neue_Scans_Urothelkarzinome/MIER_119_D.mrxs'),\n",
       " Path('/home/Deep_Learner/private/datasets/urothel_ca/Neue_Scans_Urothelkarzinome/MIER_106_M18.mrxs'),\n",
       " Path('/home/Deep_Learner/private/datasets/urothel_ca/Neue_Scans_Urothelkarzinome/MIER_118_B.mrxs')]"
      ]
     },
     "execution_count": 17,
     "metadata": {},
     "output_type": "execute_result"
    }
   ],
   "source": [
    "wsi_mrxs_paths_without_corresponding_json_file"
   ]
  },
  {
   "cell_type": "markdown",
   "metadata": {},
   "source": [
    "## filter out stroma rois"
   ]
  },
  {
   "cell_type": "code",
   "execution_count": 18,
   "metadata": {},
   "outputs": [
    {
     "data": {
      "text/plain": [
       "Path('/home/Deep_Learner/private/datasets/urothel_ca/Rois/MIER_237_M4.json')"
      ]
     },
     "execution_count": 18,
     "metadata": {},
     "output_type": "execute_result"
    }
   ],
   "source": [
    "jp = json_paths[0];jp"
   ]
  },
  {
   "cell_type": "code",
   "execution_count": 19,
   "metadata": {},
   "outputs": [],
   "source": [
    "class __PolygonHelper:\n",
    "    def __init__(self, level:int, vertices:Sequence[Tuple[float, float]]):\n",
    "        self.level = level\n",
    "        self.vertices = vertices\n",
    "def get_polygons_from_json(json_path:pathlib.Path)->List[__PolygonHelper]:\n",
    "    \"\"\"\n",
    "    Reads the json file and returns a list of __PolygonHelper objects. \n",
    "    This should be a specialized function for the specific structure of your json files.\n",
    "    \n",
    "    Arguments:\n",
    "        json_path: path to json file\n",
    "        \n",
    "    Returns:\n",
    "        List of __PolygonHelper objects\n",
    "    \"\"\"\n",
    "    polygons = []\n",
    "    with open(json_path) as json_file:\n",
    "        for annotation in json.load(json_file):\n",
    "            #skip rois that contain stroma\n",
    "            if(annotation[\"properties\"][\"classification\"][\"name\"] == \"Tumorstroma\"):\n",
    "                continue\n",
    "\n",
    "            if(annotation[\"geometry\"][\"type\"] == 'MultiPolygon'):\n",
    "                multi_polygon_vertices = annotation[\"geometry\"][\"coordinates\"]\n",
    "                #print(f'Multi Polygon: {np.array(multi_polygon_vertices).squeeze().shape}')\n",
    "                ##QuPath produces Polygons and Multipolygons \n",
    "                ##(see difference here: https://gis.stackexchange.com/questions/225368/understanding-difference-between-polygon-and-\n",
    "                ##multipolygon-for-shapefiles-in-qgis/225373)\n",
    "                ##This loop separates Multipolygons into individual Polygons\n",
    "                for sub_polygon_vertices in multi_polygon_vertices:\n",
    "                    sub_polygon_vertices_array = np.array(sub_polygon_vertices, dtype=object).squeeze()\n",
    "                    if(len(sub_polygon_vertices_array.shape) == 2 and sub_polygon_vertices_array.shape[1] == 2):\n",
    "                        #print(f'then: {sub_polygon_vertices_array.shape}')\n",
    "                        polygons.append(__PolygonHelper(level=0, vertices=sub_polygon_vertices_array))\n",
    "                    else:\n",
    "                        for elem in sub_polygon_vertices_array:\n",
    "                            elem_array = np.array(elem).squeeze()\n",
    "                            #print(f'else: {elem_array.shape}')\n",
    "                            polygons.append(__PolygonHelper(level=0, vertices=elem_array))\n",
    "                \n",
    "            elif(annotation[\"geometry\"][\"type\"] == 'Polygon'):\n",
    "                vertices = annotation[\"geometry\"][\"coordinates\"]\n",
    "                #print(f'Polygon: {np.array(vertices).squeeze().shape}')\n",
    "                polygons.append(__PolygonHelper(level=0, vertices=np.array(vertices, dtype=object).squeeze()))\n",
    "            else:\n",
    "                assert False\n",
    "    return polygons"
   ]
  },
  {
   "cell_type": "markdown",
   "metadata": {},
   "source": [
    "## get rois for each wsi path"
   ]
  },
  {
   "cell_type": "code",
   "execution_count": 20,
   "metadata": {},
   "outputs": [
    {
     "ename": "TypeError",
     "evalue": "get_list_of_RegionOfInterestPolygon_from_json() missing 1 required positional argument: 'json_path'",
     "output_type": "error",
     "traceback": [
      "\u001b[0;31m---------------------------------------------------------------------------\u001b[0m",
      "\u001b[0;31mTypeError\u001b[0m                                 Traceback (most recent call last)",
      "\u001b[0;32m<ipython-input-20-5d4f26678e0a>\u001b[0m in \u001b[0;36m<module>\u001b[0;34m\u001b[0m\n\u001b[1;32m      1\u001b[0m \u001b[0;31m#no stroma rois\u001b[0m\u001b[0;34m\u001b[0m\u001b[0;34m\u001b[0m\u001b[0;34m\u001b[0m\u001b[0m\n\u001b[1;32m      2\u001b[0m \u001b[0mwsi_mrxs_path_to_tumor_rois\u001b[0m \u001b[0;34m=\u001b[0m \u001b[0;34m{\u001b[0m\u001b[0;34m}\u001b[0m\u001b[0;34m\u001b[0m\u001b[0;34m\u001b[0m\u001b[0m\n\u001b[0;32m----> 3\u001b[0;31m \u001b[0mroi\u001b[0m\u001b[0;34m.\u001b[0m\u001b[0mget_list_of_RegionOfInterestPolygon_from_json\u001b[0m\u001b[0;34m(\u001b[0m\u001b[0;34m)\u001b[0m\u001b[0;34m\u001b[0m\u001b[0;34m\u001b[0m\u001b[0m\n\u001b[0m",
      "\u001b[0;31mTypeError\u001b[0m: get_list_of_RegionOfInterestPolygon_from_json() missing 1 required positional argument: 'json_path'"
     ]
    }
   ],
   "source": [
    "#no stroma rois\n",
    "wsi_mrxs_path_to_tumor_rois = {}\n",
    "roi.get_list_of_RegionOfInterestPolygon_from_json()"
   ]
  },
  {
   "cell_type": "code",
   "execution_count": null,
   "metadata": {},
   "outputs": [],
   "source": []
  },
  {
   "cell_type": "code",
   "execution_count": null,
   "metadata": {},
   "outputs": [],
   "source": []
  },
  {
   "cell_type": "code",
   "execution_count": null,
   "metadata": {},
   "outputs": [],
   "source": []
  }
 ],
 "metadata": {
  "kernelspec": {
   "display_name": "DLM Py3",
   "language": "python",
   "name": "dlm_py3"
  },
  "language_info": {
   "codemirror_mode": {
    "name": "ipython",
    "version": 3
   },
   "file_extension": ".py",
   "mimetype": "text/x-python",
   "name": "python",
   "nbconvert_exporter": "python",
   "pygments_lexer": "ipython3",
   "version": "3.7.6"
  },
  "toc": {
   "base_numbering": 1,
   "nav_menu": {},
   "number_sections": true,
   "sideBar": true,
   "skip_h1_title": false,
   "title_cell": "Table of Contents",
   "title_sidebar": "Contents",
   "toc_cell": false,
   "toc_position": {
    "height": "calc(100% - 180px)",
    "left": "10px",
    "top": "150px",
    "width": "276.6px"
   },
   "toc_section_display": true,
   "toc_window_display": true
  }
 },
 "nbformat": 4,
 "nbformat_minor": 4
}
