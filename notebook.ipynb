{
 "cells": [
  {
   "cell_type": "markdown",
   "metadata": {},
   "source": [
    "# Imports"
   ]
  },
  {
   "cell_type": "code",
   "execution_count": 2,
   "metadata": {},
   "outputs": [],
   "source": [
    "import os\n",
    "os.environ[\"CUDA_DEVICE_ORDER\"]=\"PCI_BUS_ID\"\n",
    "os.environ[\"CUDA_VISIBLE_DEVICES\"]=\"0\"\n",
    "\n",
    "%reload_ext autoreload\n",
    "%autoreload 2\n",
    "#%matplotlib notebook\n",
    "%matplotlib inline\n",
    "\n",
    "from typing import List, Tuple, Union, Sequence\n",
    "\n",
    "import sys\n",
    "import os\n",
    "\n",
    "#https://github.com/FAU-DLM/wsi_processing_pipeline\n",
    "sys.path.append(\"../\")\n",
    "sys.path.append(\"../wsi_processing_pipeline/\")\n",
    "sys.path.append(\"../wsi_processing_pipeline/tile_extraction\")\n",
    "sys.path.append(\"../wsi_processing_pipeline/shared\")\n",
    "import wsi_processing_pipeline\n",
    "import tile_extraction\n",
    "import preprocessing\n",
    "import postprocessing\n",
    "import shared\n",
    "from wsi_processing_pipeline.shared import roi\n",
    "from wsi_processing_pipeline.tile_extraction import tiles, util, slide, filter\n",
    "from wsi_processing_pipeline.preprocessing import *\n",
    "import wsi_processing_pipeline.preprocessing.files_getter\n",
    "import wsi_processing_pipeline.preprocessing.name_getter\n",
    "from wsi_processing_pipeline.preprocessing.name_getter import NameGetter\n",
    "from wsi_processing_pipeline.preprocessing.tile_image_block import TileImage, label_tl_image, tile_image, TileTransform\n",
    "from wsi_processing_pipeline.preprocessing.tile_image_block import show_batch, TileImageBlock\n",
    "from shared.patient_manager import PatientManager\n",
    "from shared.enums import DatasetType, EvaluationLevel\n",
    "\n",
    "sys.path.append('../models-pytorch/pretrained-models.pytorch')\n",
    "import pretrainedmodels\n",
    "from pretrainedmodels import *\n",
    "\n",
    "import PIL\n",
    "\n",
    "\n",
    "import fastai\n",
    "from fastai.vision.all import *\n",
    "from typing import Dict\n",
    "import pandas\n",
    "import pandas as pd\n",
    "import numpy\n",
    "import numpy as np\n",
    "import os\n",
    "import torch\n",
    "torch.backends.cudnn.benchmark=True\n",
    "import torchvision\n",
    "from torchvision.models import *\n",
    "from torchsummary import summary\n",
    "from functools import partial, update_wrapper\n",
    "from tqdm import tqdm_notebook as tqdm\n",
    "import matplotlib.image as mpimg\n",
    "import shutil\n",
    "\n",
    "# to fix python OSError: broken data stream when reading image file\n",
    "# https://stackoverflow.com/questions/42462431/oserror-broken-data-stream-when-reading-image-file\n",
    "from PIL import Image, ImageFile\n",
    "ImageFile.LOAD_TRUNCATED_IMAGES = True\n",
    "\n",
    "import sklearn\n",
    "from sklearn.metrics import roc_curve, auc, roc_auc_score\n",
    "from sklearn.model_selection import train_test_split\n",
    "from sklearn.model_selection import StratifiedKFold, KFold\n",
    "from tqdm.notebook import tqdm\n",
    "\n",
    "import pathlib\n",
    "from pathlib import Path\n",
    "Path.ls = lambda x: [p for p in list(x.iterdir()) if '.ipynb_checkpoints' not in p.name]\n",
    "\n",
    "\n",
    "from concurrent.futures import as_completed, ProcessPoolExecutor\n",
    "from tqdm import tqdm\n",
    "import json\n",
    "\n",
    "#against DecompressionBombWarning\n",
    "Image.MAX_IMAGE_PIXELS = 10000000000   \n",
    "\n",
    "PATH = Path('/home/Deep_Learner/private/datasets/urothel_ca')\n",
    "PATH_WSIS = PATH/'Neue_Scans_Urothelkarzinome'\n",
    "#PATH_ROIS = PATH/'Rois_Christoph'\n",
    "PATH_ROIS = PATH/'Rois_Samir'\n",
    "PATH_ROIS_ADJUSTED = PATH/'Rois_Samir_adjusted'\n",
    "PATH_EXCEL_SHEET = PATH/'Data_Sheet_MIER_22112021.xlsx'\n",
    "\n",
    "\n",
    "seed = 42\n",
    "np.random.seed(seed)"
   ]
  },
  {
   "cell_type": "markdown",
   "metadata": {},
   "source": [
    "# Data"
   ]
  },
  {
   "cell_type": "code",
   "execution_count": 3,
   "metadata": {
    "scrolled": true
   },
   "outputs": [
    {
     "data": {
      "text/plain": [
       "239"
      ]
     },
     "execution_count": 3,
     "metadata": {},
     "output_type": "execute_result"
    }
   ],
   "source": [
    "wsi_mrxs_paths = [p for p in PATH_WSIS.ls() if p.suffix == '.mrxs']\n",
    "len(wsi_mrxs_paths)"
   ]
  },
  {
   "cell_type": "code",
   "execution_count": 4,
   "metadata": {},
   "outputs": [
    {
     "data": {
      "text/plain": [
       "239"
      ]
     },
     "execution_count": 4,
     "metadata": {},
     "output_type": "execute_result"
    }
   ],
   "source": [
    "wsi_dir_paths = [p for p in PATH_WSIS.ls() if p.suffix == '']\n",
    "len(wsi_dir_paths)"
   ]
  },
  {
   "cell_type": "code",
   "execution_count": 5,
   "metadata": {},
   "outputs": [
    {
     "data": {
      "text/plain": [
       "233"
      ]
     },
     "execution_count": 5,
     "metadata": {},
     "output_type": "execute_result"
    }
   ],
   "source": [
    "json_paths = PATH_ROIS.ls()\n",
    "len(json_paths)"
   ]
  },
  {
   "cell_type": "markdown",
   "metadata": {
    "heading_collapsed": true
   },
   "source": [
    "## rename files and directories"
   ]
  },
  {
   "cell_type": "markdown",
   "metadata": {
    "hidden": true
   },
   "source": [
    "### json paths"
   ]
  },
  {
   "cell_type": "code",
   "execution_count": 45,
   "metadata": {
    "hidden": true
   },
   "outputs": [
    {
     "data": {
      "text/plain": [
       "Path('/home/Deep_Learner/private/datasets/urothel_ca/Rois_Christoph/MIER_3_D.json')"
      ]
     },
     "execution_count": 45,
     "metadata": {},
     "output_type": "execute_result"
    }
   ],
   "source": [
    "p = json_paths[0]; p"
   ]
  },
  {
   "cell_type": "code",
   "execution_count": 46,
   "metadata": {
    "hidden": true
   },
   "outputs": [
    {
     "data": {
      "text/plain": [
       "'MIER_3_D.json'"
      ]
     },
     "execution_count": 46,
     "metadata": {},
     "output_type": "execute_result"
    }
   ],
   "source": [
    "new_name = p.name.replace('%20', '_');new_name"
   ]
  },
  {
   "cell_type": "code",
   "execution_count": 47,
   "metadata": {
    "hidden": true
   },
   "outputs": [
    {
     "data": {
      "text/plain": [
       "Path('/home/Deep_Learner/private/datasets/urothel_ca/Rois_Christoph/MIER_3_D.json')"
      ]
     },
     "execution_count": 47,
     "metadata": {},
     "output_type": "execute_result"
    }
   ],
   "source": [
    "new_p = p.parent/new_name; new_p"
   ]
  },
  {
   "cell_type": "code",
   "execution_count": 48,
   "metadata": {
    "hidden": true
   },
   "outputs": [],
   "source": [
    "p.replace(new_p)"
   ]
  },
  {
   "cell_type": "code",
   "execution_count": 49,
   "metadata": {
    "hidden": true
   },
   "outputs": [],
   "source": [
    "for p in json_paths:\n",
    "    new_name = p.name.replace('%20', '_')\n",
    "    new_p = p.parent/new_name\n",
    "    p.replace(new_p)"
   ]
  },
  {
   "cell_type": "markdown",
   "metadata": {
    "hidden": true
   },
   "source": [
    "### mrxs files"
   ]
  },
  {
   "cell_type": "code",
   "execution_count": 11,
   "metadata": {
    "hidden": true
   },
   "outputs": [],
   "source": [
    "for p in wsi_mrxs_paths:\n",
    "    new_name = p.name.replace(' ', '_')\n",
    "    new_p = p.parent/new_name\n",
    "    p.replace(new_p)"
   ]
  },
  {
   "cell_type": "markdown",
   "metadata": {
    "hidden": true
   },
   "source": [
    "### corresponding mrxs dirs"
   ]
  },
  {
   "cell_type": "code",
   "execution_count": 44,
   "metadata": {
    "hidden": true
   },
   "outputs": [],
   "source": [
    "for p in wsi_dir_paths:\n",
    "    new_name = p.name.replace(' ', '_')\n",
    "    new_p = p.parent/new_name\n",
    "    p.replace(new_p)"
   ]
  },
  {
   "cell_type": "markdown",
   "metadata": {},
   "source": [
    "## get rois for each wsi path"
   ]
  },
  {
   "cell_type": "markdown",
   "metadata": {},
   "source": [
    "### wsi path to json file mapping"
   ]
  },
  {
   "cell_type": "code",
   "execution_count": 6,
   "metadata": {},
   "outputs": [],
   "source": [
    "def find_json_path(mrxs_path:pathlib.Path)->pathlib.Path:\n",
    "    stem = mrxs_path.stem\n",
    "    for jp in json_paths:\n",
    "        if(jp.stem == stem):\n",
    "            return jp\n",
    "    return None"
   ]
  },
  {
   "cell_type": "code",
   "execution_count": 7,
   "metadata": {},
   "outputs": [],
   "source": [
    "wsi_mrxs_to_json_path = {}\n",
    "wsi_mrxs_paths_without_corresponding_json_file = []\n",
    "for mrxs_p in wsi_mrxs_paths:\n",
    "    jp = find_json_path(mrxs_path=mrxs_p)\n",
    "    if(jp is not None):\n",
    "        wsi_mrxs_to_json_path[mrxs_p] = jp\n",
    "    else:\n",
    "        wsi_mrxs_paths_without_corresponding_json_file.append(mrxs_p)"
   ]
  },
  {
   "cell_type": "code",
   "execution_count": 8,
   "metadata": {},
   "outputs": [
    {
     "data": {
      "text/plain": [
       "233"
      ]
     },
     "execution_count": 8,
     "metadata": {},
     "output_type": "execute_result"
    }
   ],
   "source": [
    "len(wsi_mrxs_to_json_path)"
   ]
  },
  {
   "cell_type": "code",
   "execution_count": 9,
   "metadata": {},
   "outputs": [
    {
     "data": {
      "text/plain": [
       "6"
      ]
     },
     "execution_count": 9,
     "metadata": {},
     "output_type": "execute_result"
    }
   ],
   "source": [
    "len(wsi_mrxs_paths_without_corresponding_json_file)"
   ]
  },
  {
   "cell_type": "markdown",
   "metadata": {},
   "source": [
    "### custom function that creates PolygonHelper objects from a given json file with the roi coordinates"
   ]
  },
  {
   "cell_type": "code",
   "execution_count": 10,
   "metadata": {},
   "outputs": [],
   "source": [
    "class __PolygonHelper:\n",
    "    def __init__(self, level:int, vertices:Sequence[Tuple[float, float]]):\n",
    "        self.level = level\n",
    "        self.vertices = vertices\n",
    "\n",
    "def get_polygons_from_json(json_path:pathlib.Path)->List[__PolygonHelper]:\n",
    "    \"\"\"\n",
    "    Reads the json file and returns a list of __PolygonHelper objects. \n",
    "    This should be a specialized function for the specific structure of your json files.\n",
    "    \n",
    "    Arguments:\n",
    "        json_path: path to json file\n",
    "        \n",
    "    Returns:\n",
    "        List of __PolygonHelper objects\n",
    "    \"\"\"\n",
    "    polygons = []\n",
    "    with open(json_path) as json_file:\n",
    "        for i, annotation in enumerate(json.load(json_file)):\n",
    "            #some annotations do not have a \"classification\" prop\n",
    "            # => just skip them\n",
    "            try:\n",
    "                annotation[\"properties\"][\"classification\"]\n",
    "            except KeyError as ke:\n",
    "                print(ke)\n",
    "                print(f'annotation num: {i}')\n",
    "                continue\n",
    "                \n",
    "            #skip rois that are not classified as Tumor\n",
    "            if(annotation[\"properties\"][\"classification\"][\"name\"] == \"Tumor\"):\n",
    "                if(annotation[\"geometry\"][\"type\"] == 'MultiPolygon'):\n",
    "                    multi_polygon_vertices = annotation[\"geometry\"][\"coordinates\"]\n",
    "                    #print(f'Multi Polygon: {np.array(multi_polygon_vertices).squeeze().shape}')\n",
    "                    ##QuPath produces Polygons and Multipolygons \n",
    "                    ##(see difference here: https://gis.stackexchange.com/questions/225368/understanding-difference-between-polygon-and-\n",
    "                    ##multipolygon-for-shapefiles-in-qgis/225373)\n",
    "                    ##This loop separates Multipolygons into individual Polygons\n",
    "                    for sub_polygon_vertices in multi_polygon_vertices:\n",
    "                        sub_polygon_vertices_array = np.array(sub_polygon_vertices, dtype=object).squeeze()\n",
    "                        if(len(sub_polygon_vertices_array.shape) == 2 and sub_polygon_vertices_array.shape[1] == 2):\n",
    "                            #print(f'/1/: {sub_polygon_vertices_array.shape}')\n",
    "                            polygons.append(__PolygonHelper(level=0, vertices=sub_polygon_vertices_array))\n",
    "                        else:\n",
    "                            for elem in sub_polygon_vertices_array:\n",
    "                                elem_array = np.array(elem).squeeze()\n",
    "                                #print(f'/2/: {elem_array.shape}')\n",
    "                                polygons.append(__PolygonHelper(level=0, vertices=elem_array))\n",
    "                    \n",
    "                elif(annotation[\"geometry\"][\"type\"] == 'Polygon'):\n",
    "                    vertices = annotation[\"geometry\"][\"coordinates\"]\n",
    "                    #print(f'/3/ len of vertices: {len(vertices)}')\n",
    "                    for ls in vertices:               \n",
    "                        #print(f'/4/: {np.array(ls).squeeze().shape}')\n",
    "                        polygons.append(__PolygonHelper(level=0, vertices=np.array(ls, dtype=object).squeeze()))\n",
    "                else:\n",
    "                    assert False\n",
    "    return polygons"
   ]
  },
  {
   "cell_type": "markdown",
   "metadata": {},
   "source": [
    "### adjust misalligned rois because of black and white padding when mrxs files are opened by openslide"
   ]
  },
  {
   "cell_type": "code",
   "execution_count": 11,
   "metadata": {},
   "outputs": [],
   "source": [
    "def is_row_black(img:Union[PIL.Image.Image, numpy.ndarray], row_num:int)->bool:\n",
    "    if(type(img) is PIL.Image.Image):\n",
    "        img = util.pil_to_np_rgb(img)\n",
    "    return np.all(img[row_num, :, :] == [0,0,0])\n",
    "\n",
    "def is_column_black(img:Union[PIL.Image.Image, numpy.ndarray], column_num:int)->bool:\n",
    "    if(type(img) is PIL.Image.Image):\n",
    "        img = util.pil_to_np_rgb(img)\n",
    "    return np.all(img[:, column_num, :] == [0,0,0])\n",
    "\n",
    "def get_num_of_black_rows_at_top(img:Union[PIL.Image.Image, numpy.ndarray])->int:\n",
    "    n_rows = 0\n",
    "    while(is_row_black(img=img, row_num=n_rows)):\n",
    "        n_rows += 1\n",
    "    return n_rows\n",
    "\n",
    "def get_num_of_black_columns_at_left(img:Union[PIL.Image.Image, numpy.ndarray])->int:\n",
    "    n_columns = 0\n",
    "    while(is_column_black(img=img, column_num=n_columns)):\n",
    "        n_columns += 1\n",
    "    return n_columns\n",
    "\n",
    "class Row_or_col(Enum):\n",
    "    ROW = 1\n",
    "    COLUMN = 2\n",
    "    \n",
    "def is_only_black_white(img:Union[PIL.Image.Image, numpy.ndarray], index:int, row_or_col:Row_or_col)->bool:\n",
    "    \"\"\"\n",
    "    checks if the by index specified row or column in the image contains only [0,0,0] == black\n",
    "    or [255,255,255] == white RGB values\n",
    "    \"\"\"\n",
    "    if(type(img) is PIL.Image.Image):\n",
    "        img = util.pil_to_np_rgb(img)\n",
    "    a = None\n",
    "    if(row_or_col is Row_or_col.ROW):\n",
    "        a = img[index, :, :]\n",
    "    elif(row_or_col is Row_or_col.COLUMN):\n",
    "        a = img[:, index, :]\n",
    "    else:\n",
    "        raise ValueError('row_or_col has insufficient value')\n",
    "    return np.where(np.logical_and(np.ravel(a) > 0, np.ravel(a) < 255))[0].size == 0\n",
    "\n",
    "def get_num_of_only_black_white(img:Union[PIL.Image.Image, numpy.ndarray], row_or_col:Row_or_col)->int:\n",
    "    n = 0\n",
    "    while(is_only_black_white(img=img, index=n, row_or_col=row_or_col)):\n",
    "        n += 1\n",
    "    return n\n",
    "\n",
    "def adjust_rois(wsi_img:Union[PIL.Image.Image, numpy.ndarray], \n",
    "                wsi_img_level:int, \n",
    "                rois:List[roi.RegionOfInterestPolygon]):\n",
    "    \"\"\"\n",
    "    returns new RegionOfInterestPolygon objects\n",
    "    \"\"\"\n",
    "    cols_left = get_num_of_only_black_white(img=wsi_img, row_or_col=Row_or_col.COLUMN)\n",
    "    rows_top = get_num_of_only_black_white(img=wsi_img, row_or_col=Row_or_col.ROW)\n",
    "    rois_adjusted = []\n",
    "    for r in rois:\n",
    "        new_vertices = util.polygon_to_numpy(r.polygon)\n",
    "        new_vertices += [util.adjust_level(value_to_adjust=cols_left, from_level=wsi_img_level, to_level=r.level), \n",
    "                         util.adjust_level(value_to_adjust=rows_top, from_level=wsi_img_level, to_level=r.level)]\n",
    "        r_new = roi.RegionOfInterestPolygon(roi_id=r.roi_id, vertices=new_vertices, level=r.level)\n",
    "        rois_adjusted.append(r_new)\n",
    "\n",
    "    return rois_adjusted\n",
    "\n",
    "def save_as_pickle(obj:object, path):\n",
    "    with open(path, 'wb') as file:\n",
    "        pickle.dump(obj, file)\n",
    "\n",
    "def load_pickle(path):\n",
    "    with open(path, 'rb') as file:\n",
    "        return pickle.load(file)\n",
    "\n",
    "def adjust_and_save_rois(wsi_path, json_path):\n",
    "    print(f'wsi: {wsi_path.name}')\n",
    "    print(f'json: {json_path.name}')\n",
    "        \n",
    "    save_name = f'{wsi_path.stem}-rois_adjusted.pickle'\n",
    "    save_path = PATH_ROIS_ADJUSTED/save_name\n",
    "    if(not save_path.exists()):    \n",
    "        wh = tiles.WsiHandler(wsi_path=wsi_path)\n",
    "        rois = roi.get_list_of_RegionOfInterestPolygon_from_json(json_path=json_path, \n",
    "                                        polygons_from_json_func=get_polygons_from_json)       \n",
    "        rois_adjusted = adjust_rois(wsi_img=wh.get_wsi_as_pil_image(level=5), wsi_img_level=5, rois=rois)               \n",
    "        save_as_pickle(rois_adjusted, save_path)\n",
    "    else:\n",
    "        print(f'Already exists: {save_path}')    "
   ]
  },
  {
   "cell_type": "code",
   "execution_count": 14,
   "metadata": {},
   "outputs": [
    {
     "name": "stderr",
     "output_type": "stream",
     "text": [
      "100%|██████████| 233/233 [00:00<00:00, 1713.46it/s]"
     ]
    },
    {
     "name": "stdout",
     "output_type": "stream",
     "text": [
      "wsi: MIER_140_M17.mrxs\n",
      "json: MIER_140_M17.json\n",
      "Already exists: /home/Deep_Learner/private/datasets/urothel_ca/Rois_Samir_adjusted/MIER_140_M17-rois_adjusted.pickle\n",
      "wsi: MIER_151_M3.mrxs\n",
      "json: MIER_151_M3.json\n",
      "Already exists: /home/Deep_Learner/private/datasets/urothel_ca/Rois_Samir_adjusted/MIER_151_M3-rois_adjusted.pickle\n",
      "wsi: MIER_158_TUR2.mrxs\n",
      "json: MIER_158_TUR2.json\n",
      "Already exists: /home/Deep_Learner/private/datasets/urothel_ca/Rois_Samir_adjusted/MIER_158_TUR2-rois_adjusted.pickle\n",
      "wsi: MIER_175_M12.mrxs\n",
      "json: MIER_175_M12.json\n",
      "Already exists: /home/Deep_Learner/private/datasets/urothel_ca/Rois_Samir_adjusted/MIER_175_M12-rois_adjusted.pickle\n",
      "wsi: MIER_200_M9.mrxs\n",
      "json: MIER_200_M9.json\n",
      "Already exists: /home/Deep_Learner/private/datasets/urothel_ca/Rois_Samir_adjusted/MIER_200_M9-rois_adjusted.pickle\n",
      "wsi: MIER_211_C.mrxs\n",
      "json: MIER_211_C.json\n",
      "Already exists: /home/Deep_Learner/private/datasets/urothel_ca/Rois_Samir_adjusted/MIER_211_C-rois_adjusted.pickle\n",
      "wsi: MIER_217_C.mrxs\n",
      "json: MIER_217_C.json\n",
      "Already exists: /home/Deep_Learner/private/datasets/urothel_ca/Rois_Samir_adjusted/MIER_217_C-rois_adjusted.pickle\n",
      "wsi: MIER_236_C.mrxs\n",
      "json: MIER_236_C.json\n",
      "Already exists: /home/Deep_Learner/private/datasets/urothel_ca/Rois_Samir_adjusted/MIER_236_C-rois_adjusted.pickle\n",
      "wsi: MIER_40_D.mrxs\n",
      "json: MIER_40_D.json\n",
      "Already exists: /home/Deep_Learner/private/datasets/urothel_ca/Rois_Samir_adjusted/MIER_40_D-rois_adjusted.pickle\n",
      "wsi: MIER_52_B.mrxs\n",
      "json: MIER_52_B.json\n",
      "Already exists: /home/Deep_Learner/private/datasets/urothel_ca/Rois_Samir_adjusted/MIER_52_B-rois_adjusted.pickle\n",
      "wsi: MIER_74_M10.mrxs\n",
      "json: MIER_74_M10.json\n",
      "Already exists: /home/Deep_Learner/private/datasets/urothel_ca/Rois_Samir_adjusted/MIER_74_M10-rois_adjusted.pickle\n",
      "wsi: MIER_184_I.mrxs\n",
      "json: MIER_184_I.json\n",
      "Already exists: /home/Deep_Learner/private/datasets/urothel_ca/Rois_Samir_adjusted/MIER_184_I-rois_adjusted.pickle\n",
      "wsi: MIER_46_A.mrxs\n",
      "json: MIER_46_A.json\n",
      "Already exists: /home/Deep_Learner/private/datasets/urothel_ca/Rois_Samir_adjusted/MIER_46_A-rois_adjusted.pickle\n",
      "wsi: MIER_134_TUR1.mrxs\n",
      "json: MIER_134_TUR1.json\n",
      "Already exists: /home/Deep_Learner/private/datasets/urothel_ca/Rois_Samir_adjusted/MIER_134_TUR1-rois_adjusted.pickle\n",
      "wsi: MIER_130_C.mrxs\n",
      "json: MIER_130_C.json\n",
      "Already exists: /home/Deep_Learner/private/datasets/urothel_ca/Rois_Samir_adjusted/MIER_130_C-rois_adjusted.pickle\n",
      "wsi: MIER_233_TUR1.mrxs\n",
      "json: MIER_233_TUR1.json\n",
      "Already exists: /home/Deep_Learner/private/datasets/urothel_ca/Rois_Samir_adjusted/MIER_233_TUR1-rois_adjusted.pickle\n",
      "wsi: MIER_127_G.mrxs\n",
      "json: MIER_127_G.json\n",
      "Already exists: /home/Deep_Learner/private/datasets/urothel_ca/Rois_Samir_adjusted/MIER_127_G-rois_adjusted.pickle\n",
      "wsi: MIER_41_A.mrxs\n",
      "json: MIER_41_A.json\n",
      "Already exists: /home/Deep_Learner/private/datasets/urothel_ca/Rois_Samir_adjusted/MIER_41_A-rois_adjusted.pickle\n",
      "wsi: MIER_115_C.mrxs\n",
      "json: MIER_115_C.json\n",
      "Already exists: /home/Deep_Learner/private/datasets/urothel_ca/Rois_Samir_adjusted/MIER_115_C-rois_adjusted.pickle\n",
      "wsi: MIER_147_A.mrxs\n",
      "json: MIER_147_A.json\n",
      "Already exists: /home/Deep_Learner/private/datasets/urothel_ca/Rois_Samir_adjusted/MIER_147_A-rois_adjusted.pickle\n",
      "wsi: MIER_17_C.mrxs\n",
      "json: MIER_17_C.json\n",
      "Already exists: /home/Deep_Learner/private/datasets/urothel_ca/Rois_Samir_adjusted/MIER_17_C-rois_adjusted.pickle\n",
      "wsi: MIER_183_A.mrxs\n",
      "json: MIER_183_A.json\n",
      "Already exists: /home/Deep_Learner/private/datasets/urothel_ca/Rois_Samir_adjusted/MIER_183_A-rois_adjusted.pickle\n",
      "wsi: MIER_222_M13.mrxs\n",
      "json: MIER_222_M13.json\n",
      "Already exists: /home/Deep_Learner/private/datasets/urothel_ca/Rois_Samir_adjusted/MIER_222_M13-rois_adjusted.pickle\n",
      "wsi: MIER_50_A.mrxs\n",
      "json: MIER_50_A.json\n",
      "Already exists: /home/Deep_Learner/private/datasets/urothel_ca/Rois_Samir_adjusted/MIER_50_A-rois_adjusted.pickle\n",
      "wsi: MIER_79_D.mrxs\n",
      "json: MIER_79_D.json\n",
      "Already exists: /home/Deep_Learner/private/datasets/urothel_ca/Rois_Samir_adjusted/MIER_79_D-rois_adjusted.pickle\n",
      "wsi: MIER_167_L.mrxs\n",
      "json: MIER_167_L.json\n",
      "Already exists: /home/Deep_Learner/private/datasets/urothel_ca/Rois_Samir_adjusted/MIER_167_L-rois_adjusted.pickle\n",
      "wsi: MIER_187_M13.mrxs\n",
      "json: MIER_187_M13.json\n",
      "Already exists: /home/Deep_Learner/private/datasets/urothel_ca/Rois_Samir_adjusted/MIER_187_M13-rois_adjusted.pickle\n",
      "wsi: MIER_145_B.mrxs\n",
      "json: MIER_145_B.json\n",
      "Already exists: /home/Deep_Learner/private/datasets/urothel_ca/Rois_Samir_adjusted/MIER_145_B-rois_adjusted.pickle\n",
      "wsi: MIER_71_H.mrxs\n",
      "json: MIER_71_H.json\n",
      "Already exists: /home/Deep_Learner/private/datasets/urothel_ca/Rois_Samir_adjusted/MIER_71_H-rois_adjusted.pickle\n",
      "wsi: MIER_6_C.mrxs\n",
      "json: MIER_6_C.json\n",
      "Already exists: /home/Deep_Learner/private/datasets/urothel_ca/Rois_Samir_adjusted/MIER_6_C-rois_adjusted.pickle\n",
      "wsi: MIER_229_TUR2.mrxs\n",
      "json: MIER_229_TUR2.json\n",
      "Already exists: /home/Deep_Learner/private/datasets/urothel_ca/Rois_Samir_adjusted/MIER_229_TUR2-rois_adjusted.pickle\n",
      "wsi: MIER_154_M21.mrxs\n",
      "json: MIER_154_M21.json\n",
      "Already exists: /home/Deep_Learner/private/datasets/urothel_ca/Rois_Samir_adjusted/MIER_154_M21-rois_adjusted.pickle\n",
      "wsi: MIER_8_B.mrxs\n",
      "json: MIER_8_B.json\n",
      "Already exists: /home/Deep_Learner/private/datasets/urothel_ca/Rois_Samir_adjusted/MIER_8_B-rois_adjusted.pickle\n",
      "wsi: MIER_36_A.mrxs\n",
      "json: MIER_36_A.json\n",
      "Already exists: /home/Deep_Learner/private/datasets/urothel_ca/Rois_Samir_adjusted/MIER_36_A-rois_adjusted.pickle\n",
      "wsi: MIER_22_E.mrxs\n",
      "json: MIER_22_E.json\n",
      "Already exists: /home/Deep_Learner/private/datasets/urothel_ca/Rois_Samir_adjusted/MIER_22_E-rois_adjusted.pickle\n",
      "wsi: MIER_221_C.mrxs\n",
      "json: MIER_221_C.json\n",
      "Already exists: /home/Deep_Learner/private/datasets/urothel_ca/Rois_Samir_adjusted/MIER_221_C-rois_adjusted.pickle\n",
      "wsi: MIER_70_B.mrxs\n",
      "json: MIER_70_B.json\n",
      "Already exists: /home/Deep_Learner/private/datasets/urothel_ca/Rois_Samir_adjusted/MIER_70_B-rois_adjusted.pickle\n",
      "wsi: MIER_35_F.mrxs\n",
      "json: MIER_35_F.json\n",
      "Already exists: /home/Deep_Learner/private/datasets/urothel_ca/Rois_Samir_adjusted/MIER_35_F-rois_adjusted.pickle\n",
      "wsi: MIER_142_M13.mrxs\n",
      "json: MIER_142_M13.json\n",
      "Already exists: /home/Deep_Learner/private/datasets/urothel_ca/Rois_Samir_adjusted/MIER_142_M13-rois_adjusted.pickle\n",
      "wsi: MIER_29_C.mrxs\n",
      "json: MIER_29_C.json\n",
      "Already exists: /home/Deep_Learner/private/datasets/urothel_ca/Rois_Samir_adjusted/MIER_29_C-rois_adjusted.pickle\n",
      "wsi: MIER_164_C.mrxs\n",
      "json: MIER_164_C.json\n",
      "Already exists: /home/Deep_Learner/private/datasets/urothel_ca/Rois_Samir_adjusted/MIER_164_C-rois_adjusted.pickle\n",
      "wsi: MIER_225_G.mrxs\n",
      "json: MIER_225_G.json\n",
      "Already exists: /home/Deep_Learner/private/datasets/urothel_ca/Rois_Samir_adjusted/MIER_225_G-rois_adjusted.pickle\n",
      "wsi: MIER_131_B.mrxs\n",
      "json: MIER_131_B.json\n",
      "Already exists: /home/Deep_Learner/private/datasets/urothel_ca/Rois_Samir_adjusted/MIER_131_B-rois_adjusted.pickle\n",
      "wsi: MIER_91_C.mrxs\n",
      "json: MIER_91_C.json\n",
      "Already exists: /home/Deep_Learner/private/datasets/urothel_ca/Rois_Samir_adjusted/MIER_91_C-rois_adjusted.pickle\n",
      "wsi: MIER_13_C.mrxs\n",
      "json: MIER_13_C.json\n",
      "Already exists: /home/Deep_Learner/private/datasets/urothel_ca/Rois_Samir_adjusted/MIER_13_C-rois_adjusted.pickle\n",
      "wsi: MIER_14_A.mrxs\n",
      "json: MIER_14_A.json\n",
      "Already exists: /home/Deep_Learner/private/datasets/urothel_ca/Rois_Samir_adjusted/MIER_14_A-rois_adjusted.pickle\n",
      "wsi: MIER_201_B.mrxs\n",
      "json: MIER_201_B.json\n",
      "Already exists: /home/Deep_Learner/private/datasets/urothel_ca/Rois_Samir_adjusted/MIER_201_B-rois_adjusted.pickle\n",
      "wsi: MIER_110_TUR3.mrxs\n",
      "json: MIER_110_TUR3.json\n",
      "Already exists: /home/Deep_Learner/private/datasets/urothel_ca/Rois_Samir_adjusted/MIER_110_TUR3-rois_adjusted.pickle\n",
      "wsi: MIER_117_E.mrxs\n",
      "json: MIER_117_E.json\n",
      "Already exists: /home/Deep_Learner/private/datasets/urothel_ca/Rois_Samir_adjusted/MIER_117_E-rois_adjusted.pickle\n",
      "wsi: MIER_202_G.mrxs\n",
      "json: MIER_202_G.json\n",
      "Already exists: /home/Deep_Learner/private/datasets/urothel_ca/Rois_Samir_adjusted/MIER_202_G-rois_adjusted.pickle\n",
      "wsi: MIER_182_TUR4.mrxs\n",
      "json: MIER_182_TUR4.json\n",
      "Already exists: /home/Deep_Learner/private/datasets/urothel_ca/Rois_Samir_adjusted/MIER_182_TUR4-rois_adjusted.pickle\n",
      "wsi: MIER_161_B.mrxs\n",
      "json: MIER_161_B.json\n",
      "Already exists: /home/Deep_Learner/private/datasets/urothel_ca/Rois_Samir_adjusted/MIER_161_B-rois_adjusted.pickle\n",
      "wsi: MIER_107_M22.mrxs\n",
      "json: MIER_107_M22.json\n",
      "Already exists: /home/Deep_Learner/private/datasets/urothel_ca/Rois_Samir_adjusted/MIER_107_M22-rois_adjusted.pickle\n",
      "wsi: MIER_51_C.mrxs\n",
      "json: MIER_51_C.json\n",
      "Already exists: /home/Deep_Learner/private/datasets/urothel_ca/Rois_Samir_adjusted/MIER_51_C-rois_adjusted.pickle\n",
      "wsi: MIER_82_TUR1.mrxs\n",
      "json: MIER_82_TUR1.json\n",
      "Already exists: /home/Deep_Learner/private/datasets/urothel_ca/Rois_Samir_adjusted/MIER_82_TUR1-rois_adjusted.pickle\n",
      "wsi: MIER_95_B.mrxs\n",
      "json: MIER_95_B.json\n",
      "Already exists: /home/Deep_Learner/private/datasets/urothel_ca/Rois_Samir_adjusted/MIER_95_B-rois_adjusted.pickle\n",
      "wsi: MIER_237_M4.mrxs\n",
      "json: MIER_237_M4.json\n",
      "Already exists: /home/Deep_Learner/private/datasets/urothel_ca/Rois_Samir_adjusted/MIER_237_M4-rois_adjusted.pickle\n",
      "wsi: MIER_23_G.mrxs\n",
      "json: MIER_23_G.json\n",
      "Already exists: /home/Deep_Learner/private/datasets/urothel_ca/Rois_Samir_adjusted/MIER_23_G-rois_adjusted.pickle\n",
      "wsi: MIER_199_M10.mrxs\n",
      "json: MIER_199_M10.json\n",
      "Already exists: /home/Deep_Learner/private/datasets/urothel_ca/Rois_Samir_adjusted/MIER_199_M10-rois_adjusted.pickle\n",
      "wsi: MIER_15_B.mrxs\n",
      "json: MIER_15_B.json\n",
      "Already exists: /home/Deep_Learner/private/datasets/urothel_ca/Rois_Samir_adjusted/MIER_15_B-rois_adjusted.pickle\n",
      "wsi: MIER_16_B.mrxs\n",
      "json: MIER_16_B.json\n",
      "Already exists: /home/Deep_Learner/private/datasets/urothel_ca/Rois_Samir_adjusted/MIER_16_B-rois_adjusted.pickle\n",
      "wsi: MIER_26_B.mrxs\n",
      "json: MIER_26_B.json\n",
      "Already exists: /home/Deep_Learner/private/datasets/urothel_ca/Rois_Samir_adjusted/MIER_26_B-rois_adjusted.pickle\n",
      "wsi: MIER_75_B.mrxs\n",
      "json: MIER_75_B.json\n",
      "Already exists: /home/Deep_Learner/private/datasets/urothel_ca/Rois_Samir_adjusted/MIER_75_B-rois_adjusted.pickle\n",
      "wsi: MIER_85_M12.mrxs\n",
      "json: MIER_85_M12.json\n",
      "Already exists: /home/Deep_Learner/private/datasets/urothel_ca/Rois_Samir_adjusted/MIER_85_M12-rois_adjusted.pickle\n",
      "wsi: MIER_156_M15.mrxs\n",
      "json: MIER_156_M15.json\n",
      "Already exists: /home/Deep_Learner/private/datasets/urothel_ca/Rois_Samir_adjusted/MIER_156_M15-rois_adjusted.pickle\n",
      "wsi: MIER_189_TUR.mrxs\n",
      "json: MIER_189_TUR.json\n",
      "Already exists: /home/Deep_Learner/private/datasets/urothel_ca/Rois_Samir_adjusted/MIER_189_TUR-rois_adjusted.pickle\n",
      "wsi: MIER_170_TUR1.mrxs\n",
      "json: MIER_170_TUR1.json\n",
      "Already exists: /home/Deep_Learner/private/datasets/urothel_ca/Rois_Samir_adjusted/MIER_170_TUR1-rois_adjusted.pickle\n",
      "wsi: MIER_196_D.mrxs\n",
      "json: MIER_196_D.json\n",
      "Already exists: /home/Deep_Learner/private/datasets/urothel_ca/Rois_Samir_adjusted/MIER_196_D-rois_adjusted.pickle\n",
      "wsi: MIER_190_D.mrxs\n",
      "json: MIER_190_D.json\n",
      "Already exists: /home/Deep_Learner/private/datasets/urothel_ca/Rois_Samir_adjusted/MIER_190_D-rois_adjusted.pickle\n",
      "wsi: MIER_144_TUR.mrxs\n",
      "json: MIER_144_TUR.json\n",
      "Already exists: /home/Deep_Learner/private/datasets/urothel_ca/Rois_Samir_adjusted/MIER_144_TUR-rois_adjusted.pickle\n",
      "wsi: MIER_206_M11.mrxs\n",
      "json: MIER_206_M11.json\n",
      "Already exists: /home/Deep_Learner/private/datasets/urothel_ca/Rois_Samir_adjusted/MIER_206_M11-rois_adjusted.pickle\n",
      "wsi: MIER_128_C.mrxs\n",
      "json: MIER_128_C.json\n",
      "Already exists: /home/Deep_Learner/private/datasets/urothel_ca/Rois_Samir_adjusted/MIER_128_C-rois_adjusted.pickle\n",
      "wsi: MIER_195_A.mrxs\n",
      "json: MIER_195_A.json\n",
      "Already exists: /home/Deep_Learner/private/datasets/urothel_ca/Rois_Samir_adjusted/MIER_195_A-rois_adjusted.pickle\n",
      "wsi: MIER_223_TUR.mrxs\n",
      "json: MIER_223_TUR.json\n",
      "Already exists: /home/Deep_Learner/private/datasets/urothel_ca/Rois_Samir_adjusted/MIER_223_TUR-rois_adjusted.pickle\n",
      "wsi: MIER_11_A.mrxs\n",
      "json: MIER_11_A.json\n",
      "Already exists: /home/Deep_Learner/private/datasets/urothel_ca/Rois_Samir_adjusted/MIER_11_A-rois_adjusted.pickle\n",
      "wsi: MIER_125_B.mrxs\n",
      "json: MIER_125_B.json\n",
      "Already exists: /home/Deep_Learner/private/datasets/urothel_ca/Rois_Samir_adjusted/MIER_125_B-rois_adjusted.pickle\n",
      "wsi: MIER_109_A.mrxs\n",
      "json: MIER_109_A.json\n",
      "Already exists: /home/Deep_Learner/private/datasets/urothel_ca/Rois_Samir_adjusted/MIER_109_A-rois_adjusted.pickle\n",
      "wsi: MIER_112_TUR1.mrxs\n",
      "json: MIER_112_TUR1.json\n",
      "Already exists: /home/Deep_Learner/private/datasets/urothel_ca/Rois_Samir_adjusted/MIER_112_TUR1-rois_adjusted.pickle\n",
      "wsi: MIER_108_J.mrxs\n",
      "json: MIER_108_J.json\n",
      "Already exists: /home/Deep_Learner/private/datasets/urothel_ca/Rois_Samir_adjusted/MIER_108_J-rois_adjusted.pickle\n",
      "wsi: MIER_169_TUR.mrxs\n",
      "json: MIER_169_TUR.json\n",
      "Already exists: /home/Deep_Learner/private/datasets/urothel_ca/Rois_Samir_adjusted/MIER_169_TUR-rois_adjusted.pickle\n",
      "wsi: MIER_101_TUR3.mrxs\n",
      "json: MIER_101_TUR3.json\n",
      "Already exists: /home/Deep_Learner/private/datasets/urothel_ca/Rois_Samir_adjusted/MIER_101_TUR3-rois_adjusted.pickle\n",
      "wsi: MIER_235_C.mrxs\n",
      "json: MIER_235_C.json\n",
      "Already exists: /home/Deep_Learner/private/datasets/urothel_ca/Rois_Samir_adjusted/MIER_235_C-rois_adjusted.pickle\n",
      "wsi: MIER_241_M5.mrxs\n",
      "json: MIER_241_M5.json\n",
      "Already exists: /home/Deep_Learner/private/datasets/urothel_ca/Rois_Samir_adjusted/MIER_241_M5-rois_adjusted.pickle\n",
      "wsi: MIER_39_D.mrxs\n",
      "json: MIER_39_D.json\n",
      "Already exists: /home/Deep_Learner/private/datasets/urothel_ca/Rois_Samir_adjusted/MIER_39_D-rois_adjusted.pickle\n",
      "wsi: MIER_100_B.mrxs\n",
      "json: MIER_100_B.json\n",
      "Already exists: /home/Deep_Learner/private/datasets/urothel_ca/Rois_Samir_adjusted/MIER_100_B-rois_adjusted.pickle\n",
      "wsi: MIER_136_A.mrxs\n",
      "json: MIER_136_A.json\n",
      "Already exists: /home/Deep_Learner/private/datasets/urothel_ca/Rois_Samir_adjusted/MIER_136_A-rois_adjusted.pickle\n",
      "wsi: MIER_218_A.mrxs\n",
      "json: MIER_218_A.json\n",
      "Already exists: /home/Deep_Learner/private/datasets/urothel_ca/Rois_Samir_adjusted/MIER_218_A-rois_adjusted.pickle\n",
      "wsi: MIER_244_A.mrxs\n",
      "json: MIER_244_A.json\n",
      "Already exists: /home/Deep_Learner/private/datasets/urothel_ca/Rois_Samir_adjusted/MIER_244_A-rois_adjusted.pickle\n",
      "wsi: MIER_193_TUR2.mrxs\n",
      "json: MIER_193_TUR2.json\n",
      "Already exists: /home/Deep_Learner/private/datasets/urothel_ca/Rois_Samir_adjusted/MIER_193_TUR2-rois_adjusted.pickle\n",
      "wsi: MIER_162_TUR2.mrxs\n",
      "json: MIER_162_TUR2.json\n",
      "Already exists: /home/Deep_Learner/private/datasets/urothel_ca/Rois_Samir_adjusted/MIER_162_TUR2-rois_adjusted.pickle\n",
      "wsi: MIER_7_E.mrxs\n",
      "json: MIER_7_E.json\n",
      "Already exists: /home/Deep_Learner/private/datasets/urothel_ca/Rois_Samir_adjusted/MIER_7_E-rois_adjusted.pickle\n",
      "wsi: MIER_4_A.mrxs\n",
      "json: MIER_4_A.json\n",
      "Already exists: /home/Deep_Learner/private/datasets/urothel_ca/Rois_Samir_adjusted/MIER_4_A-rois_adjusted.pickle\n",
      "wsi: MIER_73_B.mrxs\n",
      "json: MIER_73_B.json\n",
      "Already exists: /home/Deep_Learner/private/datasets/urothel_ca/Rois_Samir_adjusted/MIER_73_B-rois_adjusted.pickle\n",
      "wsi: MIER_28_E.mrxs\n",
      "json: MIER_28_E.json\n",
      "Already exists: /home/Deep_Learner/private/datasets/urothel_ca/Rois_Samir_adjusted/MIER_28_E-rois_adjusted.pickle\n",
      "wsi: MIER_3_D.mrxs\n",
      "json: MIER_3_D.json\n",
      "Already exists: /home/Deep_Learner/private/datasets/urothel_ca/Rois_Samir_adjusted/MIER_3_D-rois_adjusted.pickle\n",
      "wsi: MIER_168_M3.mrxs\n",
      "json: MIER_168_M3.json\n",
      "Already exists: /home/Deep_Learner/private/datasets/urothel_ca/Rois_Samir_adjusted/MIER_168_M3-rois_adjusted.pickle\n",
      "wsi: MIER_133_B.mrxs\n",
      "json: MIER_133_B.json\n",
      "Already exists: /home/Deep_Learner/private/datasets/urothel_ca/Rois_Samir_adjusted/MIER_133_B-rois_adjusted.pickle\n",
      "wsi: MIER_163_M4.mrxs\n",
      "json: MIER_163_M4.json\n",
      "Already exists: /home/Deep_Learner/private/datasets/urothel_ca/Rois_Samir_adjusted/MIER_163_M4-rois_adjusted.pickle\n",
      "wsi: MIER_62_A.mrxs\n",
      "json: MIER_62_A.json\n",
      "Already exists: /home/Deep_Learner/private/datasets/urothel_ca/Rois_Samir_adjusted/MIER_62_A-rois_adjusted.pickle\n",
      "wsi: MIER_242_TUR2.mrxs\n",
      "json: MIER_242_TUR2.json\n",
      "Already exists: /home/Deep_Learner/private/datasets/urothel_ca/Rois_Samir_adjusted/MIER_242_TUR2-rois_adjusted.pickle\n",
      "wsi: MIER_63_M17.mrxs\n",
      "json: MIER_63_M17.json\n",
      "Already exists: /home/Deep_Learner/private/datasets/urothel_ca/Rois_Samir_adjusted/MIER_63_M17-rois_adjusted.pickle\n",
      "wsi: MIER_57_M21.mrxs\n",
      "json: MIER_57_M21.json\n",
      "Already exists: /home/Deep_Learner/private/datasets/urothel_ca/Rois_Samir_adjusted/MIER_57_M21-rois_adjusted.pickle\n",
      "wsi: MIER_58_C.mrxs\n",
      "json: MIER_58_C.json\n",
      "Already exists: /home/Deep_Learner/private/datasets/urothel_ca/Rois_Samir_adjusted/MIER_58_C-rois_adjusted.pickle\n",
      "wsi: MIER_231_M11.mrxs\n",
      "json: MIER_231_M11.json\n",
      "Already exists: /home/Deep_Learner/private/datasets/urothel_ca/Rois_Samir_adjusted/MIER_231_M11-rois_adjusted.pickle\n",
      "wsi: MIER_150_M16.mrxs\n",
      "json: MIER_150_M16.json\n",
      "Already exists: /home/Deep_Learner/private/datasets/urothel_ca/Rois_Samir_adjusted/MIER_150_M16-rois_adjusted.pickle\n",
      "wsi: MIER_213_C.mrxs\n",
      "json: MIER_213_C.json\n",
      "Already exists: /home/Deep_Learner/private/datasets/urothel_ca/Rois_Samir_adjusted/MIER_213_C-rois_adjusted.pickle\n",
      "wsi: MIER_116_A.mrxs\n",
      "json: MIER_116_A.json\n",
      "Already exists: /home/Deep_Learner/private/datasets/urothel_ca/Rois_Samir_adjusted/MIER_116_A-rois_adjusted.pickle\n",
      "wsi: MIER_234_TUR8.mrxs\n",
      "json: MIER_234_TUR8.json\n",
      "Already exists: /home/Deep_Learner/private/datasets/urothel_ca/Rois_Samir_adjusted/MIER_234_TUR8-rois_adjusted.pickle\n",
      "wsi: MIER_137_D.mrxs\n",
      "json: MIER_137_D.json\n",
      "Already exists: /home/Deep_Learner/private/datasets/urothel_ca/Rois_Samir_adjusted/MIER_137_D-rois_adjusted.pickle\n",
      "wsi: MIER_111_TUR5.mrxs\n",
      "json: MIER_111_TUR5.json\n",
      "Already exists: /home/Deep_Learner/private/datasets/urothel_ca/Rois_Samir_adjusted/MIER_111_TUR5-rois_adjusted.pickle\n",
      "wsi: MIER_56_M16.mrxs\n",
      "json: MIER_56_M16.json\n",
      "Already exists: /home/Deep_Learner/private/datasets/urothel_ca/Rois_Samir_adjusted/MIER_56_M16-rois_adjusted.pickle\n",
      "wsi: MIER_68_TUR2.mrxs\n",
      "json: MIER_68_TUR2.json\n",
      "Already exists: /home/Deep_Learner/private/datasets/urothel_ca/Rois_Samir_adjusted/MIER_68_TUR2-rois_adjusted.pickle\n",
      "wsi: MIER_103_B.mrxs\n",
      "json: MIER_103_B.json\n",
      "Already exists: /home/Deep_Learner/private/datasets/urothel_ca/Rois_Samir_adjusted/MIER_103_B-rois_adjusted.pickle\n",
      "wsi: MIER_105_F.mrxs\n",
      "json: MIER_105_F.json\n",
      "Already exists: /home/Deep_Learner/private/datasets/urothel_ca/Rois_Samir_adjusted/MIER_105_F-rois_adjusted.pickle\n",
      "wsi: MIER_113_M16.mrxs\n",
      "json: MIER_113_M16.json\n",
      "Already exists: /home/Deep_Learner/private/datasets/urothel_ca/Rois_Samir_adjusted/MIER_113_M16-rois_adjusted.pickle\n",
      "wsi: MIER_185_TUR1.mrxs\n",
      "json: MIER_185_TUR1.json\n",
      "Already exists: /home/Deep_Learner/private/datasets/urothel_ca/Rois_Samir_adjusted/MIER_185_TUR1-rois_adjusted.pickle\n",
      "wsi: MIER_186_M10.mrxs\n",
      "json: MIER_186_M10.json\n",
      "Already exists: /home/Deep_Learner/private/datasets/urothel_ca/Rois_Samir_adjusted/MIER_186_M10-rois_adjusted.pickle\n",
      "wsi: MIER_2_B.mrxs\n",
      "json: MIER_2_B.json\n",
      "Already exists: /home/Deep_Learner/private/datasets/urothel_ca/Rois_Samir_adjusted/MIER_2_B-rois_adjusted.pickle\n",
      "wsi: MIER_207_E.mrxs\n",
      "json: MIER_207_E.json\n",
      "Already exists: /home/Deep_Learner/private/datasets/urothel_ca/Rois_Samir_adjusted/MIER_207_E-rois_adjusted.pickle\n",
      "wsi: MIER_226_A.mrxs\n",
      "json: MIER_226_A.json\n",
      "Already exists: /home/Deep_Learner/private/datasets/urothel_ca/Rois_Samir_adjusted/MIER_226_A-rois_adjusted.pickle\n",
      "wsi: MIER_228_A.mrxs\n",
      "json: MIER_228_A.json\n",
      "Already exists: /home/Deep_Learner/private/datasets/urothel_ca/Rois_Samir_adjusted/MIER_228_A-rois_adjusted.pickle\n",
      "wsi: MIER_239_M1.mrxs\n",
      "json: MIER_239_M1.json\n",
      "Already exists: /home/Deep_Learner/private/datasets/urothel_ca/Rois_Samir_adjusted/MIER_239_M1-rois_adjusted.pickle\n",
      "wsi: MIER_59_B.mrxs\n",
      "json: MIER_59_B.json\n",
      "Already exists: /home/Deep_Learner/private/datasets/urothel_ca/Rois_Samir_adjusted/MIER_59_B-rois_adjusted.pickle\n",
      "wsi: MIER_83_M13.mrxs\n",
      "json: MIER_83_M13.json\n",
      "Already exists: /home/Deep_Learner/private/datasets/urothel_ca/Rois_Samir_adjusted/MIER_83_M13-rois_adjusted.pickle\n",
      "wsi: MIER_92_TUR2.mrxs\n",
      "json: MIER_92_TUR2.json\n",
      "Already exists: /home/Deep_Learner/private/datasets/urothel_ca/Rois_Samir_adjusted/MIER_92_TUR2-rois_adjusted.pickle\n",
      "wsi: MIER_55_M11.mrxs\n",
      "json: MIER_55_M11.json\n",
      "Already exists: /home/Deep_Learner/private/datasets/urothel_ca/Rois_Samir_adjusted/MIER_55_M11-rois_adjusted.pickle\n",
      "wsi: MIER_66_TUR1.mrxs\n",
      "json: MIER_66_TUR1.json\n",
      "Already exists: /home/Deep_Learner/private/datasets/urothel_ca/Rois_Samir_adjusted/MIER_66_TUR1-rois_adjusted.pickle\n",
      "wsi: MIER_138_TUR.mrxs\n",
      "json: MIER_138_TUR.json\n",
      "Already exists: /home/Deep_Learner/private/datasets/urothel_ca/Rois_Samir_adjusted/MIER_138_TUR-rois_adjusted.pickle\n",
      "wsi: MIER_34_B.mrxs\n",
      "json: MIER_34_B.json\n",
      "Already exists: /home/Deep_Learner/private/datasets/urothel_ca/Rois_Samir_adjusted/MIER_34_B-rois_adjusted.pickle\n",
      "wsi: MIER_37_A.mrxs\n",
      "json: MIER_37_A.json\n",
      "Already exists: /home/Deep_Learner/private/datasets/urothel_ca/Rois_Samir_adjusted/MIER_37_A-rois_adjusted.pickle\n",
      "wsi: MIER_42_C.mrxs\n",
      "json: MIER_42_C.json\n",
      "Already exists: /home/Deep_Learner/private/datasets/urothel_ca/Rois_Samir_adjusted/MIER_42_C-rois_adjusted.pickle\n",
      "wsi: MIER_87_M15.mrxs\n",
      "json: MIER_87_M15.json\n",
      "Already exists: /home/Deep_Learner/private/datasets/urothel_ca/Rois_Samir_adjusted/MIER_87_M15-rois_adjusted.pickle\n",
      "wsi: MIER_165_B.mrxs\n",
      "json: MIER_165_B.json\n",
      "Already exists: /home/Deep_Learner/private/datasets/urothel_ca/Rois_Samir_adjusted/MIER_165_B-rois_adjusted.pickle\n",
      "wsi: MIER_20_A.mrxs\n",
      "json: MIER_20_A.json\n",
      "Already exists: /home/Deep_Learner/private/datasets/urothel_ca/Rois_Samir_adjusted/MIER_20_A-rois_adjusted.pickle\n",
      "wsi: MIER_238_TUR2.mrxs\n",
      "json: MIER_238_TUR2.json\n",
      "Already exists: /home/Deep_Learner/private/datasets/urothel_ca/Rois_Samir_adjusted/MIER_238_TUR2-rois_adjusted.pickle\n",
      "wsi: MIER_209_M16.mrxs\n",
      "json: MIER_209_M16.json\n",
      "Already exists: /home/Deep_Learner/private/datasets/urothel_ca/Rois_Samir_adjusted/MIER_209_M16-rois_adjusted.pickle\n",
      "wsi: MIER_114_M21.mrxs\n",
      "json: MIER_114_M21.json\n",
      "Already exists: /home/Deep_Learner/private/datasets/urothel_ca/Rois_Samir_adjusted/MIER_114_M21-rois_adjusted.pickle\n",
      "wsi: MIER_33_C.mrxs\n",
      "json: MIER_33_C.json\n",
      "Already exists: /home/Deep_Learner/private/datasets/urothel_ca/Rois_Samir_adjusted/MIER_33_C-rois_adjusted.pickle\n",
      "wsi: MIER_198_A.mrxs\n",
      "json: MIER_198_A.json\n",
      "Already exists: /home/Deep_Learner/private/datasets/urothel_ca/Rois_Samir_adjusted/MIER_198_A-rois_adjusted.pickle\n",
      "wsi: MIER_179_M13.mrxs\n",
      "json: MIER_179_M13.json\n",
      "Already exists: /home/Deep_Learner/private/datasets/urothel_ca/Rois_Samir_adjusted/MIER_179_M13-rois_adjusted.pickle\n",
      "wsi: MIER_97_TUR1.mrxs\n",
      "json: MIER_97_TUR1.json\n",
      "Already exists: /home/Deep_Learner/private/datasets/urothel_ca/Rois_Samir_adjusted/MIER_97_TUR1-rois_adjusted.pickle\n",
      "wsi: MIER_157_M2.mrxs\n",
      "json: MIER_157_M2.json\n",
      "Already exists: /home/Deep_Learner/private/datasets/urothel_ca/Rois_Samir_adjusted/MIER_157_M2-rois_adjusted.pickle\n",
      "wsi: MIER_141_F.mrxs\n",
      "json: MIER_141_F.json\n",
      "Already exists: /home/Deep_Learner/private/datasets/urothel_ca/Rois_Samir_adjusted/MIER_141_F-rois_adjusted.pickle\n",
      "wsi: MIER_177_TUR2.mrxs\n",
      "json: MIER_177_TUR2.json\n",
      "Already exists: /home/Deep_Learner/private/datasets/urothel_ca/Rois_Samir_adjusted/MIER_177_TUR2-rois_adjusted.pickle\n",
      "wsi: MIER_18_A.mrxs\n",
      "json: MIER_18_A.json\n",
      "Already exists: /home/Deep_Learner/private/datasets/urothel_ca/Rois_Samir_adjusted/MIER_18_A-rois_adjusted.pickle\n",
      "wsi: MIER_227_E.mrxs\n",
      "json: MIER_227_E.json\n",
      "Already exists: /home/Deep_Learner/private/datasets/urothel_ca/Rois_Samir_adjusted/MIER_227_E-rois_adjusted.pickle\n",
      "wsi: MIER_159_TUR4.mrxs\n",
      "json: MIER_159_TUR4.json\n",
      "Already exists: /home/Deep_Learner/private/datasets/urothel_ca/Rois_Samir_adjusted/MIER_159_TUR4-rois_adjusted.pickle\n",
      "wsi: MIER_152_TUR2.mrxs\n",
      "json: MIER_152_TUR2.json\n",
      "Already exists: /home/Deep_Learner/private/datasets/urothel_ca/Rois_Samir_adjusted/MIER_152_TUR2-rois_adjusted.pickle\n",
      "wsi: MIER_27_A.mrxs\n",
      "json: MIER_27_A.json\n",
      "Already exists: /home/Deep_Learner/private/datasets/urothel_ca/Rois_Samir_adjusted/MIER_27_A-rois_adjusted.pickle\n",
      "wsi: MIER_30_A.mrxs\n",
      "json: MIER_30_A.json\n",
      "Already exists: /home/Deep_Learner/private/datasets/urothel_ca/Rois_Samir_adjusted/MIER_30_A-rois_adjusted.pickle\n",
      "wsi: MIER_230_M12.mrxs\n",
      "json: MIER_230_M12.json\n",
      "Already exists: /home/Deep_Learner/private/datasets/urothel_ca/Rois_Samir_adjusted/MIER_230_M12-rois_adjusted.pickle\n",
      "wsi: MIER_60_G.mrxs\n",
      "json: MIER_60_G.json\n",
      "Already exists: /home/Deep_Learner/private/datasets/urothel_ca/Rois_Samir_adjusted/MIER_60_G-rois_adjusted.pickle\n",
      "wsi: MIER_9_B.mrxs\n",
      "json: MIER_9_B.json\n",
      "Already exists: /home/Deep_Learner/private/datasets/urothel_ca/Rois_Samir_adjusted/MIER_9_B-rois_adjusted.pickle\n",
      "wsi: MIER_99_TUR1.mrxs\n",
      "json: MIER_99_TUR1.json\n",
      "Already exists: /home/Deep_Learner/private/datasets/urothel_ca/Rois_Samir_adjusted/MIER_99_TUR1-rois_adjusted.pickle\n",
      "wsi: MIER_129_C.mrxs\n",
      "json: MIER_129_C.json\n",
      "Already exists: /home/Deep_Learner/private/datasets/urothel_ca/Rois_Samir_adjusted/MIER_129_C-rois_adjusted.pickle\n",
      "wsi: MIER_172_F.mrxs\n",
      "json: MIER_172_F.json\n",
      "Already exists: /home/Deep_Learner/private/datasets/urothel_ca/Rois_Samir_adjusted/MIER_172_F-rois_adjusted.pickle\n",
      "wsi: MIER_173_B.mrxs\n",
      "json: MIER_173_B.json\n",
      "Already exists: /home/Deep_Learner/private/datasets/urothel_ca/Rois_Samir_adjusted/MIER_173_B-rois_adjusted.pickle\n",
      "wsi: MIER_176_TUR.mrxs\n",
      "json: MIER_176_TUR.json\n",
      "Already exists: /home/Deep_Learner/private/datasets/urothel_ca/Rois_Samir_adjusted/MIER_176_TUR-rois_adjusted.pickle\n",
      "wsi: MIER_180_F.mrxs\n",
      "json: MIER_180_F.json\n",
      "Already exists: /home/Deep_Learner/private/datasets/urothel_ca/Rois_Samir_adjusted/MIER_180_F-rois_adjusted.pickle\n",
      "wsi: MIER_215_M18.mrxs\n",
      "json: MIER_215_M18.json\n",
      "Already exists: /home/Deep_Learner/private/datasets/urothel_ca/Rois_Samir_adjusted/MIER_215_M18-rois_adjusted.pickle\n",
      "wsi: MIER_219_A.mrxs\n",
      "json: MIER_219_A.json\n",
      "Already exists: /home/Deep_Learner/private/datasets/urothel_ca/Rois_Samir_adjusted/MIER_219_A-rois_adjusted.pickle\n",
      "wsi: MIER_246_C.mrxs\n",
      "json: MIER_246_C.json\n",
      "Already exists: /home/Deep_Learner/private/datasets/urothel_ca/Rois_Samir_adjusted/MIER_246_C-rois_adjusted.pickle\n",
      "wsi: MIER_38_G.mrxs\n",
      "json: MIER_38_G.json\n",
      "Already exists: /home/Deep_Learner/private/datasets/urothel_ca/Rois_Samir_adjusted/MIER_38_G-rois_adjusted.pickle\n",
      "wsi: MIER_61_A.mrxs\n",
      "json: MIER_61_A.json\n",
      "Already exists: /home/Deep_Learner/private/datasets/urothel_ca/Rois_Samir_adjusted/MIER_61_A-rois_adjusted.pickle\n",
      "wsi: MIER_240_M16.mrxs\n",
      "json: MIER_240_M16.json\n",
      "Already exists: /home/Deep_Learner/private/datasets/urothel_ca/Rois_Samir_adjusted/MIER_240_M16-rois_adjusted.pickle\n",
      "wsi: MIER_126_E.mrxs\n",
      "json: MIER_126_E.json\n",
      "Already exists: /home/Deep_Learner/private/datasets/urothel_ca/Rois_Samir_adjusted/MIER_126_E-rois_adjusted.pickle\n",
      "wsi: MIER_174_D.mrxs\n",
      "json: MIER_174_D.json\n",
      "Already exists: /home/Deep_Learner/private/datasets/urothel_ca/Rois_Samir_adjusted/MIER_174_D-rois_adjusted.pickle\n",
      "wsi: MIER_203_M13.mrxs\n",
      "json: MIER_203_M13.json\n",
      "Already exists: /home/Deep_Learner/private/datasets/urothel_ca/Rois_Samir_adjusted/MIER_203_M13-rois_adjusted.pickle\n",
      "wsi: MIER_10_A.mrxs\n",
      "json: MIER_10_A.json\n",
      "Already exists: /home/Deep_Learner/private/datasets/urothel_ca/Rois_Samir_adjusted/MIER_10_A-rois_adjusted.pickle\n",
      "wsi: MIER_232_M10.mrxs\n",
      "json: MIER_232_M10.json\n",
      "Already exists: /home/Deep_Learner/private/datasets/urothel_ca/Rois_Samir_adjusted/MIER_232_M10-rois_adjusted.pickle\n",
      "wsi: MIER_72_A.mrxs\n",
      "json: MIER_72_A.json\n",
      "Already exists: /home/Deep_Learner/private/datasets/urothel_ca/Rois_Samir_adjusted/MIER_72_A-rois_adjusted.pickle\n",
      "wsi: MIER_76_B.mrxs\n",
      "json: MIER_76_B.json\n",
      "Already exists: /home/Deep_Learner/private/datasets/urothel_ca/Rois_Samir_adjusted/MIER_76_B-rois_adjusted.pickle\n",
      "wsi: MIER_77_A.mrxs\n",
      "json: MIER_77_A.json\n",
      "Already exists: /home/Deep_Learner/private/datasets/urothel_ca/Rois_Samir_adjusted/MIER_77_A-rois_adjusted.pickle\n",
      "wsi: MIER_102_D.mrxs\n",
      "json: MIER_102_D.json\n",
      "Already exists: /home/Deep_Learner/private/datasets/urothel_ca/Rois_Samir_adjusted/MIER_102_D-rois_adjusted.pickle\n",
      "wsi: MIER_32_A.mrxs\n",
      "json: MIER_32_A.json\n",
      "Already exists: /home/Deep_Learner/private/datasets/urothel_ca/Rois_Samir_adjusted/MIER_32_A-rois_adjusted.pickle\n",
      "wsi: MIER_84_TUR2.mrxs\n",
      "json: MIER_84_TUR2.json\n",
      "Already exists: /home/Deep_Learner/private/datasets/urothel_ca/Rois_Samir_adjusted/MIER_84_TUR2-rois_adjusted.pickle\n",
      "wsi: MIER_245_TUR1.mrxs\n",
      "json: MIER_245_TUR1.json\n",
      "Already exists: /home/Deep_Learner/private/datasets/urothel_ca/Rois_Samir_adjusted/MIER_245_TUR1-rois_adjusted.pickle\n",
      "wsi: MIER_123_LK1.mrxs\n",
      "json: MIER_123_LK1.json\n",
      "Already exists: /home/Deep_Learner/private/datasets/urothel_ca/Rois_Samir_adjusted/MIER_123_LK1-rois_adjusted.pickle\n",
      "wsi: MIER_192_D.mrxs\n",
      "json: MIER_192_D.json\n",
      "Already exists: /home/Deep_Learner/private/datasets/urothel_ca/Rois_Samir_adjusted/MIER_192_D-rois_adjusted.pickle\n",
      "wsi: MIER_67_M20.mrxs\n",
      "json: MIER_67_M20.json\n",
      "Already exists: /home/Deep_Learner/private/datasets/urothel_ca/Rois_Samir_adjusted/MIER_67_M20-rois_adjusted.pickle\n",
      "wsi: MIER_160_D.mrxs\n",
      "json: MIER_160_D.json\n",
      "Already exists: /home/Deep_Learner/private/datasets/urothel_ca/Rois_Samir_adjusted/MIER_160_D-rois_adjusted.pickle\n",
      "wsi: MIER_214_A.mrxs\n",
      "json: MIER_214_A.json\n",
      "Already exists: /home/Deep_Learner/private/datasets/urothel_ca/Rois_Samir_adjusted/MIER_214_A-rois_adjusted.pickle\n",
      "wsi: MIER_139_TUR.mrxs\n",
      "json: MIER_139_TUR.json\n",
      "Already exists: /home/Deep_Learner/private/datasets/urothel_ca/Rois_Samir_adjusted/MIER_139_TUR-rois_adjusted.pickle\n",
      "wsi: MIER_188_M14.mrxs\n",
      "json: MIER_188_M14.json\n",
      "Already exists: /home/Deep_Learner/private/datasets/urothel_ca/Rois_Samir_adjusted/MIER_188_M14-rois_adjusted.pickle\n",
      "wsi: MIER_149_C.mrxs\n",
      "json: MIER_149_C.json\n",
      "Already exists: /home/Deep_Learner/private/datasets/urothel_ca/Rois_Samir_adjusted/MIER_149_C-rois_adjusted.pickle\n",
      "wsi: MIER_45_D.mrxs\n",
      "json: MIER_45_D.json\n",
      "Already exists: /home/Deep_Learner/private/datasets/urothel_ca/Rois_Samir_adjusted/MIER_45_D-rois_adjusted.pickle\n",
      "wsi: MIER_143_TUR1.mrxs\n",
      "json: MIER_143_TUR1.json\n",
      "Already exists: /home/Deep_Learner/private/datasets/urothel_ca/Rois_Samir_adjusted/MIER_143_TUR1-rois_adjusted.pickle\n",
      "wsi: MIER_224_TUR3.mrxs\n",
      "json: MIER_224_TUR3.json\n",
      "Already exists: /home/Deep_Learner/private/datasets/urothel_ca/Rois_Samir_adjusted/MIER_224_TUR3-rois_adjusted.pickle\n",
      "wsi: MIER_69_TUR6.mrxs\n",
      "json: MIER_69_TUR6.json\n",
      "Already exists: /home/Deep_Learner/private/datasets/urothel_ca/Rois_Samir_adjusted/MIER_69_TUR6-rois_adjusted.pickle\n",
      "wsi: MIER_88_M6.mrxs\n",
      "json: MIER_88_M6.json\n",
      "Already exists: /home/Deep_Learner/private/datasets/urothel_ca/Rois_Samir_adjusted/MIER_88_M6-rois_adjusted.pickle\n",
      "wsi: MIER_90_A.mrxs\n",
      "json: MIER_90_A.json\n",
      "Already exists: /home/Deep_Learner/private/datasets/urothel_ca/Rois_Samir_adjusted/MIER_90_A-rois_adjusted.pickle\n",
      "wsi: MIER_12_A.mrxs\n",
      "json: MIER_12_A.json\n",
      "Already exists: /home/Deep_Learner/private/datasets/urothel_ca/Rois_Samir_adjusted/MIER_12_A-rois_adjusted.pickle\n",
      "wsi: MIER_124_TUR4.mrxs\n",
      "json: MIER_124_TUR4.json\n",
      "Already exists: /home/Deep_Learner/private/datasets/urothel_ca/Rois_Samir_adjusted/MIER_124_TUR4-rois_adjusted.pickle\n",
      "wsi: MIER_171_M18.mrxs\n",
      "json: MIER_171_M18.json\n",
      "Already exists: /home/Deep_Learner/private/datasets/urothel_ca/Rois_Samir_adjusted/MIER_171_M18-rois_adjusted.pickle\n",
      "wsi: MIER_19_B.mrxs\n",
      "json: MIER_19_B.json\n",
      "Already exists: /home/Deep_Learner/private/datasets/urothel_ca/Rois_Samir_adjusted/MIER_19_B-rois_adjusted.pickle\n",
      "wsi: MIER_208_TUR4.mrxs\n",
      "json: MIER_208_TUR4.json\n",
      "Already exists: /home/Deep_Learner/private/datasets/urothel_ca/Rois_Samir_adjusted/MIER_208_TUR4-rois_adjusted.pickle\n",
      "wsi: MIER_21_A.mrxs\n",
      "json: MIER_21_A.json\n",
      "Already exists: /home/Deep_Learner/private/datasets/urothel_ca/Rois_Samir_adjusted/MIER_21_A-rois_adjusted.pickle\n",
      "wsi: MIER_243_TUR5.mrxs\n",
      "json: MIER_243_TUR5.json\n",
      "Already exists: /home/Deep_Learner/private/datasets/urothel_ca/Rois_Samir_adjusted/MIER_243_TUR5-rois_adjusted.pickle\n",
      "wsi: MIER_43_B.mrxs\n",
      "json: MIER_43_B.json\n",
      "Already exists: /home/Deep_Learner/private/datasets/urothel_ca/Rois_Samir_adjusted/MIER_43_B-rois_adjusted.pickle\n",
      "wsi: MIER_44_B.mrxs\n",
      "json: MIER_44_B.json\n",
      "Already exists: /home/Deep_Learner/private/datasets/urothel_ca/Rois_Samir_adjusted/MIER_44_B-rois_adjusted.pickle\n",
      "wsi: MIER_48_A.mrxs\n",
      "json: MIER_48_A.json\n",
      "Already exists: /home/Deep_Learner/private/datasets/urothel_ca/Rois_Samir_adjusted/MIER_48_A-rois_adjusted.pickle\n",
      "wsi: MIER_96_M7.mrxs\n",
      "json: MIER_96_M7.json\n",
      "Already exists: /home/Deep_Learner/private/datasets/urothel_ca/Rois_Samir_adjusted/MIER_96_M7-rois_adjusted.pickle\n",
      "wsi: MIER_98_TUR2.mrxs\n",
      "json: MIER_98_TUR2.json\n",
      "Already exists: /home/Deep_Learner/private/datasets/urothel_ca/Rois_Samir_adjusted/MIER_98_TUR2-rois_adjusted.pickle\n",
      "wsi: MIER_93_M9.mrxs\n",
      "json: MIER_93_M9.json\n",
      "Already exists: /home/Deep_Learner/private/datasets/urothel_ca/Rois_Samir_adjusted/MIER_93_M9-rois_adjusted.pickle\n",
      "wsi: MIER_155_A.mrxs\n",
      "json: MIER_155_A.json\n",
      "Already exists: /home/Deep_Learner/private/datasets/urothel_ca/Rois_Samir_adjusted/MIER_155_A-rois_adjusted.pickle\n",
      "wsi: MIER_191_M2.mrxs\n",
      "json: MIER_191_M2.json\n",
      "Already exists: /home/Deep_Learner/private/datasets/urothel_ca/Rois_Samir_adjusted/MIER_191_M2-rois_adjusted.pickle\n",
      "wsi: MIER_216_TUR3.mrxs\n",
      "json: MIER_216_TUR3.json\n",
      "Already exists: /home/Deep_Learner/private/datasets/urothel_ca/Rois_Samir_adjusted/MIER_216_TUR3-rois_adjusted.pickle\n",
      "wsi: MIER_220_D.mrxs\n",
      "json: MIER_220_D.json\n",
      "Already exists: /home/Deep_Learner/private/datasets/urothel_ca/Rois_Samir_adjusted/MIER_220_D-rois_adjusted.pickle\n",
      "wsi: MIER_49_A.mrxs\n",
      "json: MIER_49_A.json\n",
      "Already exists: /home/Deep_Learner/private/datasets/urothel_ca/Rois_Samir_adjusted/MIER_49_A-rois_adjusted.pickle\n",
      "wsi: MIER_5_A.mrxs\n",
      "json: MIER_5_A.json\n",
      "Already exists: /home/Deep_Learner/private/datasets/urothel_ca/Rois_Samir_adjusted/MIER_5_A-rois_adjusted.pickle\n",
      "wsi: MIER_197_TUR1.mrxs\n",
      "json: MIER_197_TUR1.json\n",
      "Already exists: /home/Deep_Learner/private/datasets/urothel_ca/Rois_Samir_adjusted/MIER_197_TUR1-rois_adjusted.pickle\n",
      "wsi: MIER_65_A.mrxs\n",
      "json: MIER_65_A.json\n",
      "Already exists: /home/Deep_Learner/private/datasets/urothel_ca/Rois_Samir_adjusted/MIER_65_A-rois_adjusted.pickle\n",
      "wsi: MIER_81_TUR1.mrxs\n",
      "json: MIER_81_TUR1.json\n",
      "Already exists: /home/Deep_Learner/private/datasets/urothel_ca/Rois_Samir_adjusted/MIER_81_TUR1-rois_adjusted.pickle\n",
      "wsi: MIER_212_M10.mrxs\n",
      "json: MIER_212_M10.json\n",
      "Already exists: /home/Deep_Learner/private/datasets/urothel_ca/Rois_Samir_adjusted/MIER_212_M10-rois_adjusted.pickle\n",
      "wsi: MIER_146_B.mrxs\n",
      "json: MIER_146_B.json\n",
      "Already exists: /home/Deep_Learner/private/datasets/urothel_ca/Rois_Samir_adjusted/MIER_146_B-rois_adjusted.pickle\n",
      "wsi: MIER_181_M10.mrxs\n",
      "json: MIER_181_M10.json\n",
      "Already exists: /home/Deep_Learner/private/datasets/urothel_ca/Rois_Samir_adjusted/MIER_181_M10-rois_adjusted.pickle\n",
      "wsi: MIER_24_B.mrxs\n",
      "json: MIER_24_B.json\n",
      "Already exists: /home/Deep_Learner/private/datasets/urothel_ca/Rois_Samir_adjusted/MIER_24_B-rois_adjusted.pickle\n",
      "wsi: MIER_247_M11.mrxs\n",
      "json: MIER_247_M11.json\n",
      "Already exists: /home/Deep_Learner/private/datasets/urothel_ca/Rois_Samir_adjusted/MIER_247_M11-rois_adjusted.pickle\n",
      "wsi: MIER_104_E.mrxs\n",
      "json: MIER_104_E.json\n",
      "Already exists: /home/Deep_Learner/private/datasets/urothel_ca/Rois_Samir_adjusted/MIER_104_E-rois_adjusted.pickle\n",
      "wsi: MIER_25_B.mrxs\n",
      "json: MIER_25_B.json\n",
      "Already exists: /home/Deep_Learner/private/datasets/urothel_ca/Rois_Samir_adjusted/MIER_25_B-rois_adjusted.pickle\n",
      "wsi: MIER_64_M4.mrxs\n",
      "json: MIER_64_M4.json\n",
      "Already exists: /home/Deep_Learner/private/datasets/urothel_ca/Rois_Samir_adjusted/MIER_64_M4-rois_adjusted.pickle\n",
      "wsi: MIER_210_B.mrxs\n",
      "json: MIER_210_B.json\n",
      "Already exists: /home/Deep_Learner/private/datasets/urothel_ca/Rois_Samir_adjusted/MIER_210_B-rois_adjusted.pickle\n",
      "wsi: MIER_47_C.mrxs\n",
      "json: MIER_47_C.json\n",
      "Already exists: /home/Deep_Learner/private/datasets/urothel_ca/Rois_Samir_adjusted/MIER_47_C-rois_adjusted.pickle\n",
      "wsi: MIER_204_A.mrxs\n",
      "json: MIER_204_A.json\n",
      "Already exists: /home/Deep_Learner/private/datasets/urothel_ca/Rois_Samir_adjusted/MIER_204_A-rois_adjusted.pickle\n",
      "wsi: MIER_178_TUR1.mrxs\n",
      "json: MIER_178_TUR1.json\n",
      "Already exists: /home/Deep_Learner/private/datasets/urothel_ca/Rois_Samir_adjusted/MIER_178_TUR1-rois_adjusted.pickle\n",
      "wsi: MIER_121_D.mrxs\n",
      "json: MIER_121_D.json\n",
      "Already exists: /home/Deep_Learner/private/datasets/urothel_ca/Rois_Samir_adjusted/MIER_121_D-rois_adjusted.pickle\n",
      "wsi: MIER_53_G.mrxs\n",
      "json: MIER_53_G.json\n",
      "Already exists: /home/Deep_Learner/private/datasets/urothel_ca/Rois_Samir_adjusted/MIER_53_G-rois_adjusted.pickle\n",
      "wsi: MIER_80_TUR3.mrxs\n",
      "json: MIER_80_TUR3.json\n",
      "Already exists: /home/Deep_Learner/private/datasets/urothel_ca/Rois_Samir_adjusted/MIER_80_TUR3-rois_adjusted.pickle\n",
      "wsi: MIER_148_A.mrxs\n",
      "json: MIER_148_A.json\n",
      "Already exists: /home/Deep_Learner/private/datasets/urothel_ca/Rois_Samir_adjusted/MIER_148_A-rois_adjusted.pickle\n",
      "wsi: MIER_166_M21.mrxs\n",
      "json: MIER_166_M21.json\n",
      "Already exists: /home/Deep_Learner/private/datasets/urothel_ca/Rois_Samir_adjusted/MIER_166_M21-rois_adjusted.pickle\n",
      "wsi: MIER_89_TUR3.mrxs\n",
      "json: MIER_89_TUR3.json\n",
      "Already exists: /home/Deep_Learner/private/datasets/urothel_ca/Rois_Samir_adjusted/MIER_89_TUR3-rois_adjusted.pickle\n",
      "wsi: MIER_78_M17.mrxs\n",
      "json: MIER_78_M17.json\n",
      "Already exists: /home/Deep_Learner/private/datasets/urothel_ca/Rois_Samir_adjusted/MIER_78_M17-rois_adjusted.pickle\n",
      "wsi: MIER_94_G.mrxs\n",
      "json: MIER_94_G.json\n",
      "Already exists: /home/Deep_Learner/private/datasets/urothel_ca/Rois_Samir_adjusted/MIER_94_G-rois_adjusted.pickle\n"
     ]
    },
    {
     "name": "stderr",
     "output_type": "stream",
     "text": [
      "\n"
     ]
    }
   ],
   "source": [
    "failed = []\n",
    "for wsi_path, json_path in tqdm(list(wsi_mrxs_to_json_path.items())[:]):\n",
    "    try:\n",
    "        adjust_and_save_rois(wsi_path, json_path)\n",
    "    except:\n",
    "        failed.append(wsi_path)"
   ]
  },
  {
   "cell_type": "code",
   "execution_count": 14,
   "metadata": {
    "collapsed": true
   },
   "outputs": [
    {
     "name": "stderr",
     "output_type": "stream",
     "text": [
      "\r",
      "  0%|          | 0/20 [00:00<?, ?it/s]"
     ]
    },
    {
     "data": {
      "image/png": "[encoded data removed]",
      "text/plain": [
       "<Figure size 360x360 with 1 Axes>"
      ]
     },
     "metadata": {
      "needs_background": "light"
     },
     "output_type": "display_data"
    },
    {
     "name": "stderr",
     "output_type": "stream",
     "text": [
      "\r",
      "  5%|▌         | 1/20 [00:08<02:41,  8.51s/it]"
     ]
    },
    {
     "data": {
      "image/png": "[encoded data removed]",
      "text/plain": [
       "<Figure size 360x360 with 1 Axes>"
      ]
     },
     "metadata": {
      "needs_background": "light"
     },
     "output_type": "display_data"
    },
    {
     "name": "stderr",
     "output_type": "stream",
     "text": [
      " 10%|█         | 2/20 [00:27<03:27, 11.51s/it]ERROR:root:Internal Python error in the inspect module.\n",
      "Below is the traceback from this internal error.\n",
      "\n"
     ]
    },
    {
     "name": "stdout",
     "output_type": "stream",
     "text": [
      "Traceback (most recent call last):\n",
      "  File \"/opt/conda/envs/DLM_Py3/lib/python3.7/site-packages/IPython/core/interactiveshell.py\", line 3331, in run_code\n",
      "    exec(code_obj, self.user_global_ns, self.user_ns)\n",
      "  File \"<ipython-input-14-c62c7fc30925>\", line 4, in <module>\n",
      "    rois = load_pickle(save_path)\n",
      "  File \"<ipython-input-12-dbd23acc2064>\", line 73, in load_pickle\n",
      "    return pickle.load(file)\n",
      "  File \"/opt/conda/envs/DLM_Py3/lib/python3.7/site-packages/shapely/geometry/base.py\", line 250, in __setstate__\n",
      "    def __setstate__(self, state):\n",
      "KeyboardInterrupt\n",
      "\n",
      "During handling of the above exception, another exception occurred:\n",
      "\n",
      "Traceback (most recent call last):\n",
      "  File \"/opt/conda/envs/DLM_Py3/lib/python3.7/site-packages/IPython/core/interactiveshell.py\", line 2044, in showtraceback\n",
      "    stb = value._render_traceback_()\n",
      "AttributeError: 'KeyboardInterrupt' object has no attribute '_render_traceback_'\n",
      "\n",
      "During handling of the above exception, another exception occurred:\n",
      "\n",
      "Traceback (most recent call last):\n",
      "  File \"/opt/conda/envs/DLM_Py3/lib/python3.7/genericpath.py\", line 19, in exists\n",
      "    os.stat(path)\n",
      "FileNotFoundError: [Errno 2] No such file or directory: '<ipython-input-14-c62c7fc30925>'\n",
      "\n",
      "During handling of the above exception, another exception occurred:\n",
      "\n",
      "Traceback (most recent call last):\n",
      "  File \"/opt/conda/envs/DLM_Py3/lib/python3.7/site-packages/IPython/core/ultratb.py\", line 1148, in get_records\n",
      "    return _fixed_getinnerframes(etb, number_of_lines_of_context, tb_offset)\n",
      "  File \"/opt/conda/envs/DLM_Py3/lib/python3.7/site-packages/IPython/core/ultratb.py\", line 316, in wrapped\n",
      "    return f(*args, **kwargs)\n",
      "  File \"/opt/conda/envs/DLM_Py3/lib/python3.7/site-packages/IPython/core/ultratb.py\", line 350, in _fixed_getinnerframes\n",
      "    records = fix_frame_records_filenames(inspect.getinnerframes(etb, context))\n",
      "  File \"/opt/conda/envs/DLM_Py3/lib/python3.7/inspect.py\", line 1502, in getinnerframes\n",
      "    frameinfo = (tb.tb_frame,) + getframeinfo(tb, context)\n",
      "  File \"/opt/conda/envs/DLM_Py3/lib/python3.7/inspect.py\", line 1460, in getframeinfo\n",
      "    filename = getsourcefile(frame) or getfile(frame)\n",
      "  File \"/opt/conda/envs/DLM_Py3/lib/python3.7/inspect.py\", line 693, in getsourcefile\n",
      "    if os.path.exists(filename):\n",
      "  File \"/opt/conda/envs/DLM_Py3/lib/python3.7/genericpath.py\", line 19, in exists\n",
      "    os.stat(path)\n",
      "KeyboardInterrupt\n"
     ]
    },
    {
     "ename": "KeyboardInterrupt",
     "evalue": "",
     "output_type": "error",
     "traceback": [
      "\u001b[0;31m---------------------------------------------------------------------------\u001b[0m"
     ]
    }
   ],
   "source": [
    "for wsi_path, json_path in tqdm(list(wsi_mrxs_to_json_path.items())[:20]):\n",
    "    save_name = f'{wsi_path.stem}-rois_adjusted.pickle'\n",
    "    save_path = PATH_ROIS_ADJUSTED/save_name\n",
    "    rois = load_pickle(save_path)\n",
    "    util.show_wsi_with_rois(wsi_path=wsi_path, rois=rois, figsize=(5,5), scale_factor=128)"
   ]
  },
  {
   "cell_type": "code",
   "execution_count": 15,
   "metadata": {},
   "outputs": [
    {
     "name": "stderr",
     "output_type": "stream",
     "text": [
      "100%|██████████| 233/233 [00:14<00:00, 16.54it/s]\n"
     ]
    }
   ],
   "source": [
    "#no stroma rois\n",
    "wsi_path_to_rois = {}\n",
    "for wsi_path, json_path in tqdm(list(wsi_mrxs_to_json_path.items())[:]):\n",
    "    save_name = f'{wsi_path.stem}-rois_adjusted.pickle'\n",
    "    save_path = PATH_ROIS_ADJUSTED/save_name\n",
    "    rois = load_pickle(save_path)\n",
    "    wsi_path_to_rois[wsi_path] = rois"
   ]
  },
  {
   "cell_type": "markdown",
   "metadata": {
    "heading_collapsed": true
   },
   "source": [
    "## playground"
   ]
  },
  {
   "cell_type": "code",
   "execution_count": 19,
   "metadata": {
    "hidden": true
   },
   "outputs": [],
   "source": [
    "data_sheet = pd.read_excel(PATH_EXCEL_SHEET, engine='openpyxl')"
   ]
  },
  {
   "cell_type": "code",
   "execution_count": 20,
   "metadata": {
    "hidden": true
   },
   "outputs": [
    {
     "data": {
      "text/html": [
       "<div>\n",
       "<style scoped>\n",
       "    .dataframe tbody tr th:only-of-type {\n",
       "        vertical-align: middle;\n",
       "    }\n",
       "\n",
       "    .dataframe tbody tr th {\n",
       "        vertical-align: top;\n",
       "    }\n",
       "\n",
       "    .dataframe thead th {\n",
       "        text-align: right;\n",
       "    }\n",
       "</style>\n",
       "<table border=\"1\" class=\"dataframe\">\n",
       "  <thead>\n",
       "    <tr style=\"text-align: right;\">\n",
       "      <th></th>\n",
       "      <th>TMA_Nr</th>\n",
       "      <th>Survival Time (months)</th>\n",
       "      <th>OS_Censor</th>\n",
       "      <th>DSS_Censor</th>\n",
       "      <th>Recurrence Free Survival (months)</th>\n",
       "      <th>RFS_Censor</th>\n",
       "      <th>1°/2°-MIBC</th>\n",
       "      <th>Initial pT-Stage</th>\n",
       "      <th>pT-Stage Summary</th>\n",
       "      <th>pN-Stage</th>\n",
       "      <th>...</th>\n",
       "      <th>Adjuvant chemotherapy</th>\n",
       "      <th>Histology</th>\n",
       "      <th>Variant Histology</th>\n",
       "      <th>%_Variant Histology</th>\n",
       "      <th>Variant Summary</th>\n",
       "      <th>FGFR3_Mutation</th>\n",
       "      <th>FGFR3_Fusion</th>\n",
       "      <th>FGFR3_Summary</th>\n",
       "      <th>Meta_Immune Phenotypes</th>\n",
       "      <th>Consensus Cluster</th>\n",
       "    </tr>\n",
       "  </thead>\n",
       "  <tbody>\n",
       "    <tr>\n",
       "      <th>0</th>\n",
       "      <td>1</td>\n",
       "      <td>88.07</td>\n",
       "      <td>0</td>\n",
       "      <td>0</td>\n",
       "      <td>79.53</td>\n",
       "      <td>0</td>\n",
       "      <td>Primary</td>\n",
       "      <td>pT2</td>\n",
       "      <td>pT4</td>\n",
       "      <td>pN0</td>\n",
       "      <td>...</td>\n",
       "      <td>No</td>\n",
       "      <td>Urothelial</td>\n",
       "      <td>NOS</td>\n",
       "      <td>NaN</td>\n",
       "      <td>Urothelial - NOS</td>\n",
       "      <td>WT</td>\n",
       "      <td>WT</td>\n",
       "      <td>WT</td>\n",
       "      <td>Uninflamed</td>\n",
       "      <td>NaN</td>\n",
       "    </tr>\n",
       "    <tr>\n",
       "      <th>1</th>\n",
       "      <td>2</td>\n",
       "      <td>5.00</td>\n",
       "      <td>0</td>\n",
       "      <td>1</td>\n",
       "      <td>5.00</td>\n",
       "      <td>1</td>\n",
       "      <td>Primary</td>\n",
       "      <td>pT2</td>\n",
       "      <td>pT2</td>\n",
       "      <td>pN0</td>\n",
       "      <td>...</td>\n",
       "      <td>No</td>\n",
       "      <td>Urothelial</td>\n",
       "      <td>Lymphoepithelioma-like</td>\n",
       "      <td>NaN</td>\n",
       "      <td>Urothelial - Variant Histology</td>\n",
       "      <td>WT</td>\n",
       "      <td>WT</td>\n",
       "      <td>WT</td>\n",
       "      <td>Evasion Phenotype</td>\n",
       "      <td>Ba/Sq</td>\n",
       "    </tr>\n",
       "    <tr>\n",
       "      <th>2</th>\n",
       "      <td>3</td>\n",
       "      <td>129.47</td>\n",
       "      <td>0</td>\n",
       "      <td>1</td>\n",
       "      <td>129.47</td>\n",
       "      <td>1</td>\n",
       "      <td>Primary</td>\n",
       "      <td>pT2</td>\n",
       "      <td>pT3</td>\n",
       "      <td>pN0</td>\n",
       "      <td>...</td>\n",
       "      <td>No</td>\n",
       "      <td>Urothelial</td>\n",
       "      <td>Squamous</td>\n",
       "      <td>0.6</td>\n",
       "      <td>Urothelial - Squamous</td>\n",
       "      <td>WT</td>\n",
       "      <td>WT</td>\n",
       "      <td>WT</td>\n",
       "      <td>Inflamed: High</td>\n",
       "      <td>LumU</td>\n",
       "    </tr>\n",
       "    <tr>\n",
       "      <th>3</th>\n",
       "      <td>4</td>\n",
       "      <td>6.63</td>\n",
       "      <td>0</td>\n",
       "      <td>0</td>\n",
       "      <td>6.63</td>\n",
       "      <td>0</td>\n",
       "      <td>Primary</td>\n",
       "      <td>pT2</td>\n",
       "      <td>pT3</td>\n",
       "      <td>pN2</td>\n",
       "      <td>...</td>\n",
       "      <td>No</td>\n",
       "      <td>Neuroendocrine</td>\n",
       "      <td>Neuroendocrine</td>\n",
       "      <td>NaN</td>\n",
       "      <td>Neuroendocrine</td>\n",
       "      <td>WT</td>\n",
       "      <td>WT</td>\n",
       "      <td>WT</td>\n",
       "      <td>Uninflamed</td>\n",
       "      <td>NE-like</td>\n",
       "    </tr>\n",
       "    <tr>\n",
       "      <th>4</th>\n",
       "      <td>5</td>\n",
       "      <td>27.77</td>\n",
       "      <td>0</td>\n",
       "      <td>0</td>\n",
       "      <td>16.37</td>\n",
       "      <td>0</td>\n",
       "      <td>Secondary</td>\n",
       "      <td>pT1/ pTa, CIS</td>\n",
       "      <td>pT3</td>\n",
       "      <td>pNX</td>\n",
       "      <td>...</td>\n",
       "      <td>Yes</td>\n",
       "      <td>Urothelial</td>\n",
       "      <td>Squamous</td>\n",
       "      <td>0.4</td>\n",
       "      <td>Urothelial - Squamous</td>\n",
       "      <td>WT</td>\n",
       "      <td>WT</td>\n",
       "      <td>WT</td>\n",
       "      <td>Uninflamed</td>\n",
       "      <td>Ba/Sq</td>\n",
       "    </tr>\n",
       "    <tr>\n",
       "      <th>...</th>\n",
       "      <td>...</td>\n",
       "      <td>...</td>\n",
       "      <td>...</td>\n",
       "      <td>...</td>\n",
       "      <td>...</td>\n",
       "      <td>...</td>\n",
       "      <td>...</td>\n",
       "      <td>...</td>\n",
       "      <td>...</td>\n",
       "      <td>...</td>\n",
       "      <td>...</td>\n",
       "      <td>...</td>\n",
       "      <td>...</td>\n",
       "      <td>...</td>\n",
       "      <td>...</td>\n",
       "      <td>...</td>\n",
       "      <td>...</td>\n",
       "      <td>...</td>\n",
       "      <td>...</td>\n",
       "      <td>...</td>\n",
       "      <td>...</td>\n",
       "    </tr>\n",
       "    <tr>\n",
       "      <th>242</th>\n",
       "      <td>243</td>\n",
       "      <td>14.47</td>\n",
       "      <td>1</td>\n",
       "      <td>1</td>\n",
       "      <td>7.47</td>\n",
       "      <td>0</td>\n",
       "      <td>Primary</td>\n",
       "      <td>pT2</td>\n",
       "      <td>pT2</td>\n",
       "      <td>pN2</td>\n",
       "      <td>...</td>\n",
       "      <td>Yes</td>\n",
       "      <td>Urothelial</td>\n",
       "      <td>NOS</td>\n",
       "      <td>NaN</td>\n",
       "      <td>Urothelial - NOS</td>\n",
       "      <td>G372C</td>\n",
       "      <td>WT</td>\n",
       "      <td>Altered</td>\n",
       "      <td>Inflamed: Low</td>\n",
       "      <td>LumP</td>\n",
       "    </tr>\n",
       "    <tr>\n",
       "      <th>243</th>\n",
       "      <td>244</td>\n",
       "      <td>14.70</td>\n",
       "      <td>1</td>\n",
       "      <td>1</td>\n",
       "      <td>12.40</td>\n",
       "      <td>0</td>\n",
       "      <td>Primary</td>\n",
       "      <td>pT2</td>\n",
       "      <td>pT2</td>\n",
       "      <td>pN0</td>\n",
       "      <td>...</td>\n",
       "      <td>No</td>\n",
       "      <td>Urothelial</td>\n",
       "      <td>Neuroendocrine</td>\n",
       "      <td>0.9</td>\n",
       "      <td>Urothelial - Variant Histology</td>\n",
       "      <td>WT</td>\n",
       "      <td>WT</td>\n",
       "      <td>WT</td>\n",
       "      <td>Inflamed: Low</td>\n",
       "      <td>NE-like</td>\n",
       "    </tr>\n",
       "    <tr>\n",
       "      <th>244</th>\n",
       "      <td>245</td>\n",
       "      <td>4.73</td>\n",
       "      <td>1</td>\n",
       "      <td>1</td>\n",
       "      <td>4.73</td>\n",
       "      <td>1</td>\n",
       "      <td>Primary</td>\n",
       "      <td>pT2</td>\n",
       "      <td>pT2</td>\n",
       "      <td>pNX</td>\n",
       "      <td>...</td>\n",
       "      <td>No</td>\n",
       "      <td>Urothelial</td>\n",
       "      <td>NOS</td>\n",
       "      <td>NaN</td>\n",
       "      <td>Urothelial - NOS</td>\n",
       "      <td>WT</td>\n",
       "      <td>WT</td>\n",
       "      <td>WT</td>\n",
       "      <td>Inflamed: Low</td>\n",
       "      <td>LumNS</td>\n",
       "    </tr>\n",
       "    <tr>\n",
       "      <th>245</th>\n",
       "      <td>246</td>\n",
       "      <td>4.50</td>\n",
       "      <td>0</td>\n",
       "      <td>0</td>\n",
       "      <td>3.27</td>\n",
       "      <td>0</td>\n",
       "      <td>Primary</td>\n",
       "      <td>pT2</td>\n",
       "      <td>pT3</td>\n",
       "      <td>pN0</td>\n",
       "      <td>...</td>\n",
       "      <td>No</td>\n",
       "      <td>Urothelial</td>\n",
       "      <td>Squamous</td>\n",
       "      <td>0.3</td>\n",
       "      <td>Urothelial - Squamous</td>\n",
       "      <td>WT</td>\n",
       "      <td>WT</td>\n",
       "      <td>WT</td>\n",
       "      <td>Uninflamed</td>\n",
       "      <td>Ba/Sq</td>\n",
       "    </tr>\n",
       "    <tr>\n",
       "      <th>246</th>\n",
       "      <td>247</td>\n",
       "      <td>5.33</td>\n",
       "      <td>1</td>\n",
       "      <td>1</td>\n",
       "      <td>5.33</td>\n",
       "      <td>1</td>\n",
       "      <td>Primary</td>\n",
       "      <td>pT2</td>\n",
       "      <td>pT2</td>\n",
       "      <td>pN0</td>\n",
       "      <td>...</td>\n",
       "      <td>No</td>\n",
       "      <td>Urothelial</td>\n",
       "      <td>NOS</td>\n",
       "      <td>NaN</td>\n",
       "      <td>Urothelial - NOS</td>\n",
       "      <td>S249C</td>\n",
       "      <td>WT</td>\n",
       "      <td>Altered</td>\n",
       "      <td>Uninflamed</td>\n",
       "      <td>LumP</td>\n",
       "    </tr>\n",
       "  </tbody>\n",
       "</table>\n",
       "<p>247 rows × 30 columns</p>\n",
       "</div>"
      ],
      "text/plain": [
       "     TMA_Nr  Survival Time (months)  OS_Censor  DSS_Censor  \\\n",
       "0         1                   88.07          0           0   \n",
       "1         2                    5.00          0           1   \n",
       "2         3                  129.47          0           1   \n",
       "3         4                    6.63          0           0   \n",
       "4         5                   27.77          0           0   \n",
       "..      ...                     ...        ...         ...   \n",
       "242     243                   14.47          1           1   \n",
       "243     244                   14.70          1           1   \n",
       "244     245                    4.73          1           1   \n",
       "245     246                    4.50          0           0   \n",
       "246     247                    5.33          1           1   \n",
       "\n",
       "     Recurrence Free Survival (months)  RFS_Censor 1°/2°-MIBC  \\\n",
       "0                                79.53           0    Primary   \n",
       "1                                 5.00           1    Primary   \n",
       "2                               129.47           1    Primary   \n",
       "3                                 6.63           0    Primary   \n",
       "4                                16.37           0  Secondary   \n",
       "..                                 ...         ...        ...   \n",
       "242                               7.47           0    Primary   \n",
       "243                              12.40           0    Primary   \n",
       "244                               4.73           1    Primary   \n",
       "245                               3.27           0    Primary   \n",
       "246                               5.33           1    Primary   \n",
       "\n",
       "    Initial pT-Stage pT-Stage Summary pN-Stage  ...  Adjuvant chemotherapy  \\\n",
       "0                pT2              pT4      pN0  ...                     No   \n",
       "1                pT2              pT2      pN0  ...                     No   \n",
       "2                pT2              pT3      pN0  ...                     No   \n",
       "3                pT2              pT3      pN2  ...                     No   \n",
       "4      pT1/ pTa, CIS              pT3      pNX  ...                    Yes   \n",
       "..               ...              ...      ...  ...                    ...   \n",
       "242              pT2              pT2      pN2  ...                    Yes   \n",
       "243              pT2              pT2      pN0  ...                     No   \n",
       "244              pT2              pT2      pNX  ...                     No   \n",
       "245              pT2              pT3      pN0  ...                     No   \n",
       "246              pT2              pT2      pN0  ...                     No   \n",
       "\n",
       "          Histology       Variant Histology  %_Variant Histology  \\\n",
       "0        Urothelial                     NOS                  NaN   \n",
       "1        Urothelial  Lymphoepithelioma-like                  NaN   \n",
       "2        Urothelial                Squamous                  0.6   \n",
       "3    Neuroendocrine          Neuroendocrine                  NaN   \n",
       "4        Urothelial                Squamous                  0.4   \n",
       "..              ...                     ...                  ...   \n",
       "242      Urothelial                     NOS                  NaN   \n",
       "243      Urothelial          Neuroendocrine                  0.9   \n",
       "244      Urothelial                     NOS                  NaN   \n",
       "245      Urothelial                Squamous                  0.3   \n",
       "246      Urothelial                     NOS                  NaN   \n",
       "\n",
       "                    Variant Summary FGFR3_Mutation FGFR3_Fusion  \\\n",
       "0                  Urothelial - NOS             WT           WT   \n",
       "1    Urothelial - Variant Histology             WT           WT   \n",
       "2             Urothelial - Squamous             WT           WT   \n",
       "3                    Neuroendocrine             WT           WT   \n",
       "4             Urothelial - Squamous             WT           WT   \n",
       "..                              ...            ...          ...   \n",
       "242                Urothelial - NOS          G372C           WT   \n",
       "243  Urothelial - Variant Histology             WT           WT   \n",
       "244                Urothelial - NOS             WT           WT   \n",
       "245           Urothelial - Squamous             WT           WT   \n",
       "246                Urothelial - NOS          S249C           WT   \n",
       "\n",
       "     FGFR3_Summary  Meta_Immune Phenotypes  Consensus Cluster  \n",
       "0               WT              Uninflamed                NaN  \n",
       "1               WT       Evasion Phenotype              Ba/Sq  \n",
       "2               WT          Inflamed: High               LumU  \n",
       "3               WT              Uninflamed            NE-like  \n",
       "4               WT              Uninflamed              Ba/Sq  \n",
       "..             ...                     ...                ...  \n",
       "242        Altered           Inflamed: Low               LumP  \n",
       "243             WT           Inflamed: Low            NE-like  \n",
       "244             WT           Inflamed: Low              LumNS  \n",
       "245             WT              Uninflamed              Ba/Sq  \n",
       "246        Altered              Uninflamed               LumP  \n",
       "\n",
       "[247 rows x 30 columns]"
      ]
     },
     "execution_count": 20,
     "metadata": {},
     "output_type": "execute_result"
    }
   ],
   "source": [
    "data_sheet"
   ]
  },
  {
   "cell_type": "code",
   "execution_count": 25,
   "metadata": {
    "hidden": true
   },
   "outputs": [],
   "source": [
    "s = 'MIER_140_M17'"
   ]
  },
  {
   "cell_type": "code",
   "execution_count": 28,
   "metadata": {
    "hidden": true
   },
   "outputs": [
    {
     "data": {
      "text/plain": [
       "['MIER', '140', 'M17']"
      ]
     },
     "execution_count": 28,
     "metadata": {},
     "output_type": "execute_result"
    }
   ],
   "source": [
    "s.split('_')"
   ]
  },
  {
   "cell_type": "code",
   "execution_count": 41,
   "metadata": {
    "hidden": true
   },
   "outputs": [],
   "source": [
    "stems = []\n",
    "tma_nrs = []\n",
    "for wsi_path in list(wsi_path_to_rois.keys()):\n",
    "    stem = wsi_path.stem\n",
    "    stems.append(stem)\n",
    "    split = stem.split('_')\n",
    "    tma_nr = split[1]\n",
    "    tma_nrs.append(tma_nr)"
   ]
  },
  {
   "cell_type": "code",
   "execution_count": null,
   "metadata": {
    "hidden": true
   },
   "outputs": [],
   "source": []
  },
  {
   "cell_type": "code",
   "execution_count": null,
   "metadata": {
    "hidden": true
   },
   "outputs": [],
   "source": []
  },
  {
   "cell_type": "code",
   "execution_count": 88,
   "metadata": {
    "hidden": true
   },
   "outputs": [],
   "source": [
    "tma_nr = 247"
   ]
  },
  {
   "cell_type": "code",
   "execution_count": 61,
   "metadata": {
    "hidden": true
   },
   "outputs": [
    {
     "data": {
      "text/plain": [
       "'Urothelial'"
      ]
     },
     "execution_count": 61,
     "metadata": {},
     "output_type": "execute_result"
    }
   ],
   "source": [
    "data_sheet.iloc[0]['Histology']"
   ]
  },
  {
   "cell_type": "code",
   "execution_count": 63,
   "metadata": {
    "hidden": true
   },
   "outputs": [
    {
     "data": {
      "text/plain": [
       "'NOS'"
      ]
     },
     "execution_count": 63,
     "metadata": {},
     "output_type": "execute_result"
    }
   ],
   "source": [
    "data_sheet.iloc[0]['Variant Histology']"
   ]
  },
  {
   "cell_type": "code",
   "execution_count": 76,
   "metadata": {
    "hidden": true
   },
   "outputs": [
    {
     "data": {
      "text/plain": [
       "247"
      ]
     },
     "execution_count": 76,
     "metadata": {},
     "output_type": "execute_result"
    }
   ],
   "source": [
    "data_sheet.max()['TMA_Nr']"
   ]
  },
  {
   "cell_type": "code",
   "execution_count": 78,
   "metadata": {
    "hidden": true
   },
   "outputs": [
    {
     "data": {
      "text/plain": [
       "247"
      ]
     },
     "execution_count": 78,
     "metadata": {},
     "output_type": "execute_result"
    }
   ],
   "source": [
    "len(data_sheet.index)"
   ]
  },
  {
   "cell_type": "code",
   "execution_count": 91,
   "metadata": {
    "hidden": true
   },
   "outputs": [],
   "source": [
    "histos = []\n",
    "v_histos = []\n",
    "\n",
    "for i in range(len(data_sheet.index)):\n",
    "    row = data_sheet.iloc[i]\n",
    "    histology = row['Histology']\n",
    "    variant_histology = row['Variant Histology']\n",
    "    \n",
    "    histos.append(histology)\n",
    "    v_histos.append(variant_histology)"
   ]
  },
  {
   "cell_type": "code",
   "execution_count": 85,
   "metadata": {
    "hidden": true
   },
   "outputs": [
    {
     "data": {
      "text/plain": [
       "{'Neuroendocrine', 'Urothelial'}"
      ]
     },
     "execution_count": 85,
     "metadata": {},
     "output_type": "execute_result"
    }
   ],
   "source": [
    "set(histos)"
   ]
  },
  {
   "cell_type": "code",
   "execution_count": 87,
   "metadata": {
    "hidden": true
   },
   "outputs": [
    {
     "data": {
      "text/plain": [
       "{'Glandular',\n",
       " 'Glycogen rich',\n",
       " 'LNUC',\n",
       " 'Lymphoepithelioma-like',\n",
       " 'MPUC',\n",
       " 'NOS',\n",
       " 'NUC',\n",
       " 'Neuroendocrine',\n",
       " 'PUC',\n",
       " 'Sarcomatoid',\n",
       " 'Squamous',\n",
       " 'Trophoblastoid'}"
      ]
     },
     "execution_count": 87,
     "metadata": {},
     "output_type": "execute_result"
    }
   ],
   "source": [
    "set(v_histos)"
   ]
  },
  {
   "cell_type": "markdown",
   "metadata": {},
   "source": [
    "## id and label funcs"
   ]
  },
  {
   "cell_type": "code",
   "execution_count": 17,
   "metadata": {},
   "outputs": [],
   "source": [
    "data_sheet = pd.read_excel(PATH_EXCEL_SHEET, engine='openpyxl')\n",
    "\n",
    "# one case per patient => patient id == case id\n",
    "def get_patient_id_from_wsi_path(wsi_path:pathlib.Path)->str:\n",
    "    return get_case_id_from_wsi_path(wsi_path=wsi_path)\n",
    "    \n",
    "def get_case_id_from_wsi_path(wsi_path:pathlib.Path)->str:\n",
    "    split = wsi_path.stem.split('_')\n",
    "    return f'{split[0]}_{split[1]}'    \n",
    "\n",
    "def get_slide_id_from_wsi_path(wsi_path:pathlib.Path)->str:\n",
    "    return wsi_path.stem\n",
    "\n",
    "def get_labels_from_wsi_path(wsi_path:pathlib.Path, roi=None)->List[int]:\n",
    "    tma_nr = wsi_path.stem.split('_')[1]\n",
    "    row = data_sheet.iloc[int(tma_nr)-1]\n",
    "    histology = row['Histology']\n",
    "    variant_histology = row['Variant Histology']\n",
    "    return [histology, variant_histology]"
   ]
  },
  {
   "cell_type": "markdown",
   "metadata": {},
   "source": [
    "## tiles"
   ]
  },
  {
   "cell_type": "code",
   "execution_count": null,
   "metadata": {},
   "outputs": [
    {
     "name": "stderr",
     "output_type": "stream",
     "text": [
      "\n",
      "  0%|          | 0/233 [00:00<?, ?it/s]\u001b[A"
     ]
    },
    {
     "name": "stdout",
     "output_type": "stream",
     "text": [
      "Starting to process /home/Deep_Learner/private/datasets/urothel_ca/Neue_Scans_Urothelkarzinome/MIER_140_M17.mrxs\n",
      "Starting to process /home/Deep_Learner/private/datasets/urothel_ca/Neue_Scans_Urothelkarzinome/MIER_151_M3.mrxs\n",
      "Starting to process /home/Deep_Learner/private/datasets/urothel_ca/Neue_Scans_Urothelkarzinome/MIER_200_M9.mrxs\n",
      "Starting to process /home/Deep_Learner/private/datasets/urothel_ca/Neue_Scans_Urothelkarzinome/MIER_175_M12.mrxs\n",
      "Starting to process /home/Deep_Learner/private/datasets/urothel_ca/Neue_Scans_Urothelkarzinome/MIER_211_C.mrxs\n",
      "Starting to process /home/Deep_Learner/private/datasets/urothel_ca/Neue_Scans_Urothelkarzinome/MIER_217_C.mrxs\n",
      "Starting to process /home/Deep_Learner/private/datasets/urothel_ca/Neue_Scans_Urothelkarzinome/MIER_40_D.mrxs\n",
      "Starting to process /home/Deep_Learner/private/datasets/urothel_ca/Neue_Scans_Urothelkarzinome/MIER_158_TUR2.mrxs\n",
      "Starting to process /home/Deep_Learner/private/datasets/urothel_ca/Neue_Scans_Urothelkarzinome/MIER_236_C.mrxs\n",
      "Starting to process /home/Deep_Learner/private/datasets/urothel_ca/Neue_Scans_Urothelkarzinome/MIER_74_M10.mrxs\n",
      "Starting to process /home/Deep_Learner/private/datasets/urothel_ca/Neue_Scans_Urothelkarzinome/MIER_184_I.mrxs\n",
      "Starting to process /home/Deep_Learner/private/datasets/urothel_ca/Neue_Scans_Urothelkarzinome/MIER_46_A.mrxs\n",
      "Starting to process /home/Deep_Learner/private/datasets/urothel_ca/Neue_Scans_Urothelkarzinome/MIER_52_B.mrxs\n",
      "Starting to process /home/Deep_Learner/private/datasets/urothel_ca/Neue_Scans_Urothelkarzinome/MIER_134_TUR1.mrxs\n",
      "Starting to process /home/Deep_Learner/private/datasets/urothel_ca/Neue_Scans_Urothelkarzinome/MIER_41_A.mrxs\n",
      "Starting to process /home/Deep_Learner/private/datasets/urothel_ca/Neue_Scans_Urothelkarzinome/MIER_127_G.mrxs\n",
      "Starting to process /home/Deep_Learner/private/datasets/urothel_ca/Neue_Scans_Urothelkarzinome/MIER_147_A.mrxs\n",
      "Starting to process /home/Deep_Learner/private/datasets/urothel_ca/Neue_Scans_Urothelkarzinome/MIER_233_TUR1.mrxs\n",
      "Starting to process /home/Deep_Learner/private/datasets/urothel_ca/Neue_Scans_Urothelkarzinome/MIER_115_C.mrxs\n",
      "Starting to process /home/Deep_Learner/private/datasets/urothel_ca/Neue_Scans_Urothelkarzinome/MIER_17_C.mrxs\n",
      "Starting to process /home/Deep_Learner/private/datasets/urothel_ca/Neue_Scans_Urothelkarzinome/MIER_130_C.mrxs\n",
      "Starting to process /home/Deep_Learner/private/datasets/urothel_ca/Neue_Scans_Urothelkarzinome/MIER_183_A.mrxs\n",
      "Starting to process /home/Deep_Learner/private/datasets/urothel_ca/Neue_Scans_Urothelkarzinome/MIER_222_M13.mrxs\n",
      "Starting to process /home/Deep_Learner/private/datasets/urothel_ca/Neue_Scans_Urothelkarzinome/MIER_50_A.mrxs\n",
      "Starting to process /home/Deep_Learner/private/datasets/urothel_ca/Neue_Scans_Urothelkarzinome/MIER_79_D.mrxs\n",
      "Starting to process /home/Deep_Learner/private/datasets/urothel_ca/Neue_Scans_Urothelkarzinome/MIER_167_L.mrxs\n",
      "Starting to process /home/Deep_Learner/private/datasets/urothel_ca/Neue_Scans_Urothelkarzinome/MIER_145_B.mrxs\n",
      "Starting to process /home/Deep_Learner/private/datasets/urothel_ca/Neue_Scans_Urothelkarzinome/MIER_187_M13.mrxs\n",
      "Starting to process /home/Deep_Learner/private/datasets/urothel_ca/Neue_Scans_Urothelkarzinome/MIER_71_H.mrxs\n",
      "Starting to process /home/Deep_Learner/private/datasets/urothel_ca/Neue_Scans_Urothelkarzinome/MIER_229_TUR2.mrxs\n",
      "Starting to process /home/Deep_Learner/private/datasets/urothel_ca/Neue_Scans_Urothelkarzinome/MIER_154_M21.mrxs\n",
      "Starting to process /home/Deep_Learner/private/datasets/urothel_ca/Neue_Scans_Urothelkarzinome/MIER_6_C.mrxs\n"
     ]
    }
   ],
   "source": [
    "tilesummaries = tiles.WsisToTilesParallel(wsi_paths=list(wsi_path_to_rois.keys()),\n",
    "                                          tile_height=1024, \n",
    "                                          tile_width=1024, \n",
    "                                          tile_scoring_function=tiles.score_tile_1,\n",
    "                                          tile_score_thresh=0.2, \n",
    "                                          level=0, \n",
    "                                          wsi_path_to_rois=wsi_path_to_rois,\n",
    "                                          minimal_tile_roi_intersection_ratio=0.95, \n",
    "                                          verbose=True, \n",
    "                                          grids_per_roi=3, \n",
    "                                          optimize_grid_angles=True)"
   ]
  },
  {
   "cell_type": "code",
   "execution_count": null,
   "metadata": {},
   "outputs": [],
   "source": [
    "#tilesummaries = []\n",
    "#failed_wsi_paths = {}"
   ]
  },
  {
   "cell_type": "code",
   "execution_count": 398,
   "metadata": {},
   "outputs": [
    {
     "name": "stderr",
     "output_type": "stream",
     "text": [
      "\n",
      "\n",
      "\n",
      "  0%|          | 0/233 [00:00<?, ?it/s]\u001b[A\u001b[A\u001b[A"
     ]
    },
    {
     "name": "stdout",
     "output_type": "stream",
     "text": [
      "Starting to process /home/Deep_Learner/private/datasets/urothel_ca/Neue_Scans_Urothelkarzinome/MIER_140_M17.mrxs\n",
      "733\n",
      "IndexError in WsiToTiles for the rectangle: (ul: (x:65544.0, y:128678.0), ur: (x:66568.0, y:128678.0), lr: (x:66568.0, y:129702.0), ll: (x:65544.0, y:129702.0))\n",
      "IndexError in WsiToTiles for the rectangle: (ul: (x:40780.0, y:128053.0), ur: (x:41804.0, y:128053.0), lr: (x:41804.0, y:129077.0), ll: (x:40780.0, y:129077.0))\n",
      "IndexError in WsiToTiles for the rectangle: (ul: (x:64912.0, y:91172.0), ur: (x:65936.0, y:91172.0), lr: (x:65936.0, y:92196.0), ll: (x:64912.0, y:92196.0))\n",
      "IndexError in WsiToTiles for the rectangle: (ul: (x:64912.0, y:92196.0), ur: (x:65936.0, y:92196.0), lr: (x:65936.0, y:93220.0), ll: (x:64912.0, y:93220.0))\n",
      "IndexError in WsiToTiles for the rectangle: (ul: (x:61459.0, y:114174.0), ur: (x:62483.0, y:114174.0), lr: (x:62483.0, y:115198.0), ll: (x:61459.0, y:115198.0))\n"
     ]
    },
    {
     "name": "stderr",
     "output_type": "stream",
     "text": [
      "\n",
      "\n",
      "\n",
      "  0%|          | 1/233 [00:45<2:56:17, 45.59s/it]\u001b[A\u001b[A\u001b[A"
     ]
    },
    {
     "name": "stdout",
     "output_type": "stream",
     "text": [
      "/home/Deep_Learner/private/datasets/urothel_ca/Neue_Scans_Urothelkarzinome/MIER_140_M17.mrxs: Number of tiles that will be kept/all possible tiles:             699/728\n",
      "Starting to process /home/Deep_Learner/private/datasets/urothel_ca/Neue_Scans_Urothelkarzinome/MIER_151_M3.mrxs\n",
      "1589\n",
      "IndexError in WsiToTiles for the rectangle: (ul: (x:224685.0, y:144926.0), ur: (x:225709.0, y:144926.0), lr: (x:225709.0, y:145950.0), ll: (x:224685.0, y:145950.0))\n",
      "IndexError in WsiToTiles for the rectangle: (ul: (x:197712.74, y:138311.0), ur: (x:198736.74, y:138311.0), lr: (x:198736.74, y:139335.0), ll: (x:197712.74, y:139335.0))\n",
      "IndexError in WsiToTiles for the rectangle: (ul: (x:201623.0, y:84653.0), ur: (x:202647.0, y:84653.0), lr: (x:202647.0, y:85677.0), ll: (x:201623.0, y:85677.0))\n",
      "IndexError in WsiToTiles for the rectangle: (ul: (x:189429.0, y:121670.0), ur: (x:190453.0, y:121670.0), lr: (x:190453.0, y:122694.0), ll: (x:189429.0, y:122694.0))\n",
      "IndexError in WsiToTiles for the rectangle: (ul: (x:196773.0, y:94081.06), ur: (x:197797.0, y:94081.06), lr: (x:197797.0, y:95105.06), ll: (x:196773.0, y:95105.06))\n",
      "IndexError in WsiToTiles for the rectangle: (ul: (x:197203.0, y:75618.0), ur: (x:198227.0, y:75618.0), lr: (x:198227.0, y:76642.0), ll: (x:197203.0, y:76642.0))\n",
      "IndexError in WsiToTiles for the rectangle: (ul: (x:229012.0, y:108242.0), ur: (x:230036.0, y:108242.0), lr: (x:230036.0, y:109266.0), ll: (x:229012.0, y:109266.0))\n"
     ]
    },
    {
     "name": "stderr",
     "output_type": "stream",
     "text": [
      "\n",
      "\n",
      "\n",
      "  1%|          | 2/233 [05:22<7:22:24, 114.91s/it]\u001b[A\u001b[A\u001b[A"
     ]
    },
    {
     "name": "stdout",
     "output_type": "stream",
     "text": [
      "/home/Deep_Learner/private/datasets/urothel_ca/Neue_Scans_Urothelkarzinome/MIER_151_M3.mrxs: Number of tiles that will be kept/all possible tiles:             1150/1582\n",
      "Starting to process /home/Deep_Learner/private/datasets/urothel_ca/Neue_Scans_Urothelkarzinome/MIER_158_TUR2.mrxs\n",
      "192\n",
      "IndexError in WsiToTiles for the rectangle: (ul: (x:51488.0, y:157744.02), ur: (x:52512.0, y:157744.02), lr: (x:52512.0, y:158768.02), ll: (x:51488.0, y:158768.02))\n"
     ]
    },
    {
     "name": "stderr",
     "output_type": "stream",
     "text": [
      "\n",
      "\n",
      "\n",
      "  1%|▏         | 3/233 [07:13<7:16:25, 113.85s/it]\u001b[A\u001b[A\u001b[A"
     ]
    },
    {
     "name": "stdout",
     "output_type": "stream",
     "text": [
      "/home/Deep_Learner/private/datasets/urothel_ca/Neue_Scans_Urothelkarzinome/MIER_158_TUR2.mrxs: Number of tiles that will be kept/all possible tiles:             191/191\n",
      "Starting to process /home/Deep_Learner/private/datasets/urothel_ca/Neue_Scans_Urothelkarzinome/MIER_175_M12.mrxs\n",
      "629\n"
     ]
    },
    {
     "name": "stderr",
     "output_type": "stream",
     "text": [
      "\n",
      "\n",
      "\n",
      "  2%|▏         | 4/233 [08:35<6:38:09, 104.32s/it]\u001b[A\u001b[A\u001b[A"
     ]
    },
    {
     "name": "stdout",
     "output_type": "stream",
     "text": [
      "/home/Deep_Learner/private/datasets/urothel_ca/Neue_Scans_Urothelkarzinome/MIER_175_M12.mrxs: Number of tiles that will be kept/all possible tiles:             48/629\n",
      "Starting to process /home/Deep_Learner/private/datasets/urothel_ca/Neue_Scans_Urothelkarzinome/MIER_200_M9.mrxs\n",
      "506\n",
      "IndexError in WsiToTiles for the rectangle: (ul: (x:52398.0, y:93582.0), ur: (x:53422.0, y:93582.0), lr: (x:53422.0, y:94606.0), ll: (x:52398.0, y:94606.0))\n",
      "IndexError in WsiToTiles for the rectangle: (ul: (x:34183.0, y:55559.0), ur: (x:35207.0, y:55559.0), lr: (x:35207.0, y:56583.0), ll: (x:34183.0, y:56583.0))\n"
     ]
    },
    {
     "name": "stderr",
     "output_type": "stream",
     "text": [
      "\n",
      "\n",
      "\n",
      "  2%|▏         | 5/233 [08:49<4:52:51, 77.07s/it] \u001b[A\u001b[A\u001b[A"
     ]
    },
    {
     "name": "stdout",
     "output_type": "stream",
     "text": [
      "/home/Deep_Learner/private/datasets/urothel_ca/Neue_Scans_Urothelkarzinome/MIER_200_M9.mrxs: Number of tiles that will be kept/all possible tiles:             495/504\n",
      "Starting to process /home/Deep_Learner/private/datasets/urothel_ca/Neue_Scans_Urothelkarzinome/MIER_211_C.mrxs\n",
      "822\n",
      "IndexError in WsiToTiles for the rectangle: (ul: (x:244428.0, y:79222.0), ur: (x:245452.0, y:79222.0), lr: (x:245452.0, y:80246.0), ll: (x:244428.0, y:80246.0))\n",
      "IndexError in WsiToTiles for the rectangle: (ul: (x:222317.0, y:105679.0), ur: (x:223341.0, y:105679.0), lr: (x:223341.0, y:106703.0), ll: (x:222317.0, y:106703.0))\n"
     ]
    },
    {
     "name": "stderr",
     "output_type": "stream",
     "text": [
      "\n",
      "\n",
      "\n",
      "  3%|▎         | 6/233 [09:50<4:34:09, 72.47s/it]\u001b[A\u001b[A\u001b[A"
     ]
    },
    {
     "name": "stdout",
     "output_type": "stream",
     "text": [
      "/home/Deep_Learner/private/datasets/urothel_ca/Neue_Scans_Urothelkarzinome/MIER_211_C.mrxs: Number of tiles that will be kept/all possible tiles:             788/820\n",
      "Starting to process /home/Deep_Learner/private/datasets/urothel_ca/Neue_Scans_Urothelkarzinome/MIER_217_C.mrxs\n",
      "207\n"
     ]
    },
    {
     "name": "stderr",
     "output_type": "stream",
     "text": [
      "\n",
      "\n",
      "\n",
      "  3%|▎         | 7/233 [10:20<3:44:32, 59.61s/it]\u001b[A\u001b[A\u001b[A"
     ]
    },
    {
     "name": "stdout",
     "output_type": "stream",
     "text": [
      "/home/Deep_Learner/private/datasets/urothel_ca/Neue_Scans_Urothelkarzinome/MIER_217_C.mrxs: Number of tiles that will be kept/all possible tiles:             207/207\n",
      "Starting to process /home/Deep_Learner/private/datasets/urothel_ca/Neue_Scans_Urothelkarzinome/MIER_236_C.mrxs\n",
      "440\n",
      "IndexError in WsiToTiles for the rectangle: (ul: (x:225724.31, y:134618.0), ur: (x:226748.31, y:134618.0), lr: (x:226748.31, y:135642.0), ll: (x:225724.31, y:135642.0))\n"
     ]
    },
    {
     "name": "stderr",
     "output_type": "stream",
     "text": [
      "\n",
      "\n",
      "\n",
      "  3%|▎         | 8/233 [11:58<4:27:08, 71.24s/it]\u001b[A\u001b[A\u001b[A"
     ]
    },
    {
     "name": "stdout",
     "output_type": "stream",
     "text": [
      "/home/Deep_Learner/private/datasets/urothel_ca/Neue_Scans_Urothelkarzinome/MIER_236_C.mrxs: Number of tiles that will be kept/all possible tiles:             438/439\n",
      "Starting to process /home/Deep_Learner/private/datasets/urothel_ca/Neue_Scans_Urothelkarzinome/MIER_40_D.mrxs\n",
      "2861\n",
      "IndexError in WsiToTiles for the rectangle: (ul: (x:29088.0, y:86287.0), ur: (x:30112.0, y:86287.0), lr: (x:30112.0, y:87311.0), ll: (x:29088.0, y:87311.0))\n",
      "IndexError in WsiToTiles for the rectangle: (ul: (x:82336.0, y:123151.0), ur: (x:83360.0, y:123151.0), lr: (x:83360.0, y:124175.0), ll: (x:82336.0, y:124175.0))\n"
     ]
    },
    {
     "name": "stderr",
     "output_type": "stream",
     "text": [
      "\n",
      "\n",
      "\n",
      "  4%|▍         | 9/233 [15:27<6:59:40, 112.41s/it]\u001b[A\u001b[A\u001b[A"
     ]
    },
    {
     "name": "stdout",
     "output_type": "stream",
     "text": [
      "/home/Deep_Learner/private/datasets/urothel_ca/Neue_Scans_Urothelkarzinome/MIER_40_D.mrxs: Number of tiles that will be kept/all possible tiles:             2839/2859\n",
      "Starting to process /home/Deep_Learner/private/datasets/urothel_ca/Neue_Scans_Urothelkarzinome/MIER_52_B.mrxs\n",
      "1769\n"
     ]
    },
    {
     "ename": "KeyboardInterrupt",
     "evalue": "",
     "output_type": "error",
     "traceback": [
      "\u001b[0;31m---------------------------------------------------------------------------\u001b[0m",
      "\u001b[0;31mKeyboardInterrupt\u001b[0m                         Traceback (most recent call last)",
      "\u001b[0;32m<ipython-input-398-31bc2741acc7>\u001b[0m in \u001b[0;36m<module>\u001b[0;34m\u001b[0m\n\u001b[1;32m     12\u001b[0m                                               \u001b[0mminimal_tile_roi_intersection_ratio\u001b[0m\u001b[0;34m=\u001b[0m\u001b[0;36m0.95\u001b[0m\u001b[0;34m,\u001b[0m\u001b[0;34m\u001b[0m\u001b[0;34m\u001b[0m\u001b[0m\n\u001b[1;32m     13\u001b[0m                                               \u001b[0mverbose\u001b[0m\u001b[0;34m=\u001b[0m\u001b[0;32mTrue\u001b[0m\u001b[0;34m,\u001b[0m\u001b[0;34m\u001b[0m\u001b[0;34m\u001b[0m\u001b[0m\n\u001b[0;32m---> 14\u001b[0;31m                                               grids_per_roi=1)\n\u001b[0m\u001b[1;32m     15\u001b[0m         \u001b[0mtilesummaries\u001b[0m\u001b[0;34m.\u001b[0m\u001b[0mappend\u001b[0m\u001b[0;34m(\u001b[0m\u001b[0mts\u001b[0m\u001b[0;34m)\u001b[0m\u001b[0;34m\u001b[0m\u001b[0;34m\u001b[0m\u001b[0m\n\u001b[1;32m     16\u001b[0m         \u001b[0;32mtry\u001b[0m\u001b[0;34m:\u001b[0m\u001b[0;34m\u001b[0m\u001b[0;34m\u001b[0m\u001b[0m\n",
      "\u001b[0;32m~/private/wsi_processing_pipeline/tile_extraction/tiles.py\u001b[0m in \u001b[0;36mWsiToTiles\u001b[0;34m(wsi_path, grids_per_roi, tile_height, tile_width, tile_naming_func, tile_score_thresh, tile_scoring_function, optimize_grid_angles, angle_stepsize, level, save_tiles, tiles_folder_path, rois, minimal_tile_roi_intersection_ratio, verbose)\u001b[0m\n\u001b[1;32m   1300\u001b[0m                              roi=gm.get_rois_the_given_tile_is_in(rect_tile=rect_tile_downsampled,\n\u001b[1;32m   1301\u001b[0m                                                                   \u001b[0mrect_level\u001b[0m\u001b[0;34m=\u001b[0m\u001b[0mbest_level_for_downsample\u001b[0m\u001b[0;34m,\u001b[0m\u001b[0;34m\u001b[0m\u001b[0;34m\u001b[0m\u001b[0m\n\u001b[0;32m-> 1302\u001b[0;31m                                             minimal_tile_roi_intersection_ratio=minimal_tile_roi_intersection_ratio)[0])\n\u001b[0m\u001b[1;32m   1303\u001b[0m             \u001b[0mtilesummary\u001b[0m\u001b[0;34m.\u001b[0m\u001b[0mtiles\u001b[0m\u001b[0;34m.\u001b[0m\u001b[0mappend\u001b[0m\u001b[0;34m(\u001b[0m\u001b[0mtile\u001b[0m\u001b[0;34m)\u001b[0m\u001b[0;34m\u001b[0m\u001b[0;34m\u001b[0m\u001b[0m\n\u001b[1;32m   1304\u001b[0m         \u001b[0;32mexcept\u001b[0m \u001b[0mIndexError\u001b[0m \u001b[0;32mas\u001b[0m \u001b[0me\u001b[0m\u001b[0;34m:\u001b[0m\u001b[0;34m\u001b[0m\u001b[0;34m\u001b[0m\u001b[0m\n",
      "\u001b[0;32m~/private/wsi_processing_pipeline/tile_extraction/tiles.py\u001b[0m in \u001b[0;36mget_rois_the_given_tile_is_in\u001b[0;34m(self, rect_tile, rect_level, minimal_tile_roi_intersection_ratio)\u001b[0m\n\u001b[1;32m    673\u001b[0m                 \u001b[0mrect_level\u001b[0m \u001b[0;34m=\u001b[0m \u001b[0mroi\u001b[0m\u001b[0;34m.\u001b[0m\u001b[0mlevel\u001b[0m\u001b[0;34m\u001b[0m\u001b[0;34m\u001b[0m\u001b[0m\n\u001b[1;32m    674\u001b[0m             \u001b[0;32mtry\u001b[0m\u001b[0;34m:\u001b[0m\u001b[0;34m\u001b[0m\u001b[0;34m\u001b[0m\u001b[0m\n\u001b[0;32m--> 675\u001b[0;31m                 if((roi.polygon.intersection(rect_tile.polygon()).area/rect_tile.polygon().area)\\\n\u001b[0m\u001b[1;32m    676\u001b[0m                        >= minimal_tile_roi_intersection_ratio):\n\u001b[1;32m    677\u001b[0m                             \u001b[0mcontaining_rois\u001b[0m\u001b[0;34m.\u001b[0m\u001b[0mappend\u001b[0m\u001b[0;34m(\u001b[0m\u001b[0mroi\u001b[0m\u001b[0;34m)\u001b[0m\u001b[0;34m\u001b[0m\u001b[0;34m\u001b[0m\u001b[0m\n",
      "\u001b[0;32m/opt/conda/envs/DLM_Py3/lib/python3.7/site-packages/shapely/geometry/base.py\u001b[0m in \u001b[0;36mintersection\u001b[0;34m(self, other)\u001b[0m\n\u001b[1;32m    647\u001b[0m     \u001b[0;32mdef\u001b[0m \u001b[0mintersection\u001b[0m\u001b[0;34m(\u001b[0m\u001b[0mself\u001b[0m\u001b[0;34m,\u001b[0m \u001b[0mother\u001b[0m\u001b[0;34m)\u001b[0m\u001b[0;34m:\u001b[0m\u001b[0;34m\u001b[0m\u001b[0;34m\u001b[0m\u001b[0m\n\u001b[1;32m    648\u001b[0m         \u001b[0;34m\"\"\"Returns the intersection of the geometries\"\"\"\u001b[0m\u001b[0;34m\u001b[0m\u001b[0;34m\u001b[0m\u001b[0m\n\u001b[0;32m--> 649\u001b[0;31m         \u001b[0;32mreturn\u001b[0m \u001b[0mgeom_factory\u001b[0m\u001b[0;34m(\u001b[0m\u001b[0mself\u001b[0m\u001b[0;34m.\u001b[0m\u001b[0mimpl\u001b[0m\u001b[0;34m[\u001b[0m\u001b[0;34m'intersection'\u001b[0m\u001b[0;34m]\u001b[0m\u001b[0;34m(\u001b[0m\u001b[0mself\u001b[0m\u001b[0;34m,\u001b[0m \u001b[0mother\u001b[0m\u001b[0;34m)\u001b[0m\u001b[0;34m)\u001b[0m\u001b[0;34m\u001b[0m\u001b[0;34m\u001b[0m\u001b[0m\n\u001b[0m\u001b[1;32m    650\u001b[0m \u001b[0;34m\u001b[0m\u001b[0m\n\u001b[1;32m    651\u001b[0m     \u001b[0;32mdef\u001b[0m \u001b[0msymmetric_difference\u001b[0m\u001b[0;34m(\u001b[0m\u001b[0mself\u001b[0m\u001b[0;34m,\u001b[0m \u001b[0mother\u001b[0m\u001b[0;34m)\u001b[0m\u001b[0;34m:\u001b[0m\u001b[0;34m\u001b[0m\u001b[0;34m\u001b[0m\u001b[0m\n",
      "\u001b[0;32m/opt/conda/envs/DLM_Py3/lib/python3.7/site-packages/shapely/topology.py\u001b[0m in \u001b[0;36m__call__\u001b[0;34m(self, this, other, *args)\u001b[0m\n\u001b[1;32m     64\u001b[0m         \u001b[0mself\u001b[0m\u001b[0;34m.\u001b[0m\u001b[0m_validate\u001b[0m\u001b[0;34m(\u001b[0m\u001b[0mthis\u001b[0m\u001b[0;34m)\u001b[0m\u001b[0;34m\u001b[0m\u001b[0;34m\u001b[0m\u001b[0m\n\u001b[1;32m     65\u001b[0m         \u001b[0mself\u001b[0m\u001b[0;34m.\u001b[0m\u001b[0m_validate\u001b[0m\u001b[0;34m(\u001b[0m\u001b[0mother\u001b[0m\u001b[0;34m,\u001b[0m \u001b[0mstop_prepared\u001b[0m\u001b[0;34m=\u001b[0m\u001b[0;32mTrue\u001b[0m\u001b[0;34m)\u001b[0m\u001b[0;34m\u001b[0m\u001b[0;34m\u001b[0m\u001b[0m\n\u001b[0;32m---> 66\u001b[0;31m         \u001b[0mproduct\u001b[0m \u001b[0;34m=\u001b[0m \u001b[0mself\u001b[0m\u001b[0;34m.\u001b[0m\u001b[0mfn\u001b[0m\u001b[0;34m(\u001b[0m\u001b[0mthis\u001b[0m\u001b[0;34m.\u001b[0m\u001b[0m_geom\u001b[0m\u001b[0;34m,\u001b[0m \u001b[0mother\u001b[0m\u001b[0;34m.\u001b[0m\u001b[0m_geom\u001b[0m\u001b[0;34m,\u001b[0m \u001b[0;34m*\u001b[0m\u001b[0margs\u001b[0m\u001b[0;34m)\u001b[0m\u001b[0;34m\u001b[0m\u001b[0;34m\u001b[0m\u001b[0m\n\u001b[0m\u001b[1;32m     67\u001b[0m         \u001b[0;32mif\u001b[0m \u001b[0mproduct\u001b[0m \u001b[0;32mis\u001b[0m \u001b[0;32mNone\u001b[0m\u001b[0;34m:\u001b[0m\u001b[0;34m\u001b[0m\u001b[0;34m\u001b[0m\u001b[0m\n\u001b[1;32m     68\u001b[0m             err = TopologicalError(\n",
      "\u001b[0;31mKeyboardInterrupt\u001b[0m: "
     ]
    }
   ],
   "source": [
    "for wsi_path in tqdm(list(wsi_path_to_rois.keys())):\n",
    "#for wsi_path in tqdm(list(failed_wsi_paths.keys())[:]):\n",
    "    rois = wsi_path_to_rois[wsi_path]\n",
    "    try:\n",
    "        ts = tiles.WsiToTiles(wsi_path=wsi_path,\n",
    "                              tile_height=1024, \n",
    "                                              tile_width=1024, \n",
    "                                              tile_scoring_function=tiles.score_tile_1,\n",
    "                                              tile_score_thresh=0.2, \n",
    "                                              level=0, \n",
    "                                              rois=rois,\n",
    "                                              minimal_tile_roi_intersection_ratio=0.95, \n",
    "                                              verbose=True, \n",
    "                                              grids_per_roi=1)\n",
    "        tilesummaries.append(ts)\n",
    "        try:\n",
    "            del failed_wsi_paths[wsi_path]\n",
    "        except:\n",
    "            pass\n",
    "    except Exception as e:\n",
    "        failed_wsi_paths[wsi_path] = e"
   ]
  },
  {
   "cell_type": "code",
   "execution_count": null,
   "metadata": {},
   "outputs": [],
   "source": [
    "len(tilesummaries)"
   ]
  },
  {
   "cell_type": "code",
   "execution_count": null,
   "metadata": {},
   "outputs": [],
   "source": [
    "len(failed_wsi_paths)"
   ]
  },
  {
   "cell_type": "markdown",
   "metadata": {},
   "source": [
    "## patient manager"
   ]
  },
  {
   "cell_type": "code",
   "execution_count": 416,
   "metadata": {
    "scrolled": true
   },
   "outputs": [
    {
     "name": "stderr",
     "output_type": "stream",
     "text": [
      "\n",
      "\n",
      "\n",
      "\n",
      "\n",
      "  0%|          | 0/233 [00:00<?, ?it/s]\u001b[A\u001b[A\u001b[A\u001b[A\u001b[A\n",
      "\n",
      "\n",
      "\n",
      "\n",
      "  3%|▎         | 6/233 [00:00<00:03, 57.93it/s]\u001b[A\u001b[A\u001b[A\u001b[A\u001b[A\n",
      "\n",
      "\n",
      "\n",
      "\n",
      "  3%|▎         | 8/233 [00:00<00:07, 30.79it/s]\u001b[A\u001b[A\u001b[A\u001b[A\u001b[A\n",
      "\n",
      "\n",
      "\n",
      "\n",
      "  5%|▌         | 12/233 [00:00<00:07, 28.70it/s]\u001b[A\u001b[A\u001b[A\u001b[A\u001b[A\n",
      "\n",
      "\n",
      "\n",
      "\n",
      "  6%|▋         | 15/233 [00:00<00:13, 16.68it/s]\u001b[A\u001b[A\u001b[A\u001b[A\u001b[A\n",
      "\n",
      "\n",
      "\n",
      "\n",
      "  8%|▊         | 18/233 [00:00<00:12, 17.36it/s]\u001b[A\u001b[A\u001b[A\u001b[A\u001b[A\n",
      "\n",
      "\n",
      "\n",
      "\n",
      " 10%|▉         | 23/233 [00:01<00:10, 19.18it/s]\u001b[A\u001b[A\u001b[A\u001b[A\u001b[A\n",
      "\n",
      "\n",
      "\n",
      "\n",
      " 11%|█         | 25/233 [00:01<00:11, 17.83it/s]\u001b[A\u001b[A\u001b[A\u001b[A\u001b[A\n",
      "\n",
      "\n",
      "\n",
      "\n",
      " 12%|█▏        | 28/233 [00:01<00:12, 15.90it/s]\u001b[A\u001b[A\u001b[A\u001b[A\u001b[A\n",
      "\n",
      "\n",
      "\n",
      "\n",
      " 13%|█▎        | 30/233 [00:01<00:15, 13.05it/s]\u001b[A\u001b[A\u001b[A\u001b[A\u001b[A\n",
      "\n",
      "\n",
      "\n",
      "\n",
      " 14%|█▎        | 32/233 [00:01<00:14, 14.13it/s]\u001b[A\u001b[A\u001b[A\u001b[A\u001b[A\n",
      "\n",
      "\n",
      "\n",
      "\n",
      " 15%|█▍        | 34/233 [00:02<00:24,  8.01it/s]\u001b[A\u001b[A\u001b[A\u001b[A\u001b[A\n",
      "\n",
      "\n",
      "\n",
      "\n",
      " 15%|█▌        | 36/233 [00:02<00:23,  8.35it/s]\u001b[A\u001b[A\u001b[A\u001b[A\u001b[A\n",
      "\n",
      "\n",
      "\n",
      "\n",
      " 17%|█▋        | 39/233 [00:02<00:18, 10.59it/s]\u001b[A\u001b[A\u001b[A\u001b[A\u001b[A\n",
      "\n",
      "\n",
      "\n",
      "\n",
      " 18%|█▊        | 43/233 [00:02<00:14, 13.15it/s]\u001b[A\u001b[A\u001b[A\u001b[A\u001b[A\n",
      "\n",
      "\n",
      "\n",
      "\n",
      " 20%|█▉        | 46/233 [00:02<00:13, 13.65it/s]\u001b[A\u001b[A\u001b[A\u001b[A\u001b[A\n",
      "\n",
      "\n",
      "\n",
      "\n",
      " 21%|██        | 49/233 [00:03<00:11, 15.37it/s]\u001b[A\u001b[A\u001b[A\u001b[A\u001b[A\n",
      "\n",
      "\n",
      "\n",
      "\n",
      " 22%|██▏       | 51/233 [00:03<00:12, 14.46it/s]\u001b[A\u001b[A\u001b[A\u001b[A\u001b[A\n",
      "\n",
      "\n",
      "\n",
      "\n",
      " 23%|██▎       | 53/233 [00:03<00:12, 13.97it/s]\u001b[A\u001b[A\u001b[A\u001b[A\u001b[A\n",
      "\n",
      "\n",
      "\n",
      "\n",
      " 25%|██▍       | 58/233 [00:03<00:11, 15.21it/s]\u001b[A\u001b[A\u001b[A\u001b[A\u001b[A\n",
      "\n",
      "\n",
      "\n",
      "\n",
      " 26%|██▌       | 60/233 [00:04<00:16, 10.54it/s]\u001b[A\u001b[A\u001b[A\u001b[A\u001b[A\n",
      "\n",
      "\n",
      "\n",
      "\n",
      " 27%|██▋       | 62/233 [00:04<00:15, 11.19it/s]\u001b[A\u001b[A\u001b[A\u001b[A\u001b[A\n",
      "\n",
      "\n",
      "\n",
      "\n",
      " 27%|██▋       | 64/233 [00:04<00:16, 10.24it/s]\u001b[A\u001b[A\u001b[A\u001b[A\u001b[A\n",
      "\n",
      "\n",
      "\n",
      "\n",
      " 28%|██▊       | 66/233 [00:04<00:17,  9.77it/s]\u001b[A\u001b[A\u001b[A\u001b[A\u001b[A\n",
      "\n",
      "\n",
      "\n",
      "\n",
      " 29%|██▉       | 68/233 [00:04<00:17,  9.42it/s]\u001b[A\u001b[A\u001b[A\u001b[A\u001b[A\n",
      "\n",
      "\n",
      "\n",
      "\n",
      " 30%|███       | 70/233 [00:05<00:21,  7.56it/s]\u001b[A\u001b[A\u001b[A\u001b[A\u001b[A\n",
      "\n",
      "\n",
      "\n",
      "\n",
      " 31%|███       | 72/233 [00:05<00:17,  9.08it/s]\u001b[A\u001b[A\u001b[A\u001b[A\u001b[A\n",
      "\n",
      "\n",
      "\n",
      "\n",
      " 32%|███▏      | 75/233 [00:05<00:15, 10.01it/s]\u001b[A\u001b[A\u001b[A\u001b[A\u001b[A\n",
      "\n",
      "\n",
      "\n",
      "\n",
      " 33%|███▎      | 77/233 [00:06<00:32,  4.83it/s]\u001b[A\u001b[A\u001b[A\u001b[A\u001b[A\n",
      "\n",
      "\n",
      "\n",
      "\n",
      " 34%|███▍      | 79/233 [00:06<00:25,  6.01it/s]\u001b[A\u001b[A\u001b[A\u001b[A\u001b[A\n",
      "\n",
      "\n",
      "\n",
      "\n",
      " 35%|███▍      | 81/233 [00:07<00:28,  5.28it/s]\u001b[A\u001b[A\u001b[A\u001b[A\u001b[A\n",
      "\n",
      "\n",
      "\n",
      "\n",
      " 36%|███▌      | 83/233 [00:07<00:22,  6.59it/s]\u001b[A\u001b[A\u001b[A\u001b[A\u001b[A\n",
      "\n",
      "\n",
      "\n",
      "\n",
      " 37%|███▋      | 86/233 [00:07<00:17,  8.48it/s]\u001b[A\u001b[A\u001b[A\u001b[A\u001b[A\n",
      "\n",
      "\n",
      "\n",
      "\n",
      " 38%|███▊      | 88/233 [00:07<00:16,  9.04it/s]\u001b[A\u001b[A\u001b[A\u001b[A\u001b[A\n",
      "\n",
      "\n",
      "\n",
      "\n",
      " 39%|███▊      | 90/233 [00:07<00:16,  8.41it/s]\u001b[A\u001b[A\u001b[A\u001b[A\u001b[A\n",
      "\n",
      "\n",
      "\n",
      "\n",
      " 40%|███▉      | 93/233 [00:08<00:14,  9.59it/s]\u001b[A\u001b[A\u001b[A\u001b[A\u001b[A\n",
      "\n",
      "\n",
      "\n",
      "\n",
      " 41%|████      | 96/233 [00:08<00:22,  6.17it/s]\u001b[A\u001b[A\u001b[A\u001b[A\u001b[A\n",
      "\n",
      "\n",
      "\n",
      "\n",
      " 42%|████▏     | 99/233 [00:09<00:19,  7.04it/s]\u001b[A\u001b[A\u001b[A\u001b[A\u001b[A\n",
      "\n",
      "\n",
      "\n",
      "\n",
      " 43%|████▎     | 101/233 [00:09<00:23,  5.65it/s]\u001b[A\u001b[A\u001b[A\u001b[A\u001b[A\n",
      "\n",
      "\n",
      "\n",
      "\n",
      " 44%|████▍     | 102/233 [00:09<00:25,  5.05it/s]\u001b[A\u001b[A\u001b[A\u001b[A\u001b[A\n",
      "\n",
      "\n",
      "\n",
      "\n",
      " 44%|████▍     | 103/233 [00:10<00:25,  5.12it/s]\u001b[A\u001b[A\u001b[A\u001b[A\u001b[A\n",
      "\n",
      "\n",
      "\n",
      "\n",
      " 45%|████▌     | 105/233 [00:10<00:21,  5.94it/s]\u001b[A\u001b[A\u001b[A\u001b[A\u001b[A\n",
      "\n",
      "\n",
      "\n",
      "\n",
      " 45%|████▌     | 106/233 [00:10<00:21,  5.82it/s]\u001b[A\u001b[A\u001b[A\u001b[A\u001b[A\n",
      "\n",
      "\n",
      "\n",
      "\n",
      " 46%|████▋     | 108/233 [00:12<00:43,  2.85it/s]\u001b[A\u001b[A\u001b[A\u001b[A\u001b[A\n",
      "\n",
      "\n",
      "\n",
      "\n",
      " 48%|████▊     | 111/233 [00:12<00:34,  3.51it/s]\u001b[A\u001b[A\u001b[A\u001b[A\u001b[A\n",
      "\n",
      "\n",
      "\n",
      "\n",
      " 48%|████▊     | 112/233 [00:13<00:51,  2.34it/s]\u001b[A\u001b[A\u001b[A\u001b[A\u001b[A\n",
      "\n",
      "\n",
      "\n",
      "\n",
      " 50%|████▉     | 116/233 [00:13<00:35,  3.25it/s]\u001b[A\u001b[A\u001b[A\u001b[A\u001b[A\n",
      "\n",
      "\n",
      "\n",
      "\n",
      " 52%|█████▏    | 120/233 [00:14<00:30,  3.68it/s]\u001b[A\u001b[A\u001b[A\u001b[A\u001b[A\n",
      "\n",
      "\n",
      "\n",
      "\n",
      " 52%|█████▏    | 122/233 [00:14<00:28,  3.85it/s]\u001b[A\u001b[A\u001b[A\u001b[A\u001b[A\n",
      "\n",
      "\n",
      "\n",
      "\n",
      " 53%|█████▎    | 123/233 [00:15<00:56,  1.96it/s]\u001b[A\u001b[A\u001b[A\u001b[A\u001b[A\n",
      "\n",
      "\n",
      "\n",
      "\n",
      " 54%|█████▎    | 125/233 [00:15<00:42,  2.57it/s]\u001b[A\u001b[A\u001b[A\u001b[A\u001b[A\n",
      "\n",
      "\n",
      "\n",
      "\n",
      " 54%|█████▍    | 126/233 [00:16<00:48,  2.20it/s]\u001b[A\u001b[A\u001b[A\u001b[A\u001b[A\n",
      "\n",
      "\n",
      "\n",
      "\n",
      " 55%|█████▌    | 129/233 [00:16<00:38,  2.74it/s]\u001b[A\u001b[A\u001b[A\u001b[A\u001b[A\n",
      "\n",
      "\n",
      "\n",
      "\n",
      " 56%|█████▌    | 130/233 [00:17<00:33,  3.10it/s]\u001b[A\u001b[A\u001b[A\u001b[A\u001b[A\n",
      "\n",
      "\n",
      "\n",
      "\n",
      " 56%|█████▌    | 131/233 [00:17<00:37,  2.71it/s]\u001b[A\u001b[A\u001b[A\u001b[A\u001b[A\n",
      "\n",
      "\n",
      "\n",
      "\n",
      " 57%|█████▋    | 132/233 [00:18<00:36,  2.76it/s]\u001b[A\u001b[A\u001b[A\u001b[A\u001b[A\n",
      "\n",
      "\n",
      "\n",
      "\n",
      " 57%|█████▋    | 133/233 [00:18<00:29,  3.36it/s]\u001b[A\u001b[A\u001b[A\u001b[A\u001b[A\n",
      "\n",
      "\n",
      "\n",
      "\n",
      " 58%|█████▊    | 135/233 [00:18<00:22,  4.29it/s]\u001b[A\u001b[A\u001b[A\u001b[A\u001b[A\n",
      "\n",
      "\n",
      "\n",
      "\n",
      " 58%|█████▊    | 136/233 [00:18<00:19,  5.04it/s]\u001b[A\u001b[A\u001b[A\u001b[A\u001b[A\n",
      "\n",
      "\n",
      "\n",
      "\n",
      " 59%|█████▉    | 137/233 [00:18<00:18,  5.20it/s]\u001b[A\u001b[A\u001b[A\u001b[A\u001b[A\n",
      "\n",
      "\n",
      "\n",
      "\n",
      " 59%|█████▉    | 138/233 [00:18<00:17,  5.57it/s]\u001b[A\u001b[A\u001b[A\u001b[A\u001b[A\n",
      "\n",
      "\n",
      "\n",
      "\n",
      " 60%|██████    | 140/233 [00:19<00:15,  6.19it/s]\u001b[A\u001b[A\u001b[A\u001b[A\u001b[A\n",
      "\n",
      "\n",
      "\n",
      "\n",
      " 61%|██████▏   | 143/233 [00:19<00:11,  7.65it/s]\u001b[A\u001b[A\u001b[A\u001b[A\u001b[A\n",
      "\n",
      "\n",
      "\n",
      "\n",
      " 62%|██████▏   | 145/233 [00:19<00:13,  6.45it/s]\u001b[A\u001b[A\u001b[A\u001b[A\u001b[A\n",
      "\n",
      "\n",
      "\n",
      "\n",
      " 63%|██████▎   | 146/233 [00:19<00:16,  5.25it/s]\u001b[A\u001b[A\u001b[A\u001b[A\u001b[A\n",
      "\n",
      "\n",
      "\n",
      "\n",
      " 64%|██████▎   | 148/233 [00:20<00:13,  6.49it/s]\u001b[A\u001b[A\u001b[A\u001b[A\u001b[A\n",
      "\n",
      "\n",
      "\n",
      "\n",
      " 64%|██████▍   | 149/233 [00:20<00:21,  3.85it/s]\u001b[A\u001b[A\u001b[A\u001b[A\u001b[A\n",
      "\n",
      "\n",
      "\n",
      "\n",
      " 65%|██████▍   | 151/233 [00:20<00:17,  4.63it/s]\u001b[A\u001b[A\u001b[A\u001b[A\u001b[A\n",
      "\n",
      "\n",
      "\n",
      "\n",
      " 66%|██████▌   | 153/233 [00:21<00:17,  4.63it/s]\u001b[A\u001b[A\u001b[A\u001b[A\u001b[A\n",
      "\n",
      "\n",
      "\n",
      "\n",
      " 67%|██████▋   | 155/233 [00:21<00:13,  5.71it/s]\u001b[A\u001b[A\u001b[A\u001b[A\u001b[A\n",
      "\n",
      "\n",
      "\n",
      "\n",
      " 67%|██████▋   | 157/233 [00:21<00:13,  5.43it/s]\u001b[A\u001b[A\u001b[A\u001b[A\u001b[A\n",
      "\n",
      "\n",
      "\n",
      "\n",
      " 69%|██████▉   | 161/233 [00:22<00:10,  6.72it/s]\u001b[A\u001b[A\u001b[A\u001b[A\u001b[A\n",
      "\n",
      "\n",
      "\n",
      "\n",
      " 70%|██████▉   | 162/233 [00:22<00:10,  6.86it/s]\u001b[A\u001b[A\u001b[A\u001b[A\u001b[A\n",
      "\n",
      "\n",
      "\n",
      "\n",
      " 71%|███████   | 165/233 [00:22<00:07,  8.79it/s]\u001b[A\u001b[A\u001b[A\u001b[A\u001b[A\n",
      "\n",
      "\n",
      "\n",
      "\n",
      " 72%|███████▏  | 167/233 [00:22<00:07,  9.41it/s]\u001b[A\u001b[A\u001b[A\u001b[A\u001b[A\n",
      "\n",
      "\n",
      "\n",
      "\n",
      " 73%|███████▎  | 169/233 [00:22<00:09,  6.60it/s]\u001b[A\u001b[A\u001b[A\u001b[A\u001b[A\n",
      "\n",
      "\n",
      "\n",
      "\n",
      " 73%|███████▎  | 171/233 [00:23<00:08,  7.39it/s]\u001b[A\u001b[A\u001b[A\u001b[A\u001b[A\n",
      "\n",
      "\n",
      "\n",
      "\n",
      " 74%|███████▍  | 173/233 [00:23<00:08,  6.67it/s]\u001b[A\u001b[A\u001b[A\u001b[A\u001b[A\n",
      "\n",
      "\n",
      "\n",
      "\n",
      " 75%|███████▍  | 174/233 [00:23<00:12,  4.61it/s]\u001b[A\u001b[A\u001b[A\u001b[A\u001b[A\n",
      "\n",
      "\n",
      "\n",
      "\n",
      " 76%|███████▌  | 176/233 [00:24<00:15,  3.78it/s]\u001b[A\u001b[A\u001b[A\u001b[A\u001b[A\n",
      "\n",
      "\n",
      "\n",
      "\n",
      " 76%|███████▋  | 178/233 [00:24<00:12,  4.36it/s]\u001b[A\u001b[A\u001b[A\u001b[A\u001b[A\n",
      "\n",
      "\n",
      "\n",
      "\n",
      " 77%|███████▋  | 179/233 [00:25<00:12,  4.29it/s]\u001b[A\u001b[A\u001b[A\u001b[A\u001b[A\n",
      "\n",
      "\n",
      "\n",
      "\n",
      " 77%|███████▋  | 180/233 [00:25<00:11,  4.42it/s]\u001b[A\u001b[A\u001b[A\u001b[A\u001b[A\n",
      "\n",
      "\n",
      "\n",
      "\n",
      " 78%|███████▊  | 182/233 [00:25<00:09,  5.32it/s]\u001b[A\u001b[A\u001b[A\u001b[A\u001b[A\n",
      "\n",
      "\n",
      "\n",
      "\n",
      " 79%|███████▊  | 183/233 [00:25<00:11,  4.49it/s]\u001b[A\u001b[A\u001b[A\u001b[A\u001b[A\n",
      "\n",
      "\n",
      "\n",
      "\n",
      " 79%|███████▉  | 184/233 [00:26<00:10,  4.50it/s]\u001b[A\u001b[A\u001b[A\u001b[A\u001b[A\n",
      "\n",
      "\n",
      "\n",
      "\n",
      " 79%|███████▉  | 185/233 [00:26<00:12,  3.91it/s]\u001b[A\u001b[A\u001b[A\u001b[A\u001b[A\n",
      "\n",
      "\n",
      "\n",
      "\n",
      " 80%|███████▉  | 186/233 [00:26<00:12,  3.67it/s]\u001b[A\u001b[A\u001b[A\u001b[A\u001b[A\n",
      "\n",
      "\n",
      "\n",
      "\n",
      " 81%|████████  | 188/233 [00:26<00:09,  4.83it/s]\u001b[A\u001b[A\u001b[A\u001b[A\u001b[A\n",
      "\n",
      "\n",
      "\n",
      "\n",
      " 81%|████████  | 189/233 [00:27<00:08,  5.00it/s]\u001b[A\u001b[A\u001b[A\u001b[A\u001b[A\n",
      "\n",
      "\n",
      "\n",
      "\n",
      " 82%|████████▏ | 192/233 [00:27<00:06,  6.50it/s]\u001b[A\u001b[A\u001b[A\u001b[A\u001b[A\n",
      "\n",
      "\n",
      "\n",
      "\n",
      " 84%|████████▍ | 196/233 [00:28<00:07,  4.95it/s]\u001b[A\u001b[A\u001b[A\u001b[A\u001b[A\n",
      "\n",
      "\n",
      "\n",
      "\n",
      " 85%|████████▍ | 197/233 [00:29<00:18,  1.91it/s]\u001b[A\u001b[A\u001b[A\u001b[A\u001b[A\n",
      "\n",
      "\n",
      "\n",
      "\n",
      " 86%|████████▋ | 201/233 [00:29<00:12,  2.62it/s]\u001b[A\u001b[A\u001b[A\u001b[A\u001b[A\n",
      "\n",
      "\n",
      "\n",
      "\n",
      " 87%|████████▋ | 203/233 [00:32<00:17,  1.71it/s]\u001b[A\u001b[A\u001b[A\u001b[A\u001b[A\n",
      "\n",
      "\n",
      "\n",
      "\n",
      " 88%|████████▊ | 206/233 [00:32<00:11,  2.27it/s]\u001b[A\u001b[A\u001b[A\u001b[A\u001b[A\n",
      "\n",
      "\n",
      "\n",
      "\n",
      " 89%|████████▉ | 207/233 [00:32<00:11,  2.34it/s]\u001b[A\u001b[A\u001b[A\u001b[A\u001b[A\n",
      "\n",
      "\n",
      "\n",
      "\n",
      " 90%|████████▉ | 209/233 [00:32<00:07,  3.16it/s]\u001b[A\u001b[A\u001b[A\u001b[A\u001b[A\n",
      "\n",
      "\n",
      "\n",
      "\n",
      " 90%|█████████ | 210/233 [00:33<00:10,  2.21it/s]\u001b[A\u001b[A\u001b[A\u001b[A\u001b[A\n",
      "\n",
      "\n",
      "\n",
      "\n",
      " 91%|█████████ | 211/233 [00:33<00:07,  2.84it/s]\u001b[A\u001b[A\u001b[A\u001b[A\u001b[A\n",
      "\n",
      "\n",
      "\n",
      "\n",
      " 91%|█████████ | 212/233 [00:33<00:06,  3.29it/s]\u001b[A\u001b[A\u001b[A\u001b[A\u001b[A\n",
      "\n",
      "\n",
      "\n",
      "\n",
      " 91%|█████████▏| 213/233 [00:34<00:06,  3.22it/s]\u001b[A\u001b[A\u001b[A\u001b[A\u001b[A\n",
      "\n",
      "\n",
      "\n",
      "\n",
      " 92%|█████████▏| 214/233 [00:34<00:05,  3.36it/s]\u001b[A\u001b[A\u001b[A\u001b[A\u001b[A\n",
      "\n",
      "\n",
      "\n",
      "\n",
      " 92%|█████████▏| 215/233 [00:34<00:04,  4.03it/s]\u001b[A\u001b[A\u001b[A\u001b[A\u001b[A\n",
      "\n",
      "\n",
      "\n",
      "\n",
      " 93%|█████████▎| 216/233 [00:35<00:05,  3.26it/s]\u001b[A\u001b[A\u001b[A\u001b[A\u001b[A\n",
      "\n",
      "\n",
      "\n",
      "\n",
      " 93%|█████████▎| 217/233 [00:35<00:05,  2.91it/s]\u001b[A\u001b[A\u001b[A\u001b[A\u001b[A\n",
      "\n",
      "\n",
      "\n",
      "\n",
      " 94%|█████████▎| 218/233 [00:35<00:04,  3.44it/s]\u001b[A\u001b[A\u001b[A\u001b[A\u001b[A\n",
      "\n",
      "\n",
      "\n",
      "\n",
      " 94%|█████████▍| 219/233 [00:35<00:03,  4.19it/s]\u001b[A\u001b[A\u001b[A\u001b[A\u001b[A\n",
      "\n",
      "\n",
      "\n",
      "\n",
      " 94%|█████████▍| 220/233 [00:36<00:03,  3.39it/s]\u001b[A\u001b[A\u001b[A\u001b[A\u001b[A\n",
      "\n",
      "\n",
      "\n",
      "\n",
      " 95%|█████████▍| 221/233 [00:36<00:03,  3.34it/s]\u001b[A\u001b[A\u001b[A\u001b[A\u001b[A\n",
      "\n",
      "\n",
      "\n",
      "\n",
      " 95%|█████████▌| 222/233 [00:37<00:06,  1.83it/s]\u001b[A\u001b[A\u001b[A\u001b[A\u001b[A\n",
      "\n",
      "\n",
      "\n",
      "\n",
      " 96%|█████████▌| 223/233 [00:38<00:05,  1.93it/s]\u001b[A\u001b[A\u001b[A\u001b[A\u001b[A\n",
      "\n",
      "\n",
      "\n",
      "\n",
      " 96%|█████████▌| 224/233 [00:38<00:03,  2.40it/s]\u001b[A\u001b[A\u001b[A\u001b[A\u001b[A\n",
      "\n",
      "\n",
      "\n",
      "\n",
      " 97%|█████████▋| 225/233 [00:38<00:02,  2.99it/s]\u001b[A\u001b[A\u001b[A\u001b[A\u001b[A\n",
      "\n",
      "\n",
      "\n",
      "\n",
      " 97%|█████████▋| 226/233 [00:39<00:04,  1.48it/s]\u001b[A\u001b[A\u001b[A\u001b[A\u001b[A\n",
      "\n",
      "\n",
      "\n",
      "\n",
      " 97%|█████████▋| 227/233 [00:42<00:06,  1.15s/it]\u001b[A\u001b[A\u001b[A\u001b[A\u001b[A\n",
      "\n",
      "\n",
      "\n",
      "\n",
      " 98%|█████████▊| 228/233 [00:42<00:04,  1.02it/s]\u001b[A\u001b[A\u001b[A\u001b[A\u001b[A\n",
      "\n",
      "\n",
      "\n",
      "\n",
      " 99%|█████████▊| 230/233 [00:43<00:02,  1.34it/s]\u001b[A\u001b[A\u001b[A\u001b[A\u001b[A\n",
      "\n",
      "\n",
      "\n",
      "\n",
      " 99%|█████████▉| 231/233 [00:43<00:01,  1.33it/s]\u001b[A\u001b[A\u001b[A\u001b[A\u001b[A\n",
      "\n",
      "\n",
      "\n",
      "\n",
      "100%|█████████▉| 232/233 [00:44<00:00,  1.73it/s]\u001b[A\u001b[A\u001b[A\u001b[A\u001b[A\n",
      "\n",
      "\n",
      "\n",
      "\n",
      "100%|██████████| 233/233 [00:47<00:00,  4.94it/s]\u001b[A\u001b[A\u001b[A\u001b[A\u001b[A\n"
     ]
    }
   ],
   "source": [
    "patient_manager = PatientManager()\n",
    "\n",
    "patient_manager.create_from_tilesummaries(tilesummaries=tilesummaries, \n",
    "                                          patient_id_getter=get_patient_id_from_wsi_path, \n",
    "                                          case_id_getter=get_case_id_from_wsi_path, \n",
    "                                          slide_id_getter=get_slide_id_from_wsi_path, \n",
    "                                          labels_getter=get_labels_from_wsi_path)"
   ]
  },
  {
   "cell_type": "code",
   "execution_count": 418,
   "metadata": {},
   "outputs": [
    {
     "data": {
      "text/plain": [
       "(198506,\n",
       " {'Glandular': 1563,\n",
       "  'Glycogen rich': 1037,\n",
       "  'LNUC': 7195,\n",
       "  'Lymphoepithelioma-like': 750,\n",
       "  'MPUC': 15563,\n",
       "  'NOS': 80000,\n",
       "  'NUC': 2210,\n",
       "  'Neuroendocrine': 14357,\n",
       "  'PUC': 6899,\n",
       "  'Sarcomatoid': 23185,\n",
       "  'Squamous': 51130,\n",
       "  'Trophoblastoid': 804,\n",
       "  'Urothelial': 192319},\n",
       " {'Glandular': 0.007873817416098255,\n",
       "  'Glycogen rich': 0.005224023455210422,\n",
       "  'LNUC': 0.03624575579579459,\n",
       "  'Lymphoepithelioma-like': 0.003778223328262118,\n",
       "  'MPUC': 0.07840065287699112,\n",
       "  'NOS': 0.4030104883479593,\n",
       "  'NUC': 0.011133164740612374,\n",
       "  'Neuroendocrine': 0.07232526976514564,\n",
       "  'PUC': 0.03475461698890714,\n",
       "  'Sarcomatoid': 0.11679747715434294,\n",
       "  'Squamous': 0.2575740783653895,\n",
       "  'Trophoblastoid': 0.0040502554078969905,\n",
       "  'Urothelial': 0.9688321763573897})"
      ]
     },
     "execution_count": 418,
     "metadata": {},
     "output_type": "execute_result"
    }
   ],
   "source": [
    "class_distribution_all_tiles = patient_manager.get_class_distribution(level=shared.enums.EvaluationLevel.tile, \n",
    "                                                            dataset_type=shared.enums.DatasetType.all)\n",
    "class_distribution_all_tiles"
   ]
  },
  {
   "cell_type": "code",
   "execution_count": 419,
   "metadata": {},
   "outputs": [
    {
     "data": {
      "text/plain": [
       "(232,\n",
       " {'Glandular': 4,\n",
       "  'Glycogen rich': 2,\n",
       "  'LNUC': 7,\n",
       "  'Lymphoepithelioma-like': 3,\n",
       "  'MPUC': 12,\n",
       "  'NOS': 96,\n",
       "  'NUC': 5,\n",
       "  'Neuroendocrine': 10,\n",
       "  'PUC': 11,\n",
       "  'Sarcomatoid': 21,\n",
       "  'Squamous': 60,\n",
       "  'Trophoblastoid': 1,\n",
       "  'Urothelial': 225},\n",
       " {'Glandular': 0.017241379310344827,\n",
       "  'Glycogen rich': 0.008620689655172414,\n",
       "  'LNUC': 0.03017241379310345,\n",
       "  'Lymphoepithelioma-like': 0.01293103448275862,\n",
       "  'MPUC': 0.05172413793103448,\n",
       "  'NOS': 0.41379310344827586,\n",
       "  'NUC': 0.021551724137931036,\n",
       "  'Neuroendocrine': 0.04310344827586207,\n",
       "  'PUC': 0.04741379310344827,\n",
       "  'Sarcomatoid': 0.09051724137931035,\n",
       "  'Squamous': 0.25862068965517243,\n",
       "  'Trophoblastoid': 0.004310344827586207,\n",
       "  'Urothelial': 0.9698275862068966})"
      ]
     },
     "execution_count": 419,
     "metadata": {},
     "output_type": "execute_result"
    }
   ],
   "source": [
    "class_distribution_all_slides = patient_manager.get_class_distribution(level=shared.enums.EvaluationLevel.slide, \n",
    "                                                            dataset_type=shared.enums.DatasetType.all)\n",
    "class_distribution_all_slides"
   ]
  },
  {
   "cell_type": "code",
   "execution_count": 420,
   "metadata": {},
   "outputs": [
    {
     "name": "stdout",
     "output_type": "stream",
     "text": [
      "{'Glandular': 0.007873817416098255, 'Glycogen rich': 0.005224023455210422, 'LNUC': 0.03624575579579459, 'Lymphoepithelioma-like': 0.003778223328262118, 'MPUC': 0.07840065287699112, 'NOS': 0.4030104883479593, 'NUC': 0.011133164740612374, 'Neuroendocrine': 0.07232526976514564, 'PUC': 0.03475461698890714, 'Sarcomatoid': 0.11679747715434294, 'Squamous': 0.2575740783653895, 'Trophoblastoid': 0.0040502554078969905, 'Urothelial': 0.9688321763573897}\n"
     ]
    },
    {
     "name": "stderr",
     "output_type": "stream",
     "text": [
      "\n",
      "\n",
      "\n",
      "\n",
      "\n",
      "100%|██████████| 6385/6385 [00:00<00:00, 557221.68it/s]"
     ]
    },
    {
     "name": "stdout",
     "output_type": "stream",
     "text": [
      "n to remove: 6385\n"
     ]
    },
    {
     "name": "stderr",
     "output_type": "stream",
     "text": [
      "\n",
      "\n",
      "\n",
      "\n",
      "\n",
      "\n",
      "100%|██████████| 6172/6172 [00:00<00:00, 535214.28it/s]"
     ]
    },
    {
     "name": "stdout",
     "output_type": "stream",
     "text": [
      "n to remove: 6172\n"
     ]
    },
    {
     "name": "stderr",
     "output_type": "stream",
     "text": [
      "\n",
      "\n",
      "\n",
      "\n",
      "\n",
      "\n",
      "100%|██████████| 5967/5967 [00:00<00:00, 561102.41it/s]"
     ]
    },
    {
     "name": "stdout",
     "output_type": "stream",
     "text": [
      "n to remove: 5967\n"
     ]
    },
    {
     "name": "stderr",
     "output_type": "stream",
     "text": [
      "\n"
     ]
    },
    {
     "name": "stdout",
     "output_type": "stream",
     "text": [
      "{'Glandular': 0.00782300452267449, 'Glycogen rich': 0.005761687279839095, 'LNUC': 0.03581469258036915, 'Lymphoepithelioma-like': 0.004167083375004167, 'MPUC': 0.07737996021824405, 'NOS': 0.4003678145592337, 'NUC': 0.011467813448011469, 'Neuroendocrine': 0.0787689880099121, 'PUC': 0.034308986454200975, 'Sarcomatoid': 0.1155560000444489, 'Squamous': 0.2588314386994255, 'Trophoblastoid': 0.004128190596837462, 'Urothelial': 0.965624340211799}\n"
     ]
    },
    {
     "name": "stderr",
     "output_type": "stream",
     "text": [
      "\n",
      "\n",
      "\n",
      "\n",
      "\n",
      "100%|██████████| 5768/5768 [00:00<00:00, 573546.04it/s]"
     ]
    },
    {
     "name": "stdout",
     "output_type": "stream",
     "text": [
      "n to remove: 5768\n"
     ]
    },
    {
     "name": "stderr",
     "output_type": "stream",
     "text": [
      "\n",
      "\n",
      "\n",
      "\n",
      "\n",
      "\n",
      "100%|██████████| 5576/5576 [00:00<00:00, 573784.08it/s]"
     ]
    },
    {
     "name": "stdout",
     "output_type": "stream",
     "text": [
      "n to remove: 5576\n"
     ]
    },
    {
     "name": "stderr",
     "output_type": "stream",
     "text": [
      "\n",
      "\n",
      "\n",
      "\n",
      "\n",
      "\n",
      "100%|██████████| 5390/5390 [00:00<00:00, 572815.23it/s]"
     ]
    },
    {
     "name": "stdout",
     "output_type": "stream",
     "text": [
      "n to remove: 5390\n"
     ]
    },
    {
     "name": "stderr",
     "output_type": "stream",
     "text": [
      "\n"
     ]
    },
    {
     "name": "stdout",
     "output_type": "stream",
     "text": [
      "{'Glandular': 0.007663187297853573, 'Glycogen rich': 0.006352298343624424, 'LNUC': 0.03462829559933353, 'Lymphoepithelioma-like': 0.004594236989120847, 'MPUC': 0.075590512594335, 'NOS': 0.39759752033715573, 'NUC': 0.011657110653729295, 'Neuroendocrine': 0.08600411643634225, 'PUC': 0.034922326766637264, 'Sarcomatoid': 0.11377168479858865, 'Squamous': 0.26056674507497796, 'Trophoblastoid': 0.004551357443889052, 'Urothelial': 0.9621006076644124}\n"
     ]
    },
    {
     "name": "stderr",
     "output_type": "stream",
     "text": [
      "\n",
      "\n",
      "\n",
      "\n",
      "\n",
      "100%|██████████| 5210/5210 [00:00<00:00, 565126.82it/s]"
     ]
    },
    {
     "name": "stdout",
     "output_type": "stream",
     "text": [
      "n to remove: 5210\n"
     ]
    },
    {
     "name": "stderr",
     "output_type": "stream",
     "text": [
      "\n",
      "\n",
      "\n",
      "\n",
      "\n",
      "\n",
      "100%|██████████| 5036/5036 [00:00<00:00, 584673.93it/s]"
     ]
    },
    {
     "name": "stdout",
     "output_type": "stream",
     "text": [
      "n to remove: 5036\n"
     ]
    },
    {
     "name": "stderr",
     "output_type": "stream",
     "text": [
      "\n",
      "\n",
      "\n",
      "\n",
      "\n",
      "\n",
      "100%|██████████| 4869/4869 [00:00<00:00, 559723.35it/s]"
     ]
    },
    {
     "name": "stdout",
     "output_type": "stream",
     "text": [
      "n to remove: 4869\n"
     ]
    },
    {
     "name": "stderr",
     "output_type": "stream",
     "text": [
      "\n"
     ]
    },
    {
     "name": "stdout",
     "output_type": "stream",
     "text": [
      "{'Glandular': 0.007419008593628699, 'Glycogen rich': 0.0070004657976278075, 'LNUC': 0.03353067851187784, 'Lymphoepithelioma-like': 0.005063017693559166, 'MPUC': 0.07254291751331574, 'NOS': 0.3968730802724579, 'NUC': 0.011881214854218844, 'Neuroendocrine': 0.09383459458729655, 'PUC': 0.035299359359494506, 'Sarcomatoid': 0.1108328326571392, 'Squamous': 0.26247358792436526, 'Trophoblastoid': 0.005015762861752615, 'Urothelial': 0.9582334793732659}\n"
     ]
    },
    {
     "name": "stderr",
     "output_type": "stream",
     "text": [
      "\n",
      "\n",
      "\n",
      "\n",
      "\n",
      "100%|██████████| 4706/4706 [00:00<00:00, 559272.22it/s]"
     ]
    },
    {
     "name": "stdout",
     "output_type": "stream",
     "text": [
      "n to remove: 4706\n"
     ]
    },
    {
     "name": "stderr",
     "output_type": "stream",
     "text": [
      "\n",
      "\n",
      "\n",
      "\n",
      "\n",
      "\n",
      "100%|██████████| 4549/4549 [00:00<00:00, 578266.07it/s]"
     ]
    },
    {
     "name": "stdout",
     "output_type": "stream",
     "text": [
      "n to remove: 4549\n"
     ]
    },
    {
     "name": "stderr",
     "output_type": "stream",
     "text": [
      "\n",
      "\n",
      "\n",
      "\n",
      "\n",
      "\n",
      "100%|██████████| 4398/4398 [00:00<00:00, 581634.84it/s]"
     ]
    },
    {
     "name": "stdout",
     "output_type": "stream",
     "text": [
      "n to remove: 4398\n"
     ]
    },
    {
     "name": "stderr",
     "output_type": "stream",
     "text": [
      "\n"
     ]
    },
    {
     "name": "stdout",
     "output_type": "stream",
     "text": [
      "{'Glandular': 0.007346817370612731, 'Glycogen rich': 0.007711183819155264, 'LNUC': 0.033030933967876264, 'Lymphoepithelioma-like': 0.0055770374776918505, 'MPUC': 0.06838935157644259, 'NOS': 0.3948319452706722, 'NUC': 0.012291790600832837, 'Neuroendocrine': 0.10302647233789411, 'PUC': 0.03709845330160619, 'Sarcomatoid': 0.10805324211778704, 'Squamous': 0.2631246281975015, 'Trophoblastoid': 0.005524985127900059, 'Urothelial': 0.9539931588340274}\n"
     ]
    },
    {
     "name": "stderr",
     "output_type": "stream",
     "text": [
      "\n",
      "\n",
      "\n",
      "\n",
      "\n",
      "100%|██████████| 4251/4251 [00:00<00:00, 543249.33it/s]"
     ]
    },
    {
     "name": "stdout",
     "output_type": "stream",
     "text": [
      "n to remove: 4251\n"
     ]
    },
    {
     "name": "stderr",
     "output_type": "stream",
     "text": [
      "\n",
      "\n",
      "\n",
      "\n",
      "\n",
      "\n",
      "100%|██████████| 4109/4109 [00:00<00:00, 574920.61it/s]"
     ]
    },
    {
     "name": "stdout",
     "output_type": "stream",
     "text": [
      "n to remove: 4109\n"
     ]
    },
    {
     "name": "stderr",
     "output_type": "stream",
     "text": [
      "\n",
      "\n",
      "\n",
      "\n",
      "\n",
      "\n",
      "100%|██████████| 3973/3973 [00:00<00:00, 581964.44it/s]"
     ]
    },
    {
     "name": "stdout",
     "output_type": "stream",
     "text": [
      "n to remove: 3973\n"
     ]
    },
    {
     "name": "stderr",
     "output_type": "stream",
     "text": [
      "\n"
     ]
    },
    {
     "name": "stdout",
     "output_type": "stream",
     "text": [
      "{'Glandular': 0.00808861453822034, 'Glycogen rich': 0.008489770522403333, 'LNUC': 0.03124104562535306, 'Lymphoepithelioma-like': 0.006140142615045805, 'MPUC': 0.06140142615045806, 'NOS': 0.39069318116695456, 'NUC': 0.013532874323560956, 'Neuroendocrine': 0.11342890124194618, 'PUC': 0.04033664355244091, 'Sarcomatoid': 0.1085249740067296, 'Squamous': 0.2626916747852997, 'Trophoblastoid': 0.006082834617305378, 'Urothelial': 0.9493479168542821}\n"
     ]
    },
    {
     "name": "stderr",
     "output_type": "stream",
     "text": [
      "\n",
      "\n",
      "\n",
      "\n",
      "\n",
      "100%|██████████| 3840/3840 [00:00<00:00, 572275.70it/s]"
     ]
    },
    {
     "name": "stdout",
     "output_type": "stream",
     "text": [
      "n to remove: 3840\n"
     ]
    },
    {
     "name": "stderr",
     "output_type": "stream",
     "text": [
      "\n",
      "\n",
      "\n",
      "\n",
      "\n",
      "\n",
      "100%|██████████| 3712/3712 [00:00<00:00, 575573.25it/s]"
     ]
    },
    {
     "name": "stdout",
     "output_type": "stream",
     "text": [
      "n to remove: 3712\n"
     ]
    },
    {
     "name": "stderr",
     "output_type": "stream",
     "text": [
      "\n",
      "\n",
      "\n",
      "\n",
      "\n",
      "\n",
      "100%|██████████| 3588/3588 [00:00<00:00, 598114.65it/s]"
     ]
    },
    {
     "name": "stdout",
     "output_type": "stream",
     "text": [
      "n to remove: 3588\n"
     ]
    },
    {
     "name": "stderr",
     "output_type": "stream",
     "text": [
      "\n"
     ]
    },
    {
     "name": "stdout",
     "output_type": "stream",
     "text": [
      "{'Glandular': 0.008900339618222274, 'Glycogen rich': 0.009341753222769734, 'LNUC': 0.030989036727413585, 'Lymphoepithelioma-like': 0.006756330681848892, 'MPUC': 0.06395993045483618, 'NOS': 0.3865972416153936, 'NUC': 0.01489095282279496, 'Neuroendocrine': 0.12481194879602188, 'PUC': 0.044384588359292654, 'Sarcomatoid': 0.10579513003684453, 'Squamous': 0.25261469997387553, 'Trophoblastoid': 0.006693271595484969, 'Urothelial': 0.9442647760952012}\n",
      "Could not reach the desired delta of 0.1.                            Only reached a delta of 0.9375715044997163                            Try a smaller <minimum_number_of_tiles>.\n"
     ]
    }
   ],
   "source": [
    "patient_manager.undersample(dataset_type=DatasetType.all, delta=0.1, verbose=True, minimum_number_of_tiles=750)"
   ]
  },
  {
   "cell_type": "code",
   "execution_count": null,
   "metadata": {},
   "outputs": [
    {
     "name": "stderr",
     "output_type": "stream",
     "text": [
      "[autoreload of torch failed: Traceback (most recent call last):\n",
      "  File \"/opt/conda/envs/DLM_Py3/lib/python3.7/site-packages/IPython/extensions/autoreload.py\", line 245, in check\n",
      "    superreload(m, reload, self.old_objects)\n",
      "  File \"/opt/conda/envs/DLM_Py3/lib/python3.7/site-packages/IPython/extensions/autoreload.py\", line 394, in superreload\n",
      "    module = reload(module)\n",
      "  File \"/opt/conda/envs/DLM_Py3/lib/python3.7/imp.py\", line 314, in reload\n",
      "    return importlib.reload(module)\n",
      "  File \"/opt/conda/envs/DLM_Py3/lib/python3.7/importlib/__init__.py\", line 169, in reload\n",
      "    _bootstrap._exec(spec, module)\n",
      "  File \"<frozen importlib._bootstrap>\", line 630, in _exec\n",
      "  File \"<frozen importlib._bootstrap_external>\", line 728, in exec_module\n",
      "  File \"<frozen importlib._bootstrap>\", line 219, in _call_with_frames_removed\n",
      "  File \"/opt/conda/envs/DLM_Py3/lib/python3.7/site-packages/torch/__init__.py\", line 196, in <module>\n",
      "    __all__ += [name for name in dir(_C)\n",
      "NameError: name '_C' is not defined\n",
      "]\n",
      "[autoreload of torch.cuda failed: Traceback (most recent call last):\n",
      "  File \"/opt/conda/envs/DLM_Py3/lib/python3.7/site-packages/IPython/extensions/autoreload.py\", line 245, in check\n",
      "    superreload(m, reload, self.old_objects)\n",
      "  File \"/opt/conda/envs/DLM_Py3/lib/python3.7/site-packages/IPython/extensions/autoreload.py\", line 410, in superreload\n",
      "    update_generic(old_obj, new_obj)\n",
      "  File \"/opt/conda/envs/DLM_Py3/lib/python3.7/site-packages/IPython/extensions/autoreload.py\", line 347, in update_generic\n",
      "    update(a, b)\n",
      "  File \"/opt/conda/envs/DLM_Py3/lib/python3.7/site-packages/IPython/extensions/autoreload.py\", line 266, in update_function\n",
      "    setattr(old, name, getattr(new, name))\n",
      "ValueError: stream() requires a code object with 0 free vars, not 1\n",
      "]\n",
      "[autoreload of torch.cuda.amp.autocast_mode failed: Traceback (most recent call last):\n",
      "  File \"/opt/conda/envs/DLM_Py3/lib/python3.7/site-packages/IPython/extensions/autoreload.py\", line 245, in check\n",
      "    superreload(m, reload, self.old_objects)\n",
      "  File \"/opt/conda/envs/DLM_Py3/lib/python3.7/site-packages/IPython/extensions/autoreload.py\", line 410, in superreload\n",
      "    update_generic(old_obj, new_obj)\n",
      "  File \"/opt/conda/envs/DLM_Py3/lib/python3.7/site-packages/IPython/extensions/autoreload.py\", line 347, in update_generic\n",
      "    update(a, b)\n",
      "  File \"/opt/conda/envs/DLM_Py3/lib/python3.7/site-packages/IPython/extensions/autoreload.py\", line 302, in update_class\n",
      "    if update_generic(old_obj, new_obj): continue\n",
      "  File \"/opt/conda/envs/DLM_Py3/lib/python3.7/site-packages/IPython/extensions/autoreload.py\", line 347, in update_generic\n",
      "    update(a, b)\n",
      "  File \"/opt/conda/envs/DLM_Py3/lib/python3.7/site-packages/IPython/extensions/autoreload.py\", line 266, in update_function\n",
      "    setattr(old, name, getattr(new, name))\n",
      "ValueError: __init__() requires a code object with 1 free vars, not 0\n",
      "]\n",
      "[autoreload of torch.functional failed: Traceback (most recent call last):\n",
      "  File \"/opt/conda/envs/DLM_Py3/lib/python3.7/site-packages/IPython/extensions/autoreload.py\", line 245, in check\n",
      "    superreload(m, reload, self.old_objects)\n",
      "  File \"/opt/conda/envs/DLM_Py3/lib/python3.7/site-packages/IPython/extensions/autoreload.py\", line 394, in superreload\n",
      "    module = reload(module)\n",
      "  File \"/opt/conda/envs/DLM_Py3/lib/python3.7/imp.py\", line 314, in reload\n",
      "    return importlib.reload(module)\n",
      "  File \"/opt/conda/envs/DLM_Py3/lib/python3.7/importlib/__init__.py\", line 169, in reload\n",
      "    _bootstrap._exec(spec, module)\n",
      "  File \"<frozen importlib._bootstrap>\", line 630, in _exec\n",
      "  File \"<frozen importlib._bootstrap_external>\", line 728, in exec_module\n",
      "  File \"<frozen importlib._bootstrap>\", line 219, in _call_with_frames_removed\n",
      "  File \"/opt/conda/envs/DLM_Py3/lib/python3.7/site-packages/torch/functional.py\", line 530, in <module>\n",
      "    del torch.unique_dim\n",
      "AttributeError: unique_dim\n",
      "]\n",
      "[autoreload of torch.nn.functional failed: Traceback (most recent call last):\n",
      "  File \"/opt/conda/envs/DLM_Py3/lib/python3.7/site-packages/IPython/extensions/autoreload.py\", line 245, in check\n",
      "    superreload(m, reload, self.old_objects)\n",
      "  File \"/opt/conda/envs/DLM_Py3/lib/python3.7/site-packages/IPython/extensions/autoreload.py\", line 394, in superreload\n",
      "    module = reload(module)\n",
      "  File \"/opt/conda/envs/DLM_Py3/lib/python3.7/imp.py\", line 314, in reload\n",
      "    return importlib.reload(module)\n",
      "  File \"/opt/conda/envs/DLM_Py3/lib/python3.7/importlib/__init__.py\", line 169, in reload\n",
      "    _bootstrap._exec(spec, module)\n",
      "  File \"<frozen importlib._bootstrap>\", line 630, in _exec\n",
      "  File \"<frozen importlib._bootstrap_external>\", line 728, in exec_module\n",
      "  File \"<frozen importlib._bootstrap>\", line 219, in _call_with_frames_removed\n",
      "  File \"/opt/conda/envs/DLM_Py3/lib/python3.7/site-packages/torch/nn/functional.py\", line 54, in <module>\n",
      "    \"\"\")\n",
      "RuntimeError: function 'conv1d' already has a docstring\n",
      "]\n",
      "[autoreload of torch._torch_docs failed: Traceback (most recent call last):\n",
      "  File \"/opt/conda/envs/DLM_Py3/lib/python3.7/site-packages/IPython/extensions/autoreload.py\", line 245, in check\n",
      "    superreload(m, reload, self.old_objects)\n",
      "  File \"/opt/conda/envs/DLM_Py3/lib/python3.7/site-packages/IPython/extensions/autoreload.py\", line 394, in superreload\n",
      "    module = reload(module)\n",
      "  File \"/opt/conda/envs/DLM_Py3/lib/python3.7/imp.py\", line 314, in reload\n",
      "    return importlib.reload(module)\n",
      "  File \"/opt/conda/envs/DLM_Py3/lib/python3.7/importlib/__init__.py\", line 169, in reload\n",
      "    _bootstrap._exec(spec, module)\n",
      "  File \"<frozen importlib._bootstrap>\", line 630, in _exec\n",
      "  File \"<frozen importlib._bootstrap_external>\", line 728, in exec_module\n",
      "  File \"<frozen importlib._bootstrap>\", line 219, in _call_with_frames_removed\n",
      "  File \"/opt/conda/envs/DLM_Py3/lib/python3.7/site-packages/torch/_torch_docs.py\", line 124, in <module>\n",
      "    \"\"\".format(**common_args))\n",
      "RuntimeError: function 'abs' already has a docstring\n",
      "]\n"
     ]
    }
   ],
   "source": [
    "class_distribution_all_tiles = patient_manager.get_class_distribution(level=shared.enums.EvaluationLevel.tile, \n",
    "                                                            dataset_type=shared.enums.DatasetType.all)\n",
    "class_distribution_all_tiles"
   ]
  },
  {
   "cell_type": "code",
   "execution_count": null,
   "metadata": {},
   "outputs": [],
   "source": []
  },
  {
   "cell_type": "code",
   "execution_count": null,
   "metadata": {},
   "outputs": [],
   "source": []
  },
  {
   "cell_type": "code",
   "execution_count": null,
   "metadata": {},
   "outputs": [],
   "source": []
  },
  {
   "cell_type": "code",
   "execution_count": null,
   "metadata": {},
   "outputs": [],
   "source": [
    "train_size = 0.8\n",
    "validation_size = 0.1\n",
    "test_size = 0.1\n",
    "\n",
    "patient_manager.split(train_size=train_size, validation_size=validation_size, test_size=test_size, random_state=seed)"
   ]
  },
  {
   "cell_type": "code",
   "execution_count": null,
   "metadata": {},
   "outputs": [],
   "source": []
  },
  {
   "cell_type": "code",
   "execution_count": null,
   "metadata": {},
   "outputs": [],
   "source": []
  },
  {
   "cell_type": "code",
   "execution_count": null,
   "metadata": {},
   "outputs": [],
   "source": []
  }
 ],
 "metadata": {
  "kernelspec": {
   "display_name": "DLM Py3",
   "language": "python",
   "name": "dlm_py3"
  },
  "language_info": {
   "codemirror_mode": {
    "name": "ipython",
    "version": 3
   },
   "file_extension": ".py",
   "mimetype": "text/x-python",
   "name": "python",
   "nbconvert_exporter": "python",
   "pygments_lexer": "ipython3",
   "version": "3.7.6"
  },
  "toc": {
   "base_numbering": 1,
   "nav_menu": {},
   "number_sections": true,
   "sideBar": true,
   "skip_h1_title": false,
   "title_cell": "Table of Contents",
   "title_sidebar": "Contents",
   "toc_cell": false,
   "toc_position": {
    "height": "calc(100% - 180px)",
    "left": "10px",
    "top": "150px",
    "width": "266.6px"
   },
   "toc_section_display": true,
   "toc_window_display": true
  }
 },
 "nbformat": 4,
 "nbformat_minor": 4
}
